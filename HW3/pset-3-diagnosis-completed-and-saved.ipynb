{
 "cells": [
  {
   "cell_type": "code",
   "execution_count": null,
   "metadata": {},
   "outputs": [],
   "source": []
  },
  {
   "cell_type": "markdown",
   "metadata": {
    "tags": []
   },
   "source": [
    "# Problem Set 3: Diagnosis & Conflict-directed A*\n",
    "## Due Wednesday, March 15, 11:59 p.m.\n",
    "\n",
    "In this problem set, you'll implement conflict-directed A* (CD-A*) and use it to solve mode estimation problems for model-based diagnosis. Specifically, you'll apply it to the Boolean polycell example from lecture.\n",
    "\n",
    "<div class=\"alert alert-warning\">\n",
    "<strong>Note:</strong> We have provided a tutorial in the same folder as this notebook.\n",
    "</div>\n",
    "\n",
    "1. [Modeling](#modeling)\n",
    "  1. [Modeling example](#modeling-example)\n",
    "  2. [Modeling API](#modeling-api)\n",
    "  3. [Modeling Boolean polycell (30 pts)](#modeling-boolean-polycell)\n",
    "2. [Implementing Conflict-directed A*](#implementing-cdastar)\n",
    "  1. [Estimating probabilities of partial assignments](#estimating-probability)\n",
    "  2. [Manifesting & resolving conflicts (20 pts)](#conflicts)\n",
    "  3. [Splitting on variables & conflicts (20 pts)](#splitting)\n",
    "  4. [Search algorithm](#search-algorithm)\n",
    "  5. [Testing CD-A* (30 pts)](#testing)"
   ]
  },
  {
   "cell_type": "markdown",
   "metadata": {},
   "source": [
    "Make sure you load the dependencies below by highlighting the cell below and pressing Shift + Enter."
   ]
  },
  {
   "cell_type": "code",
   "execution_count": 4,
   "metadata": {},
   "outputs": [],
   "source": [
    "%load_ext autoreload\n",
    "%autoreload 2\n",
    "from propositional_state_logic import *\n",
    "from sat_solver import *\n",
    "from utils import *"
   ]
  },
  {
   "cell_type": "markdown",
   "metadata": {},
   "source": [
    "## Modeling <a id=\"modeling\"/>\n",
    "\n",
    "We've given you some tools to build on to make your implementation easier. Namely, we've implemented a general propositional state logic system, where you can declare variables, add arbitrary propositional constraints, check satisfiability (our SAT solver uses DPLL with unit propagation if you're curious), and automatically extract conflicts when the problem isn't satisfiable. You won't have to implement any of these since we're providing them for you. Feel free to check out the code if you're curious how they work though."
   ]
  },
  {
   "cell_type": "markdown",
   "metadata": {},
   "source": [
    "### Modeling example <a id=\"modeling-example\"/>\n",
    "\n",
    "Let's dive right in to modeling; consider the following logical word problem:\n",
    "\n",
    "> You're on a sailboat. The weather can be sunny, gusty, or rainy. Your boat can be anchored or not. The ocean can be idle or have a current. The sailboat can be stopped or moving. If the boat is anchored, it won't be moving. Otherwise, it definitely will be moving if there's ocean current or the weather is gusty. You're trying to decide where to stand on your boat: If it's moving, you don't want to be inside in your windowless cabin because you'll get seasick. If it's rainy, you don't want to stand outside on deck because you'll get soaked.\n",
    "\n",
    "Let's model this problem with the API we provide:"
   ]
  },
  {
   "cell_type": "code",
   "execution_count": 2,
   "metadata": {},
   "outputs": [
    {
     "name": "stdout",
     "output_type": "stream",
     "text": [
      "Constraints:\n"
     ]
    },
    {
     "data": {
      "text/latex": [
       "$$anchored \\Rightarrow (speed = stopped)$$"
      ],
      "text/plain": [
       "<IPython.core.display.Latex object>"
      ]
     },
     "metadata": {},
     "output_type": "display_data"
    },
    {
     "data": {
      "text/latex": [
       "$$\\neg anchored \\wedge ((ocean = current) \\vee (weather = gusty)) \\Rightarrow (speed = moving)$$"
      ],
      "text/plain": [
       "<IPython.core.display.Latex object>"
      ]
     },
     "metadata": {},
     "output_type": "display_data"
    },
    {
     "data": {
      "text/latex": [
       "$$\\neg ((standing = ondeck) \\wedge (weather = rainy))$$"
      ],
      "text/plain": [
       "<IPython.core.display.Latex object>"
      ]
     },
     "metadata": {},
     "output_type": "display_data"
    },
    {
     "data": {
      "text/latex": [
       "$$\\neg ((standing = inside) \\wedge (speed = moving))$$"
      ],
      "text/plain": [
       "<IPython.core.display.Latex object>"
      ]
     },
     "metadata": {},
     "output_type": "display_data"
    }
   ],
   "source": [
    "p = Problem()\n",
    "\n",
    "# Define the variables above. Returns a Variable object.\n",
    "weather = p.add_variable('weather', type='finite_domain', domain=['sunny', 'gusty', 'rainy'])\n",
    "anchored = p.add_variable('anchored', type='binary') # Binary variables have domain 'True' or 'False'.\n",
    "ocean = p.add_variable('ocean', type='finite_domain', domain=['idle', 'current'])\n",
    "speed = p.add_variable('speed', type='finite_domain', domain=['stopped', 'moving'])\n",
    "standing = p.add_variable('standing', type='finite_domain', domain=['ondeck', 'inside'], decision_variable=True)\n",
    "\n",
    "# Add the word problem constraints.\n",
    "p.add_constraint('anchored => speed=stopped')\n",
    "p.add_constraint('~anchored & (ocean=current | weather=gusty) => speed=moving')\n",
    "p.add_constraint('~(standing=ondeck & weather=rainy)')\n",
    "p.add_constraint('~(standing=inside & speed=moving)')\n",
    "\n",
    "# Prints out constraints nicely in LaTeX, so you can check them.\n",
    "display_constraints(p)"
   ]
  },
  {
   "cell_type": "markdown",
   "metadata": {},
   "source": [
    "Great, we've modeled our problem. Now we can ask interesting questions. Suppose it's gusty out, but you want to stand inside. Is that even possible? Let's check:"
   ]
  },
  {
   "cell_type": "code",
   "execution_count": 3,
   "metadata": {},
   "outputs": [
    {
     "data": {
      "text/plain": [
       "(True,\n",
       " frozenset({(ocean = current),\n",
       "            (speed = stopped),\n",
       "            (standing = inside),\n",
       "            (weather = gusty),\n",
       "            anchored}),\n",
       " None)"
      ]
     },
     "execution_count": 3,
     "metadata": {},
     "output_type": "execute_result"
    }
   ],
   "source": [
    "sat = SATSolver(p)\n",
    "# Make an assignment to some variables; variable.get_assignment(value) returns an Assignment.\n",
    "assignment = frozenset([weather.get_assignment('gusty'), standing.get_assignment('inside')])\n",
    "sat.check_consistency(assignment)"
   ]
  },
  {
   "cell_type": "markdown",
   "metadata": {},
   "source": [
    "Yes, it is! Even though it's windy, the boat won't be moving (and hence you won't get seasick) if you keep the anchor down. The first returned value of `sat.check_consistency(...)` is `True` if the problem is satisfiable, `False` otherwise. The second returned value is a full assignment to all variables in your problem. The final returned value (`None` here) is a conflict, if it's not consistent.\n",
    "\n",
    "Let's ask another question. You want to stand outside on deck. The weather is neither sunny nor gusty. Is that possible?"
   ]
  },
  {
   "cell_type": "code",
   "execution_count": 4,
   "metadata": {},
   "outputs": [
    {
     "data": {
      "text/plain": [
       "(False, None, frozenset({(standing = ondeck)}))"
      ]
     },
     "execution_count": 4,
     "metadata": {},
     "output_type": "execute_result"
    }
   ],
   "source": [
    "pn = p.copy() # Make an additional copy so we can add another constraint.\n",
    "pn.add_constraint('~(weather=sunny | weather=gusty)')\n",
    "pn.add_constraint('standing=ondeck')\n",
    "sat = SATSolver(pn)\n",
    "sat.check_consistency(frozenset())"
   ]
  },
  {
   "cell_type": "markdown",
   "metadata": {},
   "source": [
    "No, that's not possible! Intuitively that makes sense; the weather must be rainy, and you can't stand outside while it's rainy. The first return value, `False`, indicates that this problem is not satisfiable. Hence the middle return value (assignments) is None. The final return value is a conflict, namely, a set of decision variables that cannot all hold true. We only have one decision variable in this toy example, but we correctly extract the conflict that we can't stand on deck."
   ]
  },
  {
   "cell_type": "markdown",
   "metadata": {},
   "source": [
    "### Modeling API <a id=\"modeling-api\"/>\n",
    "\n",
    "You can use the following operators, in addition to parentheses `(` and `)`, to build up your constraints:\n",
    "\n",
    "| Name | Logical notation | Operator to use in formulas \n",
    "|:---:|:---:|:---:|\n",
    "| And | $$ a_1 \\wedge a_2 \\wedge ... a_k $$ | `a_1 & a_2 & ... & a_k` |\n",
    "| Or | $$ a_1 \\vee a_2 \\vee ... \\vee a_k $$ | `a_1 `&#124;`a_2`&#124;`...`&#124;`a_k`  |\n",
    "| Not | $$ \\neg a $$ | ~x |\n",
    "| Xor | $$ a_1 \\oplus a_2 \\oplus ... \\oplus a_k $$ | `a_1 ^ a_2 ^ ... a^k`  |\n",
    "| Implication | $$ x \\Rightarrow y $$ | `x => y` |\n",
    "| Equivalence | $$ x \\Leftrightarrow y $$ | `x <=> y` |"
   ]
  },
  {
   "cell_type": "markdown",
   "metadata": {},
   "source": [
    "You likely noticed you have to provide some information when you declare variables. A variable's `type` can be `'binary'` or `'finite_domain'`. `'binary'` variables automatically have a domain of `True` or `False`. `'finite_domain'` variables have a custom domain that you specify as a list. (Internally in the tools, they get compiled down to binary variables, one per domain value, representing whether the variable takes that value. We also add some additional constraints to make sure that exactly one of those values holds at a time.)\n",
    "\n",
    "Notice that when we declared the `standing` variable, we also marked it as a `decision_variable`. All this is does is mark the variable as one over which we'll require a utility function to be defined (in our case, that utility is probability). These decision variables are what conflict-directed A* will be searching over. Our SAT-based consistency checker will search over all remaining variables during consistency checking. In this problem set, mode variables will be our decision variables. Note that any returned conflicts only involve decision variables.\n",
    "\n",
    "We'll be representing partial assignemnts as `frozenset`s of Assignment objects (you may wish to review `set`s and `frozenset`s in Python). Briefly, a `frozenset` behaves like a normal `set`, except that it is immutable so you can't add or remove elements from it once it's created. This allows `frozenset`s to be hashable, so you can use them inside other `set`s or `frozenset`s and quickly check for membership.\n",
    "\n",
    "Here are some other API functions you may find useful:\n",
    "\n",
    "- `variable.domain` - A `frozenset` of values in this variable's domain.\n",
    "- `variable.get_assignment(di)` - Returns an Assignment object assigning variable = di. An assignment object is just a single assignment, like $x = 1$.\n",
    "- `assignment.var` - Returns the variable associated with the Assignment object.\n",
    "- `assignment.val` - Returns the value associated with the Assignment object.\n",
    "- `assignment.prob` - Returns the probability associated with this Assignment, if it's been set, else None. (You'll see how to set probabilities later in this notebook.)\n",
    "- `prob.get_decision_variables()` - Returns a frozenset of all variables add to this problem that were marked as decision variables.\n",
    "\n",
    "For more details, please refer to the Python files included at the top of this notebook."
   ]
  },
  {
   "cell_type": "markdown",
   "metadata": {},
   "source": [
    "### Modeling Boolean polycell (30 points) <a id=\"modeling-boolean-polycell\"/>\n",
    "\n",
    "First, we'll model the Boolean polycell example presented in lecture. We'll use propositional state logic to represent the operation of the system."
   ]
  },
  {
   "cell_type": "markdown",
   "metadata": {},
   "source": [
    "Recall the Boolean polycell example:\n",
    "<img src=\"polycell.svg\">"
   ]
  },
  {
   "cell_type": "markdown",
   "metadata": {},
   "source": [
    "Below, we set up a problem and associated variables. Later, we'll add probabilities as well as observations such as `A=True`."
   ]
  },
  {
   "cell_type": "code",
   "execution_count": 50,
   "metadata": {},
   "outputs": [],
   "source": [
    "polycell = Problem()\n",
    "\n",
    "# Variables\n",
    "A1 = polycell.add_variable('A1', type='finite_domain', domain=['G', 'U'], decision_variable=True)\n",
    "A2 = polycell.add_variable('A2', type='finite_domain', domain=['G', 'U'], decision_variable=True)\n",
    "A3 = polycell.add_variable('A3', type='finite_domain', domain=['G', 'U'], decision_variable=True)\n",
    "X1 = polycell.add_variable('X1', type='finite_domain', domain=['G', 'U'], decision_variable=True)\n",
    "X2 = polycell.add_variable('X2', type='finite_domain', domain=['G', 'U'], decision_variable=True)\n",
    "A = polycell.add_variable('A', type='binary')\n",
    "B = polycell.add_variable('B', type='binary')\n",
    "C = polycell.add_variable('C', type='binary')\n",
    "D = polycell.add_variable('D', type='binary')\n",
    "E = polycell.add_variable('E', type='binary')\n",
    "F = polycell.add_variable('F', type='binary')\n",
    "G = polycell.add_variable('G', type='binary')\n",
    "X = polycell.add_variable('X', type='binary')\n",
    "Y = polycell.add_variable('Y', type='binary')\n",
    "Z = polycell.add_variable('Z', type='binary')"
   ]
  },
  {
   "cell_type": "markdown",
   "metadata": {},
   "source": [
    "Enter your model constraints here:\n",
    "\n",
    "<div class=\"alert alert-info\">\n",
    "Add your model constraints below. Don't add any \"observation\" constraints yet (e.g., like A = True, etc.); just model constraints about the polycell components' behavior. We'll add the observations later.\n",
    "</div>"
   ]
  },
  {
   "cell_type": "code",
   "execution_count": 51,
   "metadata": {
    "deletable": false,
    "nbgrader": {
     "cell_type": "code",
     "checksum": "07fc61dfc525d882af3b4f97eb6dfd7b",
     "grade": false,
     "grade_id": "polycell_constraints",
     "locked": false,
     "schema_version": 3,
     "solution": true
    }
   },
   "outputs": [
    {
     "name": "stdout",
     "output_type": "stream",
     "text": [
      "Constraints:\n"
     ]
    },
    {
     "data": {
      "text/latex": [
       "$$\\neg (A \\wedge C \\Leftrightarrow X) \\Rightarrow (A1 = U)$$"
      ],
      "text/plain": [
       "<IPython.core.display.Latex object>"
      ]
     },
     "metadata": {},
     "output_type": "display_data"
    },
    {
     "data": {
      "text/latex": [
       "$$\\neg (B \\wedge D \\Leftrightarrow Y) \\Rightarrow (A2 = U)$$"
      ],
      "text/plain": [
       "<IPython.core.display.Latex object>"
      ]
     },
     "metadata": {},
     "output_type": "display_data"
    },
    {
     "data": {
      "text/latex": [
       "$$\\neg (C \\wedge E \\Leftrightarrow Z) \\Rightarrow (A3 = U)$$"
      ],
      "text/plain": [
       "<IPython.core.display.Latex object>"
      ]
     },
     "metadata": {},
     "output_type": "display_data"
    },
    {
     "data": {
      "text/latex": [
       "$$\\neg (X \\oplus Y \\Leftrightarrow F) \\Rightarrow (X1 = U)$$"
      ],
      "text/plain": [
       "<IPython.core.display.Latex object>"
      ]
     },
     "metadata": {},
     "output_type": "display_data"
    },
    {
     "data": {
      "text/latex": [
       "$$\\neg (Y \\oplus Z \\Leftrightarrow G) \\Rightarrow (X2 = U)$$"
      ],
      "text/plain": [
       "<IPython.core.display.Latex object>"
      ]
     },
     "metadata": {},
     "output_type": "display_data"
    }
   ],
   "source": [
    "polycell.clear_constraints()\n",
    "\n",
    "# polycell.add_constraint(' ... ')\n",
    "# ...\n",
    "\n",
    "# YOUR CODE HERE\n",
    "polycell.add_constraint('~(A & C <=> X) => A1=U')\n",
    "polycell.add_constraint('~(B & D <=> Y) => A2=U')\n",
    "polycell.add_constraint('~(C & E <=> Z) => A3=U')\n",
    "polycell.add_constraint('~(X ^ Y <=> F) => X1=U')\n",
    "polycell.add_constraint('~(Y ^ Z <=> G) => X2=U')\n",
    "\n",
    "display_constraints(polycell)"
   ]
  },
  {
   "cell_type": "markdown",
   "metadata": {},
   "source": [
    "You can check your model here. This code will run a few tests against your model (but it isn't exhaustive!)."
   ]
  },
  {
   "cell_type": "code",
   "execution_count": 52,
   "metadata": {
    "deletable": false,
    "editable": false,
    "nbgrader": {
     "cell_type": "code",
     "checksum": "a2b1848dc68cca8393152b3dd3474301",
     "grade": true,
     "grade_id": "polycell_constraints_tests",
     "locked": true,
     "points": 30,
     "schema_version": 3,
     "solution": false
    }
   },
   "outputs": [
    {
     "name": "stdout",
     "output_type": "stream",
     "text": [
      "Checking mode and observation variables...\n",
      "Checking A1...\n",
      "Checking A2...\n",
      "Checking A3...\n",
      "Checking X1...\n",
      "Checking X2...\n"
     ]
    },
    {
     "data": {
      "text/html": [
       "<div class=\"alert alert-success\">\n",
       "        <strong>Tests passed!!</strong>\n",
       "        </div>"
      ]
     },
     "metadata": {},
     "output_type": "display_data"
    }
   ],
   "source": [
    "check_polycell_problem(polycell)\n",
    "test_ok()"
   ]
  },
  {
   "cell_type": "markdown",
   "metadata": {},
   "source": [
    "## Implement Conflict-directed A* <a id=\"implementing-cdastar\"/>\n",
    "\n",
    "In this section, you'll implement conflict-directed A*. Please note that the _tutorial_ distributed with this notebook may help if you're unclear about how the algorithm works.\n",
    "\n",
    "The following exercises will ask you to implement various functions, culminating in conflict-directed A*. Please define all functions below, and feel free to define any additional auxiliary functions if you want."
   ]
  },
  {
   "cell_type": "markdown",
   "metadata": {},
   "source": [
    "### Estimating probabilities of partial assignments <a id=\"estimating-probability\">\n",
    "\n",
    "Here, we return an optimistic estimate of the partial assignment's probability. This should both take into account the assigned variables, as well as all of the unassigned variables."
   ]
  },
  {
   "cell_type": "code",
   "execution_count": 53,
   "metadata": {},
   "outputs": [],
   "source": [
    "def get_max_probability_value(variable):\n",
    "    return max(variable.get_assignment(di).prob for di in variable.domain)\n",
    "\n",
    "def estimate_assignment_probability(assignments, decision_variables):\n",
    "    \"\"\"Optimistically estimates the probability of this assignment.\n",
    "    \n",
    "    Input: assignments - A frozenset of Assignment objects representing a partial assignment \n",
    "                         to decision variables.\n",
    "           decision_variables - A frozenset of all of the problems' decision variables.\n",
    "    Output: An admissible/optimistic estimate of the probability of of assignments.\n",
    "    \"\"\"\n",
    "    p_a = 1.0\n",
    "    # Probabilty of assignments\n",
    "    for assignment in assignments:\n",
    "        p_a *= assignment.prob\n",
    "    # Unassigned variables: choose best unassigned heuristic\n",
    "    for var in decision_variables - set(assignment.var for assignment in assignments):\n",
    "        p_a *= get_max_probability_value(var)\n",
    "    return p_a"
   ]
  },
  {
   "cell_type": "markdown",
   "metadata": {},
   "source": [
    "### Manifesting & resolving conflicts (20 pts) <a id=\"conflicts\"/>\n",
    "\n",
    "Next, please implement functions for checking whether partial assignments manifest (given to you) or resolve conflicts.\n",
    "\n",
    "<div class=\"alert alert-info\">\n",
    "Complete the functions below.\n",
    "</div>"
   ]
  },
  {
   "cell_type": "code",
   "execution_count": 54,
   "metadata": {
    "deletable": false,
    "nbgrader": {
     "cell_type": "code",
     "checksum": "19177db989c0c72d738097eebf9d13f2",
     "grade": false,
     "grade_id": "conflicts",
     "locked": false,
     "schema_version": 3,
     "solution": true
    }
   },
   "outputs": [],
   "source": [
    "# Any auxiliary functions:\n",
    "# YOUR CODE HERE\n",
    "\n",
    "def manifests_conflict(assignments, conflict):\n",
    "    \"\"\"Checks to see if assignments manifests the conflict.\n",
    "\n",
    "    Input: assignments - A frozenset of Assignment objects representing a partial assignment \n",
    "                         to decision variables.\n",
    "           conflict - A frozenset of Assignment objects representing a conflict.\n",
    "    Output: True or False.\n",
    "    \"\"\"\n",
    "    return conflict.issubset(assignments)\n",
    "\n",
    "def resolves_conflict(assignments, conflict):\n",
    "    \"\"\"Checks to see if assignments resolves the conflict.\n",
    "\n",
    "    Input: assignments - A frozenset of Assignment objects representing a partial assignment \n",
    "                         to decision variables.\n",
    "           conflict - A frozenset of Assignment objects representing a conflict.\n",
    "    Output: True or False.\n",
    "    \"\"\"\n",
    "    # YOUR CODE HERE\n",
    "    conflictExists = manifests_conflict(assignments, conflict)\n",
    "    return (not conflictExists)\n",
    "    "
   ]
  },
  {
   "cell_type": "code",
   "execution_count": 55,
   "metadata": {},
   "outputs": [],
   "source": [
    "def resolves_conflict(assignments, conflict):\n",
    "    \"\"\"Checks to see if assignments resolves the conflict.\n",
    "\n",
    "    Input: assignments - A frozenset of Assignment objects representing a partial assignment \n",
    "                         to decision variables.\n",
    "           conflict - A frozenset of Assignment objects representing a conflict.\n",
    "    Output: True or False.\n",
    "    \"\"\"\n",
    "    all_resolving_assignments=set()\n",
    "    for i in conflict:\n",
    "        conflicted_var = i.var\n",
    "        conflicted_var_domain = i.var.domain\n",
    "        conflicted_assignment = i.val\n",
    "        resolving_assignments = set(conflicted_var.get_assignment(j) for j in conflicted_var_domain if j != conflicted_assignment)\n",
    "        all_resolving_assignments = all_resolving_assignments.union(resolving_assignments)\n",
    "    for resolving in all_resolving_assignments:\n",
    "        if resolving in assignments:\n",
    "            return True\n",
    "    return False"
   ]
  },
  {
   "cell_type": "markdown",
   "metadata": {},
   "source": [
    "You can test your function with the following code."
   ]
  },
  {
   "cell_type": "code",
   "execution_count": 56,
   "metadata": {
    "deletable": false,
    "editable": false,
    "nbgrader": {
     "cell_type": "code",
     "checksum": "ad02203bb9097c2b27baec61c973779f",
     "grade": true,
     "grade_id": "conflicts_tests",
     "locked": true,
     "points": 20,
     "schema_version": 3,
     "solution": false
    }
   },
   "outputs": [
    {
     "data": {
      "text/html": [
       "<div class=\"alert alert-success\">\n",
       "        <strong>Tests passed!!</strong>\n",
       "        </div>"
      ]
     },
     "metadata": {},
     "output_type": "display_data"
    }
   ],
   "source": [
    "check_resolves_conflict(resolves_conflict)\n",
    "test_ok()"
   ]
  },
  {
   "cell_type": "markdown",
   "metadata": {},
   "source": [
    "### Splitting on variables & conflicts (20 pts) <a id=\"splitting\"/>\n",
    "\n",
    "Please implement the `split_on_conflict` function below. The other functions are given to you, and might be useful later for the search algorithm.\n",
    "\n",
    "<div class=\"alert alert-info\">\n",
    "Complete the functions below.\n",
    "</div>"
   ]
  },
  {
   "cell_type": "code",
   "execution_count": 57,
   "metadata": {
    "deletable": false,
    "nbgrader": {
     "cell_type": "code",
     "checksum": "3a9b18ae8146866837b4e10ace7eadde",
     "grade": false,
     "grade_id": "splitting",
     "locked": false,
     "schema_version": 3,
     "solution": true
    }
   },
   "outputs": [],
   "source": [
    "# Any auxiliary functions:\n",
    "def generate_constituent_kernels(conflict):\n",
    "    \"\"\"Apply De Morgan's Law and generate the constituent kernels\n",
    "    \n",
    "       Input: conflict - A frozenset of Assignment objects representing a conflict\n",
    "       \n",
    "       Output: a constituent kernel\n",
    "    \"\"\"\n",
    "    constituent_kernel=[]\n",
    "    \n",
    "    for ci in conflict:\n",
    "        \n",
    "        #get all possible assignments for var of ci\n",
    "        for value in ci.var.domain:\n",
    "            \n",
    "            #if assignment not conflict, append to kernel\n",
    "            if value != ci.val:\n",
    "                constituent_kernel.append(frozenset([ci.var.get_assignment(value)]))\n",
    "    \n",
    "    return constituent_kernel\n",
    "                \n",
    "\n",
    "def choose_variable_to_split_on(assignments, decision_variables):\n",
    "    \"\"\"Choose an unassigned variable to split on.\n",
    "\n",
    "       Input: assignments - A frozenset of Assignment objects.\n",
    "              decision_variables - A frozenset of all the decision variables.\n",
    "    \"\"\"\n",
    "    vars_unassigned = decision_variables - frozenset(assignment.var for assignment in assignments)\n",
    "    return list(vars_unassigned)[0]\n",
    "\n",
    "def split_on_variable(assignments, variable):\n",
    "    \"\"\"Split on variable, returning a list of neighboring states.\n",
    "    \n",
    "    Input: assignments - A frozenset of Assignment objects representing a partial assignment.\n",
    "           variable - A variable, not represented by an Assignment in assignments, on \n",
    "                      which to split via its domain values.\n",
    "    \n",
    "    Output: A list of frozensets of Assignment objects, representing a list of neighboring\n",
    "            states.\n",
    "    \"\"\"\n",
    "    neighbors = [(assignments | frozenset([variable.get_assignment(di)])) for di in variable.domain]\n",
    "    return neighbors\n",
    "    \n",
    "def split_on_conflict(assignments, conflict):\n",
    "    \"\"\"Split on conflict, returning a list of neighboring states.\n",
    "    \n",
    "    Input: assignments - A frozenset of Assignment objects representing a partial assignment.\n",
    "           conflict - A frozenset of Assignment objects representing a conflict.\n",
    "    \n",
    "    Output: A list of frozensets of Assignment objects, representing a list of neighboring\n",
    "            states.\n",
    "    \"\"\"\n",
    "    \n",
    "    constituent_kernels = generate_constituent_kernels(conflict)\n",
    "    \n",
    "    neighbors = [assignments.union(ci) for ci in constituent_kernels]\n",
    "    \n",
    "    return neighbors"
   ]
  },
  {
   "cell_type": "markdown",
   "metadata": {},
   "source": [
    "Test below."
   ]
  },
  {
   "cell_type": "code",
   "execution_count": 58,
   "metadata": {
    "deletable": false,
    "editable": false,
    "nbgrader": {
     "cell_type": "code",
     "checksum": "b4cca7a919339243d9f2523ae8067563",
     "grade": true,
     "grade_id": "splitting_tests",
     "locked": true,
     "points": 20,
     "schema_version": 3,
     "solution": false
    }
   },
   "outputs": [
    {
     "data": {
      "text/html": [
       "<div class=\"alert alert-success\">\n",
       "        <strong>Tests passed!!</strong>\n",
       "        </div>"
      ]
     },
     "metadata": {},
     "output_type": "display_data"
    }
   ],
   "source": [
    "check_split_on_conflict(split_on_conflict)\n",
    "test_ok()"
   ]
  },
  {
   "cell_type": "markdown",
   "metadata": {},
   "source": [
    "### Search algorithm <a id=\"search-algorithm\"/>\n",
    "\n",
    "Now that you've implemented a number of useful helper functions, please use them to implement the main conflict-directed A* search algorithm below. We have written up most of the code, so you only need to fill in the missing logic.\n",
    "\n",
    "<div class=\"alert alert-info\">\n",
    "Complete the function below.\n",
    "</div>"
   ]
  },
  {
   "cell_type": "code",
   "execution_count": 71,
   "metadata": {
    "deletable": false,
    "nbgrader": {
     "cell_type": "code",
     "checksum": "50acb74f0f422ed9f9214e246abed883",
     "grade": false,
     "grade_id": "cdastar",
     "locked": false,
     "schema_version": 3,
     "solution": true
    }
   },
   "outputs": [],
   "source": [
    "import heapq\n",
    "\n",
    "# Any auxiliary functions here:\n",
    "def add_to_priority_queue(Q, assignments, decision_variables):\n",
    "    # Calculate f(x) = g(x) + h(x), where h is an admissible\n",
    "    # heuristic for this assignment.\n",
    "    p = estimate_assignment_probability(assignments, decision_variables)\n",
    "    # Add to max priority queue (so negate).\n",
    "    heapq.heappush(Q, (-p, assignments))\n",
    "    \n",
    "def is_complete_assignment(assignments, decision_variables):\n",
    "    return decision_variables == set(assignment.var for assignment in assignments)\n",
    "\n",
    "def conflict_directed_a_star(prob):\n",
    "    \"\"\"Main CD-A* function.\n",
    "\n",
    "    Input: prob - A problem object like you declared above.\n",
    "    Output: An assignment to all decision variables, represented as a frozenset of\n",
    "            Assignment objects (note that only decision variables should be assigned).\n",
    "            The returned result should be an optimal solution to the CSP. If no solution\n",
    "            exists, returns None.\n",
    "    \"\"\"\n",
    "    # Set up.\n",
    "    decision_variables = prob.get_decision_variables()\n",
    "    sat_solver = SATSolver(prob)\n",
    "    Q = []\n",
    "    Gamma = []\n",
    "    expanded = set()\n",
    "    add_to_priority_queue(Q, frozenset(), decision_variables)\n",
    "    print(Q)\n",
    "    while len(Q) > 0:\n",
    "        # Pop Q and and the assignment to the expanded list.\n",
    "        p, assignment = heapq.heappop(Q)\n",
    "        print(\"Popped {} with p={}.\".format(assignment, -p))\n",
    "        expanded.add(assignment)\n",
    "        # Remove any identical assignments from Q (optional).\n",
    "        Q = [(p, a) for (p, a) in Q if a != assignment]\n",
    "\n",
    "        if is_complete_assignment(assignment, decision_variables):\n",
    "            print(\" --> Checking consistency.\")\n",
    "            consistent, a, conflict = sat_solver.check_consistency(assignment)\n",
    "            if consistent:\n",
    "                print(\" --> Yep! Done.\")\n",
    "                return assignment # Could also use yield to make a generator and keep enumerating!\n",
    "            else:\n",
    "                print(\" --> Nope! Got conflict {}.\".format(conflict))\n",
    "                # Learn this conflict! Add it to Gamma if no gamma is already more general than\n",
    "                # the conflict. Also discard any gammas that the conflict is more general than.\n",
    "                if any(gamma.issubset(conflict) for gamma in Gamma):\n",
    "                    continue\n",
    "                Gamma = [gamma for gamma in Gamma if not conflict.issubset(gamma)]\n",
    "                Gamma.append(conflict)\n",
    "                # Remove assignments from Q manifesting this conflict.\n",
    "                Q = [(p, a) for (p, a) in Q if not manifests_conflict(a, conflict)]\n",
    "                heapq.heapify(Q)\n",
    "\n",
    "        else:\n",
    "            # Assignment is not a full assignment.\n",
    "\n",
    "            # Implement the logic to either split on an unassigned variable,\n",
    "            # or split on a conflict. Note that if there are unresolved conflicts,\n",
    "            # you'll need to split on one of them first.\n",
    "            # The neighbors created in each case will be added to Q later.\n",
    "            # Remember: You have implemented these functions:\n",
    "            #     - resolves_conflict\n",
    "            #     - choose_variable_to_split_on (given to you)\n",
    "            #     - split_on_variable (given to you)\n",
    "            #     - split_on_conflict\n",
    "            # If you read the other parts of the code, you'll see that Gamma is our set of conflicts.\n",
    "\n",
    "            # YOUR CODE HERE\n",
    "            conflict_exists = False\n",
    "            \n",
    "            for conflict in Gamma:\n",
    "                if manifests_conflict(assignment, conflict):\n",
    "                    conflict_exists = True\n",
    "                    neighbors = split_on_conflict(assignment, conflict)\n",
    "            \n",
    "            if not conflict_exists: \n",
    "                xi = choose_variable_to_split_on(assignment, decision_variables)\n",
    "                neighbors = split_on_variable(assignment, xi)\n",
    "\n",
    "            # Add neighbors to the Q.\n",
    "            for neigh in neighbors:\n",
    "                if not neigh in expanded:\n",
    "                    print(\" --> Adding {}\".format(neigh))\n",
    "                    add_to_priority_queue(Q, neigh, decision_variables)\n",
    "\n",
    "    # If we get here, no assignments found!\n",
    "    return None"
   ]
  },
  {
   "cell_type": "markdown",
   "metadata": {},
   "source": [
    "### Testing CD-A* (30 pts) <a id=\"testing\"/>\n",
    "\n",
    "You're done implementing conflict-directed A*! Time to test it. Let's also add some observation constraints:"
   ]
  },
  {
   "cell_type": "code",
   "execution_count": 72,
   "metadata": {
    "deletable": false,
    "editable": false,
    "nbgrader": {
     "cell_type": "code",
     "checksum": "bfe644ac65301a4bd16da331e6387ef5",
     "grade": false,
     "grade_id": "cdastar_prep",
     "locked": true,
     "schema_version": 3,
     "solution": false
    }
   },
   "outputs": [
    {
     "name": "stdout",
     "output_type": "stream",
     "text": [
      "Constraints:\n"
     ]
    },
    {
     "data": {
      "text/latex": [
       "$$\\neg (A \\wedge C \\wedge X \\vee \\neg (A \\wedge C) \\wedge \\neg X) \\Rightarrow (A1 = U)$$"
      ],
      "text/plain": [
       "<IPython.core.display.Latex object>"
      ]
     },
     "metadata": {},
     "output_type": "display_data"
    },
    {
     "data": {
      "text/latex": [
       "$$\\neg (B \\wedge D \\wedge Y \\vee \\neg (B \\wedge D) \\wedge \\neg Y) \\Rightarrow (A2 = U)$$"
      ],
      "text/plain": [
       "<IPython.core.display.Latex object>"
      ]
     },
     "metadata": {},
     "output_type": "display_data"
    },
    {
     "data": {
      "text/latex": [
       "$$\\neg (C \\wedge E \\wedge Z \\vee \\neg (C \\wedge E) \\wedge \\neg Z) \\Rightarrow (A3 = U)$$"
      ],
      "text/plain": [
       "<IPython.core.display.Latex object>"
      ]
     },
     "metadata": {},
     "output_type": "display_data"
    },
    {
     "data": {
      "text/latex": [
       "$$\\neg ((\\neg X \\wedge Y \\vee X \\wedge \\neg Y) \\wedge F \\vee \\neg (\\neg X \\wedge Y \\vee X \\wedge \\neg Y) \\wedge \\neg F) \\Rightarrow (X1 = U)$$"
      ],
      "text/plain": [
       "<IPython.core.display.Latex object>"
      ]
     },
     "metadata": {},
     "output_type": "display_data"
    },
    {
     "data": {
      "text/latex": [
       "$$\\neg ((\\neg Y \\wedge Z \\vee Y \\wedge \\neg Z) \\wedge G \\vee \\neg (\\neg Y \\wedge Z \\vee Y \\wedge \\neg Z) \\wedge \\neg G) \\Rightarrow (X2 = U)$$"
      ],
      "text/plain": [
       "<IPython.core.display.Latex object>"
      ]
     },
     "metadata": {},
     "output_type": "display_data"
    },
    {
     "data": {
      "text/latex": [
       "$$A$$"
      ],
      "text/plain": [
       "<IPython.core.display.Latex object>"
      ]
     },
     "metadata": {},
     "output_type": "display_data"
    },
    {
     "data": {
      "text/latex": [
       "$$B$$"
      ],
      "text/plain": [
       "<IPython.core.display.Latex object>"
      ]
     },
     "metadata": {},
     "output_type": "display_data"
    },
    {
     "data": {
      "text/latex": [
       "$$C$$"
      ],
      "text/plain": [
       "<IPython.core.display.Latex object>"
      ]
     },
     "metadata": {},
     "output_type": "display_data"
    },
    {
     "data": {
      "text/latex": [
       "$$\\neg D$$"
      ],
      "text/plain": [
       "<IPython.core.display.Latex object>"
      ]
     },
     "metadata": {},
     "output_type": "display_data"
    },
    {
     "data": {
      "text/latex": [
       "$$E$$"
      ],
      "text/plain": [
       "<IPython.core.display.Latex object>"
      ]
     },
     "metadata": {},
     "output_type": "display_data"
    },
    {
     "data": {
      "text/latex": [
       "$$\\neg F$$"
      ],
      "text/plain": [
       "<IPython.core.display.Latex object>"
      ]
     },
     "metadata": {},
     "output_type": "display_data"
    },
    {
     "data": {
      "text/latex": [
       "$$G$$"
      ],
      "text/plain": [
       "<IPython.core.display.Latex object>"
      ]
     },
     "metadata": {},
     "output_type": "display_data"
    }
   ],
   "source": [
    "polycell_obs = polycell.copy()\n",
    "polycell_obs.add_constraint('A = True')\n",
    "polycell_obs.add_constraint('B = True')\n",
    "polycell_obs.add_constraint('C = True')\n",
    "polycell_obs.add_constraint('D = False')\n",
    "polycell_obs.add_constraint('E = True')\n",
    "polycell_obs.add_constraint('F = False')\n",
    "polycell_obs.add_constraint('G = True')\n",
    "\n",
    "display_constraints(polycell_obs)"
   ]
  },
  {
   "cell_type": "markdown",
   "metadata": {},
   "source": [
    "Next, we can specify the utility of the decision variables (i.e., the probability of various modes). Remember that we're making an independence assumption here. Then, run conflict-directed A*!"
   ]
  },
  {
   "cell_type": "code",
   "execution_count": 73,
   "metadata": {
    "deletable": false,
    "editable": false,
    "nbgrader": {
     "cell_type": "code",
     "checksum": "ab78b4397746d7fd4819c04a488c25ee",
     "grade": false,
     "grade_id": "cdastar-probs",
     "locked": true,
     "schema_version": 3,
     "solution": false
    }
   },
   "outputs": [
    {
     "data": {
      "text/plain": [
       "True"
      ]
     },
     "execution_count": 73,
     "metadata": {},
     "output_type": "execute_result"
    }
   ],
   "source": [
    "A1.set_probabilities({\n",
    "    'G': 0.96,\n",
    "    'U': 0.04,\n",
    "})\n",
    "A2.set_probabilities({\n",
    "    'G': 0.95,\n",
    "    'U': 0.05,\n",
    "})\n",
    "A3.set_probabilities({\n",
    "    'G': 0.97,\n",
    "    'U': 0.03,\n",
    "})\n",
    "X1.set_probabilities({\n",
    "    'G': 0.98,\n",
    "    'U': 0.02,\n",
    "})\n",
    "X2.set_probabilities({\n",
    "    'G': 0.99,\n",
    "    'U': 0.01,\n",
    "})\n",
    "polycell.check_probabilities() # Make sure they sum to 1."
   ]
  },
  {
   "cell_type": "markdown",
   "metadata": {},
   "source": [
    "And now we can check the solution:"
   ]
  },
  {
   "cell_type": "code",
   "execution_count": 74,
   "metadata": {
    "deletable": false,
    "editable": false,
    "nbgrader": {
     "cell_type": "code",
     "checksum": "f2d16838931d98c41a393b887bf06b70",
     "grade": true,
     "grade_id": "cdastar-test-1",
     "locked": true,
     "points": 10,
     "schema_version": 3,
     "solution": false
    }
   },
   "outputs": [
    {
     "name": "stdout",
     "output_type": "stream",
     "text": [
      "[(-0.8582777279999999, frozenset())]\n",
      "Popped frozenset() with p=0.8582777279999999.\n",
      " --> Adding frozenset({(A3 = U)})\n",
      " --> Adding frozenset({(A3 = G)})\n",
      "Popped frozenset({(A3 = G)}) with p=0.8582777279999999.\n",
      " --> Adding frozenset({(A3 = G), (X1 = U)})\n",
      " --> Adding frozenset({(A3 = G), (X1 = G)})\n",
      "Popped frozenset({(A3 = G), (X1 = G)}) with p=0.8582777279999999.\n",
      " --> Adding frozenset({(A1 = U), (A3 = G), (X1 = G)})\n",
      " --> Adding frozenset({(A3 = G), (X1 = G), (A1 = G)})\n",
      "Popped frozenset({(A3 = G), (X1 = G), (A1 = G)}) with p=0.8582777279999999.\n",
      " --> Adding frozenset({(A3 = G), (X1 = G), (A2 = U), (A1 = G)})\n",
      " --> Adding frozenset({(A3 = G), (X1 = G), (A2 = G), (A1 = G)})\n",
      "Popped frozenset({(A3 = G), (X1 = G), (A2 = G), (A1 = G)}) with p=0.8582777279999999.\n",
      " --> Adding frozenset({(A3 = G), (A2 = G), (X1 = G), (X2 = U), (A1 = G)})\n",
      " --> Adding frozenset({(A3 = G), (A2 = G), (X2 = G), (X1 = G), (A1 = G)})\n",
      "Popped frozenset({(A3 = G), (A2 = G), (X2 = G), (X1 = G), (A1 = G)}) with p=0.8582777279999999.\n",
      " --> Checking consistency.\n",
      " --> Nope! Got conflict frozenset({(X1 = G), (A2 = G), (A1 = G)}).\n",
      "Popped frozenset({(A3 = G), (X1 = G), (A2 = U), (A1 = G)}) with p=0.045172512000000005.\n",
      " --> Adding frozenset({(A3 = G), (A2 = U), (X1 = G), (X2 = U), (A1 = G)})\n",
      " --> Adding frozenset({(A3 = G), (A2 = U), (X2 = G), (X1 = G), (A1 = G)})\n",
      "Popped frozenset({(A3 = G), (A2 = U), (X2 = G), (X1 = G), (A1 = G)}) with p=0.045172512.\n",
      " --> Checking consistency.\n",
      " --> Nope! Got conflict frozenset({(X2 = G), (A3 = G), (X1 = G), (A1 = G)}).\n",
      "Popped frozenset({(A1 = U), (A3 = G), (X1 = G)}) with p=0.035761572000000005.\n",
      " --> Adding frozenset({(A1 = U), (A3 = G), (X1 = G), (A2 = U)})\n",
      " --> Adding frozenset({(A1 = U), (A3 = G), (X1 = G), (A2 = G)})\n",
      "Popped frozenset({(A1 = U), (A3 = G), (X1 = G), (A2 = G)}) with p=0.035761572000000005.\n",
      " --> Adding frozenset({(A1 = U), (A3 = G), (A2 = G), (X1 = G), (X2 = U)})\n",
      " --> Adding frozenset({(A1 = U), (A3 = G), (A2 = G), (X2 = G), (X1 = G)})\n",
      "Popped frozenset({(A1 = U), (A3 = G), (A2 = G), (X2 = G), (X1 = G)}) with p=0.03576157199999999.\n",
      " --> Checking consistency.\n",
      " --> Yep! Done.\n",
      "Solution: frozenset({(A1 = U), (A3 = G), (A2 = G), (X2 = G), (X1 = G)})\n"
     ]
    },
    {
     "data": {
      "text/html": [
       "<div class=\"alert alert-success\">\n",
       "        <strong>Tests passed!!</strong>\n",
       "        </div>"
      ]
     },
     "metadata": {},
     "output_type": "display_data"
    }
   ],
   "source": [
    "# Run conflict-directed A*!\n",
    "solution = conflict_directed_a_star(polycell_obs)\n",
    "print(\"Solution: {}\".format(solution))\n",
    "\n",
    "# Is it the right solution?\n",
    "assert_equal(solution, frozenset([A1.get_assignment('U'), A2.get_assignment('G'), A3.get_assignment('G'), X1.get_assignment('G'), X2.get_assignment('G')]))\n",
    "test_ok()"
   ]
  },
  {
   "cell_type": "markdown",
   "metadata": {},
   "source": [
    "In the above example, the most likely single fault was `A2 = U`. However, there would be no assignment to `X`, `Y`, and `Z` consistent with that and the given inputs and outputs. The next most likely single fault would be `A1 = U`, and it turns out this is a consistent diagnosis, so that's the result we expect from CD-A*. Now, let's change the testing example so that `X1 = U` is more likely."
   ]
  },
  {
   "cell_type": "code",
   "execution_count": 75,
   "metadata": {
    "deletable": false,
    "editable": false,
    "nbgrader": {
     "cell_type": "code",
     "checksum": "322f3616dfb7acf3f33b3d5e0305d4cb",
     "grade": false,
     "grade_id": "cdastar-probs-2",
     "locked": true,
     "schema_version": 3,
     "solution": false
    }
   },
   "outputs": [
    {
     "data": {
      "text/plain": [
       "True"
      ]
     },
     "execution_count": 75,
     "metadata": {},
     "output_type": "execute_result"
    }
   ],
   "source": [
    "A1.set_probabilities({\n",
    "    'G': 0.99,\n",
    "    'U': 0.01,\n",
    "})\n",
    "A2.set_probabilities({\n",
    "    'G': 0.96,\n",
    "    'U': 0.04,\n",
    "})\n",
    "A3.set_probabilities({\n",
    "    'G': 0.97,\n",
    "    'U': 0.03,\n",
    "})\n",
    "X1.set_probabilities({\n",
    "    'G': 0.95,\n",
    "    'U': 0.05,\n",
    "})\n",
    "X2.set_probabilities({\n",
    "    'G': 0.98,\n",
    "    'U': 0.02,\n",
    "})\n",
    "polycell.check_probabilities() # Make sure they sum to 1."
   ]
  },
  {
   "cell_type": "markdown",
   "metadata": {},
   "source": [
    "Let's see what the output is now:"
   ]
  },
  {
   "cell_type": "code",
   "execution_count": 76,
   "metadata": {
    "deletable": false,
    "editable": false,
    "nbgrader": {
     "cell_type": "code",
     "checksum": "2ae3b3bc4cfa3f8c8bf8fd432f36566b",
     "grade": true,
     "grade_id": "cdastar-test-2",
     "locked": true,
     "points": 10,
     "schema_version": 3,
     "solution": false
    }
   },
   "outputs": [
    {
     "name": "stdout",
     "output_type": "stream",
     "text": [
      "[(-0.8582777279999999, frozenset())]\n",
      "Popped frozenset() with p=0.8582777279999999.\n",
      " --> Adding frozenset({(A3 = U)})\n",
      " --> Adding frozenset({(A3 = G)})\n",
      "Popped frozenset({(A3 = G)}) with p=0.8582777279999999.\n",
      " --> Adding frozenset({(A3 = G), (X1 = U)})\n",
      " --> Adding frozenset({(A3 = G), (X1 = G)})\n",
      "Popped frozenset({(A3 = G), (X1 = G)}) with p=0.8582777279999999.\n",
      " --> Adding frozenset({(A1 = U), (A3 = G), (X1 = G)})\n",
      " --> Adding frozenset({(A3 = G), (X1 = G), (A1 = G)})\n",
      "Popped frozenset({(A3 = G), (X1 = G), (A1 = G)}) with p=0.8582777279999999.\n",
      " --> Adding frozenset({(A3 = G), (X1 = G), (A2 = U), (A1 = G)})\n",
      " --> Adding frozenset({(A3 = G), (X1 = G), (A2 = G), (A1 = G)})\n",
      "Popped frozenset({(A3 = G), (X1 = G), (A2 = G), (A1 = G)}) with p=0.8582777279999999.\n",
      " --> Adding frozenset({(A3 = G), (A2 = G), (X1 = G), (X2 = U), (A1 = G)})\n",
      " --> Adding frozenset({(A3 = G), (A2 = G), (X2 = G), (X1 = G), (A1 = G)})\n",
      "Popped frozenset({(A3 = G), (A2 = G), (X2 = G), (X1 = G), (A1 = G)}) with p=0.8582777279999999.\n",
      " --> Checking consistency.\n",
      " --> Nope! Got conflict frozenset({(X1 = G), (A2 = G), (A1 = G)}).\n",
      "Popped frozenset({(A3 = G), (X1 = U)}) with p=0.045172512.\n",
      " --> Adding frozenset({(A1 = U), (A3 = G), (X1 = U)})\n",
      " --> Adding frozenset({(A3 = G), (X1 = U), (A1 = G)})\n",
      "Popped frozenset({(A3 = G), (X1 = U), (A1 = G)}) with p=0.045172512.\n",
      " --> Adding frozenset({(A3 = G), (X1 = U), (A2 = U), (A1 = G)})\n",
      " --> Adding frozenset({(A3 = G), (X1 = U), (A2 = G), (A1 = G)})\n",
      "Popped frozenset({(A3 = G), (X1 = U), (A2 = G), (A1 = G)}) with p=0.04517251199999999.\n",
      " --> Adding frozenset({(A3 = G), (A2 = G), (X1 = U), (X2 = U), (A1 = G)})\n",
      " --> Adding frozenset({(A3 = G), (A2 = G), (X2 = G), (X1 = U), (A1 = G)})\n",
      "Popped frozenset({(A3 = G), (A2 = G), (X2 = G), (X1 = U), (A1 = G)}) with p=0.045172512.\n",
      " --> Checking consistency.\n",
      " --> Yep! Done.\n",
      "Solution: frozenset({(A3 = G), (A2 = G), (X2 = G), (X1 = U), (A1 = G)})\n"
     ]
    },
    {
     "data": {
      "text/html": [
       "<div class=\"alert alert-success\">\n",
       "        <strong>Tests passed!!</strong>\n",
       "        </div>"
      ]
     },
     "metadata": {},
     "output_type": "display_data"
    }
   ],
   "source": [
    "# Run conflict-directed A*!\n",
    "solution = conflict_directed_a_star(polycell_obs)\n",
    "print(\"Solution: {}\".format(solution))\n",
    "\n",
    "# Is it the right solution?\n",
    "assert_equal(solution, frozenset([A1.get_assignment('G'), A2.get_assignment('G'), A3.get_assignment('G'), X1.get_assignment('U'), X2.get_assignment('G')]))\n",
    "test_ok()"
   ]
  },
  {
   "cell_type": "markdown",
   "metadata": {},
   "source": [
    "That makese sense! Let's change the probabilities one more time, this time making a certain double fault more likely than any single fault."
   ]
  },
  {
   "cell_type": "code",
   "execution_count": 77,
   "metadata": {
    "deletable": false,
    "editable": false,
    "nbgrader": {
     "cell_type": "code",
     "checksum": "07d9026e3bdc7f6a371822d39e8abcac",
     "grade": false,
     "grade_id": "cdastar-probs-3",
     "locked": true,
     "schema_version": 3,
     "solution": false
    }
   },
   "outputs": [
    {
     "data": {
      "text/plain": [
       "True"
      ]
     },
     "execution_count": 77,
     "metadata": {},
     "output_type": "execute_result"
    }
   ],
   "source": [
    "A1.set_probabilities({\n",
    "    'G': 0.99,\n",
    "    'U': 0.01,\n",
    "})\n",
    "A2.set_probabilities({\n",
    "    'G': 0.9,\n",
    "    'U': 0.1,\n",
    "})\n",
    "A3.set_probabilities({\n",
    "    'G': 0.8,\n",
    "    'U': 0.2,\n",
    "})\n",
    "X1.set_probabilities({\n",
    "    'G': 0.98,\n",
    "    'U': 0.02,\n",
    "})\n",
    "X2.set_probabilities({\n",
    "    'G': 0.97,\n",
    "    'U': 0.03,\n",
    "})\n",
    "polycell.check_probabilities() # Make sure they sum to 1."
   ]
  },
  {
   "cell_type": "markdown",
   "metadata": {},
   "source": [
    "Let's see the resulting solutions:"
   ]
  },
  {
   "cell_type": "code",
   "execution_count": 78,
   "metadata": {
    "deletable": false,
    "editable": false,
    "nbgrader": {
     "cell_type": "code",
     "checksum": "115515498bb0f505fd815997193de86a",
     "grade": true,
     "grade_id": "cdastar-test-3",
     "locked": true,
     "points": 10,
     "schema_version": 3,
     "solution": false
    }
   },
   "outputs": [
    {
     "name": "stdout",
     "output_type": "stream",
     "text": [
      "[(-0.67758768, frozenset())]\n",
      "Popped frozenset() with p=0.67758768.\n",
      " --> Adding frozenset({(A3 = U)})\n",
      " --> Adding frozenset({(A3 = G)})\n",
      "Popped frozenset({(A3 = G)}) with p=0.67758768.\n",
      " --> Adding frozenset({(A3 = G), (X1 = U)})\n",
      " --> Adding frozenset({(A3 = G), (X1 = G)})\n",
      "Popped frozenset({(A3 = G), (X1 = G)}) with p=0.67758768.\n",
      " --> Adding frozenset({(A1 = U), (A3 = G), (X1 = G)})\n",
      " --> Adding frozenset({(A3 = G), (X1 = G), (A1 = G)})\n",
      "Popped frozenset({(A3 = G), (X1 = G), (A1 = G)}) with p=0.67758768.\n",
      " --> Adding frozenset({(A3 = G), (X1 = G), (A2 = U), (A1 = G)})\n",
      " --> Adding frozenset({(A3 = G), (X1 = G), (A2 = G), (A1 = G)})\n",
      "Popped frozenset({(A3 = G), (X1 = G), (A2 = G), (A1 = G)}) with p=0.67758768.\n",
      " --> Adding frozenset({(A3 = G), (A2 = G), (X1 = G), (X2 = U), (A1 = G)})\n",
      " --> Adding frozenset({(A3 = G), (A2 = G), (X2 = G), (X1 = G), (A1 = G)})\n",
      "Popped frozenset({(A3 = G), (A2 = G), (X2 = G), (X1 = G), (A1 = G)}) with p=0.67758768.\n",
      " --> Checking consistency.\n",
      " --> Nope! Got conflict frozenset({(X1 = G), (A2 = G), (A1 = G)}).\n",
      "Popped frozenset({(A3 = U)}) with p=0.16939692.\n",
      " --> Adding frozenset({(X1 = U), (A3 = U)})\n",
      " --> Adding frozenset({(X1 = G), (A3 = U)})\n",
      "Popped frozenset({(X1 = G), (A3 = U)}) with p=0.16939692.\n",
      " --> Adding frozenset({(A1 = U), (X1 = G), (A3 = U)})\n",
      " --> Adding frozenset({(X1 = G), (A3 = U), (A1 = G)})\n",
      "Popped frozenset({(X1 = G), (A3 = U), (A1 = G)}) with p=0.16939692.\n",
      " --> Adding frozenset({(A2 = U), (X1 = G), (A3 = U), (A1 = G)})\n",
      " --> Adding frozenset({(X1 = G), (A3 = U), (A1 = G), (A2 = G)})\n",
      "Popped frozenset({(X1 = G), (A3 = U), (A1 = G), (A2 = G)}) with p=0.16939692.\n",
      " --> Adding frozenset({(A3 = U), (A2 = G), (X1 = U), (X1 = G), (A1 = G)})\n",
      " --> Adding frozenset({(A3 = U), (A2 = G), (A2 = U), (X1 = G), (A1 = G)})\n",
      " --> Adding frozenset({(A1 = U), (A3 = U), (A2 = G), (X1 = G), (A1 = G)})\n",
      "Popped frozenset({(A3 = G), (X1 = G), (A2 = U), (A1 = G)}) with p=0.07528752.\n",
      " --> Adding frozenset({(A3 = G), (A2 = U), (X1 = G), (X2 = U), (A1 = G)})\n",
      " --> Adding frozenset({(A3 = G), (A2 = U), (X2 = G), (X1 = G), (A1 = G)})\n",
      "Popped frozenset({(A3 = G), (A2 = U), (X2 = G), (X1 = G), (A1 = G)}) with p=0.07528752000000002.\n",
      " --> Checking consistency.\n",
      " --> Nope! Got conflict frozenset({(X2 = G), (A3 = G), (X1 = G), (A1 = G)}).\n",
      "Popped frozenset({(A2 = U), (X1 = G), (A3 = U), (A1 = G)}) with p=0.01882188.\n",
      " --> Adding frozenset({(A2 = U), (A3 = U), (X1 = G), (X2 = U), (A1 = G)})\n",
      " --> Adding frozenset({(A2 = U), (A3 = U), (X2 = G), (X1 = G), (A1 = G)})\n",
      "Popped frozenset({(A2 = U), (A3 = U), (X2 = G), (X1 = G), (A1 = G)}) with p=0.018821880000000006.\n",
      " --> Checking consistency.\n",
      " --> Yep! Done.\n",
      "Solution: frozenset({(A2 = U), (A3 = U), (X2 = G), (X1 = G), (A1 = G)})\n"
     ]
    },
    {
     "data": {
      "text/html": [
       "<div class=\"alert alert-success\">\n",
       "        <strong>Tests passed!!</strong>\n",
       "        </div>"
      ]
     },
     "metadata": {},
     "output_type": "display_data"
    }
   ],
   "source": [
    "# Run conflict-directed A*!\n",
    "solution = conflict_directed_a_star(polycell_obs)\n",
    "print(\"Solution: {}\".format(solution))\n",
    "\n",
    "# Is it the right solution?\n",
    "assert_equal(solution, frozenset([A1.get_assignment('G'), A2.get_assignment('U'), A3.get_assignment('U'), X1.get_assignment('G'), X2.get_assignment('G')]))\n",
    "test_ok()"
   ]
  },
  {
   "cell_type": "markdown",
   "metadata": {},
   "source": [
    "Makes sense! Now the most likely solution that explains our symptoms contains `A2 = U` and `A3 = U`."
   ]
  },
  {
   "cell_type": "markdown",
   "metadata": {},
   "source": [
    "## Done\n",
    "\n",
    "That's the end of this problem set. Make sure to validate and submit!"
   ]
  },
  {
   "cell_type": "code",
   "execution_count": null,
   "metadata": {},
   "outputs": [],
   "source": []
  }
 ],
 "metadata": {
  "kernelspec": {
   "display_name": "Python 3 (ipykernel)",
   "language": "python",
   "name": "python3"
  },
  "language_info": {
   "codemirror_mode": {
    "name": "ipython",
    "version": 3
   },
   "file_extension": ".py",
   "mimetype": "text/x-python",
   "name": "python",
   "nbconvert_exporter": "python",
   "pygments_lexer": "ipython3",
   "version": "3.10.6"
  }
 },
 "nbformat": 4,
 "nbformat_minor": 4
}
