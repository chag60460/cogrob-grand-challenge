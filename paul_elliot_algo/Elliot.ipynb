{
 "cells": [
  {
   "cell_type": "code",
   "execution_count": 3,
   "metadata": {},
   "outputs": [],
   "source": [
    "from propositional_state_logic import *\n",
    "from utils import *\n",
    "from collections import defaultdict\n",
    "import itertools\n",
    "from copy import deepcopy"
   ]
  },
  {
   "cell_type": "code",
   "execution_count": 4,
   "metadata": {},
   "outputs": [
    {
     "name": "stdout",
     "output_type": "stream",
     "text": [
      "Constraints:\n"
     ]
    },
    {
     "data": {
      "text/latex": [
       "$$F1 \\Rightarrow P1$$"
      ],
      "text/plain": [
       "<IPython.core.display.Latex object>"
      ]
     },
     "metadata": {},
     "output_type": "display_data"
    },
    {
     "data": {
      "text/latex": [
       "$$\\neg F1 \\Rightarrow \\neg P1$$"
      ],
      "text/plain": [
       "<IPython.core.display.Latex object>"
      ]
     },
     "metadata": {},
     "output_type": "display_data"
    },
    {
     "data": {
      "text/latex": [
       "$$V1 \\wedge P1 \\Rightarrow P2$$"
      ],
      "text/plain": [
       "<IPython.core.display.Latex object>"
      ]
     },
     "metadata": {},
     "output_type": "display_data"
    },
    {
     "data": {
      "text/latex": [
       "$$V1 \\wedge \\neg P1 \\Rightarrow \\neg P2$$"
      ],
      "text/plain": [
       "<IPython.core.display.Latex object>"
      ]
     },
     "metadata": {},
     "output_type": "display_data"
    },
    {
     "data": {
      "text/latex": [
       "$$\\neg V1 \\Rightarrow \\neg P2$$"
      ],
      "text/plain": [
       "<IPython.core.display.Latex object>"
      ]
     },
     "metadata": {},
     "output_type": "display_data"
    },
    {
     "data": {
      "text/latex": [
       "$$V2 \\wedge P2 \\Rightarrow PV2$$"
      ],
      "text/plain": [
       "<IPython.core.display.Latex object>"
      ]
     },
     "metadata": {},
     "output_type": "display_data"
    },
    {
     "data": {
      "text/latex": [
       "$$V2 \\wedge \\neg P2 \\Rightarrow \\neg PV2$$"
      ],
      "text/plain": [
       "<IPython.core.display.Latex object>"
      ]
     },
     "metadata": {},
     "output_type": "display_data"
    },
    {
     "data": {
      "text/latex": [
       "$$\\neg V2 \\Rightarrow \\neg PV2$$"
      ],
      "text/plain": [
       "<IPython.core.display.Latex object>"
      ]
     },
     "metadata": {},
     "output_type": "display_data"
    },
    {
     "data": {
      "text/latex": [
       "$$V3 \\wedge P2 \\Rightarrow PV3$$"
      ],
      "text/plain": [
       "<IPython.core.display.Latex object>"
      ]
     },
     "metadata": {},
     "output_type": "display_data"
    },
    {
     "data": {
      "text/latex": [
       "$$V3 \\wedge \\neg P2 \\Rightarrow \\neg PV3$$"
      ],
      "text/plain": [
       "<IPython.core.display.Latex object>"
      ]
     },
     "metadata": {},
     "output_type": "display_data"
    },
    {
     "data": {
      "text/latex": [
       "$$\\neg V3 \\Rightarrow \\neg PV3$$"
      ],
      "text/plain": [
       "<IPython.core.display.Latex object>"
      ]
     },
     "metadata": {},
     "output_type": "display_data"
    },
    {
     "data": {
      "text/latex": [
       "$$\\neg PV2 \\wedge \\neg PV3 \\Rightarrow \\neg P3$$"
      ],
      "text/plain": [
       "<IPython.core.display.Latex object>"
      ]
     },
     "metadata": {},
     "output_type": "display_data"
    },
    {
     "data": {
      "text/latex": [
       "$$PV2 \\Rightarrow P3$$"
      ],
      "text/plain": [
       "<IPython.core.display.Latex object>"
      ]
     },
     "metadata": {},
     "output_type": "display_data"
    },
    {
     "data": {
      "text/latex": [
       "$$PV3 \\Rightarrow P3$$"
      ],
      "text/plain": [
       "<IPython.core.display.Latex object>"
      ]
     },
     "metadata": {},
     "output_type": "display_data"
    },
    {
     "data": {
      "text/latex": [
       "$$R1 \\wedge P3 \\Rightarrow T1$$"
      ],
      "text/plain": [
       "<IPython.core.display.Latex object>"
      ]
     },
     "metadata": {},
     "output_type": "display_data"
    },
    {
     "data": {
      "text/latex": [
       "$$R1 \\wedge \\neg P3 \\Rightarrow \\neg T1$$"
      ],
      "text/plain": [
       "<IPython.core.display.Latex object>"
      ]
     },
     "metadata": {},
     "output_type": "display_data"
    },
    {
     "data": {
      "text/latex": [
       "$$\\neg R1 \\Rightarrow \\neg T1$$"
      ],
      "text/plain": [
       "<IPython.core.display.Latex object>"
      ]
     },
     "metadata": {},
     "output_type": "display_data"
    }
   ],
   "source": [
    "p = Problem()\n",
    "\n",
    "# Define the variables above. Returns a Variable object.\n",
    "F1 = p.add_variable('F1', type='binary')\n",
    "P1 = p.add_variable('P1', type='binary')\n",
    "V1 = p.add_variable('V1', type='binary')\n",
    "P2 = p.add_variable('P2', type='binary')\n",
    "V2 = p.add_variable('V2', type='binary')\n",
    "PV2 = p.add_variable('PV2', type='binary')\n",
    "V3 = p.add_variable('V3', type='binary')\n",
    "PV3 = p.add_variable('PV3', type='binary')\n",
    "P3 = p.add_variable('P3', type='binary')\n",
    "R1 = p.add_variable('R1', type='binary')\n",
    "T1 = p.add_variable('T1', type='binary')\n",
    "\n",
    "# Add the word problem constraints.\n",
    "p.add_constraint('F1 => P1')\n",
    "p.add_constraint('~F1 => ~P1')\n",
    "\n",
    "p.add_constraint('V1 & P1 => P2')\n",
    "p.add_constraint('V1 & ~P1 => ~P2')\n",
    "p.add_constraint('~V1 => ~P2')\n",
    "\n",
    "p.add_constraint('V2 & P2 => PV2')\n",
    "p.add_constraint('V2 & ~P2 => ~PV2')\n",
    "p.add_constraint('~V2 => ~PV2')\n",
    "\n",
    "p.add_constraint('V3 & P2 => PV3')\n",
    "p.add_constraint('V3 & ~P2 => ~PV3')\n",
    "p.add_constraint('~V3 => ~PV3')\n",
    "\n",
    "p.add_constraint('~PV2 & ~PV3 => ~P3')\n",
    "p.add_constraint('PV2 => P3')\n",
    "p.add_constraint('PV3 => P3')\n",
    "\n",
    "p.add_constraint('R1 & P3 => T1')\n",
    "p.add_constraint('R1 & ~P3 => ~T1')\n",
    "p.add_constraint('~R1 => ~T1')\n",
    "\n",
    "# Prints out constraints nicely in LaTeX, so you can check them.\n",
    "display_constraints(p)"
   ]
  },
  {
   "cell_type": "code",
   "execution_count": 5,
   "metadata": {},
   "outputs": [
    {
     "data": {
      "text/plain": [
       "(False, None, frozenset())"
      ]
     },
     "execution_count": 5,
     "metadata": {},
     "output_type": "execute_result"
    }
   ],
   "source": [
    "sat = SATSolver(p)\n",
    "# Make an assignment to some variables; variable.get_assignment(value) returns an Assignment.\n",
    "assignment = frozenset([F1.get_assignment('True'), P1.get_assignment('False')])\n",
    "sat.check_consistency(assignment)"
   ]
  },
  {
   "cell_type": "code",
   "execution_count": 6,
   "metadata": {},
   "outputs": [
    {
     "data": {
      "text/plain": [
       "['T1', 'R1', 'P3']"
      ]
     },
     "execution_count": 6,
     "metadata": {},
     "output_type": "execute_result"
    }
   ],
   "source": [
    "Vs = ['T1', 'R1', 'P3']\n",
    "Vs"
   ]
  },
  {
   "cell_type": "code",
   "execution_count": 7,
   "metadata": {},
   "outputs": [],
   "source": [
    "def findsubsets(s, n):\n",
    "    return (list(tup) for tup in itertools.combinations(s, n))"
   ]
  },
  {
   "cell_type": "code",
   "execution_count": 8,
   "metadata": {},
   "outputs": [],
   "source": [
    "def get_nodes(variable_list):\n",
    "    nodes = []\n",
    "\n",
    "    for i in range(len(variable_list)+1):\n",
    "        for n in findsubsets(variable_list, i):\n",
    "            nodes.append(n)\n",
    "\n",
    "    return nodes"
   ]
  },
  {
   "cell_type": "code",
   "execution_count": 9,
   "metadata": {},
   "outputs": [
    {
     "data": {
      "text/plain": [
       "[¬T1, T1, ¬R1, R1, ¬P3, P3]"
      ]
     },
     "execution_count": 9,
     "metadata": {},
     "output_type": "execute_result"
    }
   ],
   "source": [
    "all_domains = []\n",
    "\n",
    "for v in Vs:\n",
    "    var = p.get_variable(v)\n",
    "    for a in list(var.domain):\n",
    "        all_domains.append(var.get_assignment(a))\n",
    "\n",
    "all_domains"
   ]
  },
  {
   "cell_type": "code",
   "execution_count": 10,
   "metadata": {},
   "outputs": [
    {
     "data": {
      "text/plain": [
       "[[],\n",
       " [¬T1],\n",
       " [T1],\n",
       " [¬R1],\n",
       " [R1],\n",
       " [¬P3],\n",
       " [P3],\n",
       " [¬T1, ¬R1],\n",
       " [¬T1, R1],\n",
       " [¬T1, ¬P3],\n",
       " [¬T1, P3],\n",
       " [T1, ¬R1],\n",
       " [T1, R1],\n",
       " [T1, ¬P3],\n",
       " [T1, P3],\n",
       " [¬R1, ¬P3],\n",
       " [¬R1, P3],\n",
       " [R1, ¬P3],\n",
       " [R1, P3],\n",
       " [¬T1, ¬R1, ¬P3],\n",
       " [¬T1, ¬R1, P3],\n",
       " [¬T1, R1, ¬P3],\n",
       " [¬T1, R1, P3],\n",
       " [T1, ¬R1, ¬P3],\n",
       " [T1, ¬R1, P3],\n",
       " [T1, R1, ¬P3],\n",
       " [T1, R1, P3]]"
      ]
     },
     "execution_count": 10,
     "metadata": {},
     "output_type": "execute_result"
    }
   ],
   "source": [
    "full_set = get_nodes(all_domains)\n",
    "reduced_set = []\n",
    "\n",
    "for v in full_set:\n",
    "    if len(v) == len(set([a.var for a in v])):\n",
    "        #reduced_set.append([a.__str__() for a in v])\n",
    "        reduced_set.append(v)\n",
    "\n",
    "reduced_set\n"
   ]
  },
  {
   "cell_type": "code",
   "execution_count": 11,
   "metadata": {},
   "outputs": [],
   "source": [
    "def list_tree(nodes, n):\n",
    "    new_nodes = deepcopy(nodes)\n",
    "    if n in new_nodes:\n",
    "        new_nodes.remove(n)\n",
    "\n",
    "    a = []\n",
    "    a.append(tuple(n))\n",
    "\n",
    "    if new_nodes == [] or [j for j in new_nodes if n != j and [v.__str__() for v in n] == [v.__str__() for v in j[:len(n)]] and len(j) == len(n)+1] == []:\n",
    "        a.append([])\n",
    "        \n",
    "    else:\n",
    "        a.append([list_tree([k for k in new_nodes if k != j], j) for j in new_nodes if n != j and [v.__str__() for v in n] == [v.__str__() for v in j[:len(n)]] and len(j) == len(n)+1])\n",
    "    \n",
    "    return a"
   ]
  },
  {
   "cell_type": "code",
   "execution_count": 12,
   "metadata": {},
   "outputs": [
    {
     "data": {
      "text/plain": [
       "[(),\n",
       " [[(¬T1,),\n",
       "   [[(¬T1, ¬R1), [[(¬T1, ¬R1, ¬P3), []], [(¬T1, ¬R1, P3), []]]],\n",
       "    [(¬T1, R1), [[(¬T1, R1, ¬P3), []], [(¬T1, R1, P3), []]]],\n",
       "    [(¬T1, ¬P3), []],\n",
       "    [(¬T1, P3), []]]],\n",
       "  [(T1,),\n",
       "   [[(T1, ¬R1), [[(T1, ¬R1, ¬P3), []], [(T1, ¬R1, P3), []]]],\n",
       "    [(T1, R1), [[(T1, R1, ¬P3), []], [(T1, R1, P3), []]]],\n",
       "    [(T1, ¬P3), []],\n",
       "    [(T1, P3), []]]],\n",
       "  [(¬R1,), [[(¬R1, ¬P3), []], [(¬R1, P3), []]]],\n",
       "  [(R1,), [[(R1, ¬P3), []], [(R1, P3), []]]],\n",
       "  [(¬P3,), []],\n",
       "  [(P3,), []]]]"
      ]
     },
     "execution_count": 12,
     "metadata": {},
     "output_type": "execute_result"
    }
   ],
   "source": [
    "tree_1 = list_tree(reduced_set, [])\n",
    "tree_1"
   ]
  },
  {
   "cell_type": "code",
   "execution_count": 13,
   "metadata": {},
   "outputs": [],
   "source": [
    "def list_tree(nodes, n):\n",
    "    new_nodes = deepcopy(nodes)\n",
    "    if n in new_nodes:\n",
    "        new_nodes.remove(n)\n",
    "\n",
    "    a = []\n",
    "    a.append(n)\n",
    "\n",
    "    if new_nodes == [] or [j for j in new_nodes if n != j and [v.__str__() for v in n] == [v.__str__() for v in j[:len(n)]] and len(j) == len(n)+1] == []:\n",
    "        a.append([])\n",
    "        \n",
    "    else:\n",
    "        a.append([list_tree([k for k in new_nodes if k != j], j) for j in new_nodes if n != j and [v.__str__() for v in n] == [v.__str__() for v in j[:len(n)]] and len(j) == len(n)+1])\n",
    "    \n",
    "    return a"
   ]
  },
  {
   "cell_type": "code",
   "execution_count": 14,
   "metadata": {},
   "outputs": [
    {
     "data": {
      "text/plain": [
       "[[],\n",
       " [[[¬T1],\n",
       "   [[[¬T1, ¬R1], [[[¬T1, ¬R1, ¬P3], []], [[¬T1, ¬R1, P3], []]]],\n",
       "    [[¬T1, R1], [[[¬T1, R1, ¬P3], []], [[¬T1, R1, P3], []]]],\n",
       "    [[¬T1, ¬P3], []],\n",
       "    [[¬T1, P3], []]]],\n",
       "  [[T1],\n",
       "   [[[T1, ¬R1], [[[T1, ¬R1, ¬P3], []], [[T1, ¬R1, P3], []]]],\n",
       "    [[T1, R1], [[[T1, R1, ¬P3], []], [[T1, R1, P3], []]]],\n",
       "    [[T1, ¬P3], []],\n",
       "    [[T1, P3], []]]],\n",
       "  [[¬R1], [[[¬R1, ¬P3], []], [[¬R1, P3], []]]],\n",
       "  [[R1], [[[R1, ¬P3], []], [[R1, P3], []]]],\n",
       "  [[¬P3], []],\n",
       "  [[P3], []]]]"
      ]
     },
     "execution_count": 14,
     "metadata": {},
     "output_type": "execute_result"
    }
   ],
   "source": [
    "tree_1 = list_tree(reduced_set, [])\n",
    "tree_1"
   ]
  },
  {
   "cell_type": "code",
   "execution_count": 110,
   "metadata": {},
   "outputs": [],
   "source": [
    "def traverse(o):\n",
    "    if o != []:\n",
    "        if isinstance(o, list) and len(o) > 1:\n",
    "            if not isinstance(o[0], list):\n",
    "                yield o\n",
    "            else:\n",
    "                for value in o:\n",
    "                    #print('value',value, isinstance(value, list))\n",
    "                    for subvalue in traverse(value):\n",
    "                        yield subvalue\n",
    "        else:\n",
    "            yield o"
   ]
  },
  {
   "cell_type": "code",
   "execution_count": 111,
   "metadata": {},
   "outputs": [
    {
     "name": "stdout",
     "output_type": "stream",
     "text": [
      "[¬T1]\n",
      "[¬T1, ¬R1]\n",
      "[¬T1, ¬R1, ¬P3]\n",
      "[¬T1, ¬R1, P3]\n",
      "[¬T1, R1]\n",
      "[¬T1, R1, ¬P3]\n",
      "[¬T1, R1, P3]\n",
      "[¬T1, ¬P3]\n",
      "[¬T1, P3]\n",
      "[T1]\n",
      "[T1, ¬R1]\n",
      "[T1, ¬R1, ¬P3]\n",
      "[T1, ¬R1, P3]\n",
      "[T1, R1]\n",
      "[T1, R1, ¬P3]\n",
      "[T1, R1, P3]\n",
      "[T1, ¬P3]\n",
      "[T1, P3]\n",
      "[¬R1]\n",
      "[¬R1, ¬P3]\n",
      "[¬R1, P3]\n",
      "[R1]\n",
      "[R1, ¬P3]\n",
      "[R1, P3]\n",
      "[¬P3]\n",
      "[P3]\n"
     ]
    }
   ],
   "source": [
    "for value in traverse(tree_1):\n",
    "    print(value)"
   ]
  },
  {
   "cell_type": "code",
   "execution_count": null,
   "metadata": {},
   "outputs": [],
   "source": [
    "def traverse(data):\n",
    "    print ' ' * traverse.level + data['text']\n",
    "    for kid in data['kids']:\n",
    "        traverse.level += 1\n",
    "        traverse(kid)\n",
    "        traverse.level -= 1\n",
    "\n",
    "if __name__ == '__main__':\n",
    "    traverse.level = 1\n",
    "\n",
    "traverse(tree_1)"
   ]
  }
 ],
 "metadata": {
  "kernelspec": {
   "display_name": "cogrob",
   "language": "python",
   "name": "python3"
  },
  "language_info": {
   "codemirror_mode": {
    "name": "ipython",
    "version": 3
   },
   "file_extension": ".py",
   "mimetype": "text/x-python",
   "name": "python",
   "nbconvert_exporter": "python",
   "pygments_lexer": "ipython3",
   "version": "3.10.8"
  },
  "orig_nbformat": 4
 },
 "nbformat": 4,
 "nbformat_minor": 2
}
