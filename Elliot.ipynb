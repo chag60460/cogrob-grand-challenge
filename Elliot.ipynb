{
 "cells": [
  {
   "cell_type": "code",
   "execution_count": 1,
   "metadata": {},
   "outputs": [],
   "source": [
    "from propositional_state_logic import *\n",
    "from utils import *\n",
    "from collections import defaultdict\n",
    "import itertools\n",
    "from copy import deepcopy"
   ]
  },
  {
   "cell_type": "code",
   "execution_count": 2,
   "metadata": {},
   "outputs": [
    {
     "name": "stdout",
     "output_type": "stream",
     "text": [
      "Constraints:\n"
     ]
    },
    {
     "data": {
      "text/latex": [
       "$$F1 \\Rightarrow P1$$"
      ],
      "text/plain": [
       "<IPython.core.display.Latex object>"
      ]
     },
     "metadata": {},
     "output_type": "display_data"
    },
    {
     "data": {
      "text/latex": [
       "$$\\neg F1 \\Rightarrow \\neg P1$$"
      ],
      "text/plain": [
       "<IPython.core.display.Latex object>"
      ]
     },
     "metadata": {},
     "output_type": "display_data"
    },
    {
     "data": {
      "text/latex": [
       "$$V1 \\wedge P1 \\Rightarrow P2$$"
      ],
      "text/plain": [
       "<IPython.core.display.Latex object>"
      ]
     },
     "metadata": {},
     "output_type": "display_data"
    },
    {
     "data": {
      "text/latex": [
       "$$V1 \\wedge \\neg P1 \\Rightarrow \\neg P2$$"
      ],
      "text/plain": [
       "<IPython.core.display.Latex object>"
      ]
     },
     "metadata": {},
     "output_type": "display_data"
    },
    {
     "data": {
      "text/latex": [
       "$$\\neg V1 \\Rightarrow \\neg P2$$"
      ],
      "text/plain": [
       "<IPython.core.display.Latex object>"
      ]
     },
     "metadata": {},
     "output_type": "display_data"
    },
    {
     "data": {
      "text/latex": [
       "$$V2 \\wedge P2 \\Rightarrow PV2$$"
      ],
      "text/plain": [
       "<IPython.core.display.Latex object>"
      ]
     },
     "metadata": {},
     "output_type": "display_data"
    },
    {
     "data": {
      "text/latex": [
       "$$V2 \\wedge \\neg P2 \\Rightarrow \\neg PV2$$"
      ],
      "text/plain": [
       "<IPython.core.display.Latex object>"
      ]
     },
     "metadata": {},
     "output_type": "display_data"
    },
    {
     "data": {
      "text/latex": [
       "$$\\neg V2 \\Rightarrow \\neg PV2$$"
      ],
      "text/plain": [
       "<IPython.core.display.Latex object>"
      ]
     },
     "metadata": {},
     "output_type": "display_data"
    },
    {
     "data": {
      "text/latex": [
       "$$V3 \\wedge P2 \\Rightarrow PV3$$"
      ],
      "text/plain": [
       "<IPython.core.display.Latex object>"
      ]
     },
     "metadata": {},
     "output_type": "display_data"
    },
    {
     "data": {
      "text/latex": [
       "$$V3 \\wedge \\neg P2 \\Rightarrow \\neg PV3$$"
      ],
      "text/plain": [
       "<IPython.core.display.Latex object>"
      ]
     },
     "metadata": {},
     "output_type": "display_data"
    },
    {
     "data": {
      "text/latex": [
       "$$\\neg V3 \\Rightarrow \\neg PV3$$"
      ],
      "text/plain": [
       "<IPython.core.display.Latex object>"
      ]
     },
     "metadata": {},
     "output_type": "display_data"
    },
    {
     "data": {
      "text/latex": [
       "$$\\neg PV2 \\wedge \\neg PV3 \\Rightarrow \\neg P3$$"
      ],
      "text/plain": [
       "<IPython.core.display.Latex object>"
      ]
     },
     "metadata": {},
     "output_type": "display_data"
    },
    {
     "data": {
      "text/latex": [
       "$$PV2 \\Rightarrow P3$$"
      ],
      "text/plain": [
       "<IPython.core.display.Latex object>"
      ]
     },
     "metadata": {},
     "output_type": "display_data"
    },
    {
     "data": {
      "text/latex": [
       "$$PV3 \\Rightarrow P3$$"
      ],
      "text/plain": [
       "<IPython.core.display.Latex object>"
      ]
     },
     "metadata": {},
     "output_type": "display_data"
    },
    {
     "data": {
      "text/latex": [
       "$$R1 \\wedge P3 \\Rightarrow T1$$"
      ],
      "text/plain": [
       "<IPython.core.display.Latex object>"
      ]
     },
     "metadata": {},
     "output_type": "display_data"
    },
    {
     "data": {
      "text/latex": [
       "$$R1 \\wedge \\neg P3 \\Rightarrow \\neg T1$$"
      ],
      "text/plain": [
       "<IPython.core.display.Latex object>"
      ]
     },
     "metadata": {},
     "output_type": "display_data"
    },
    {
     "data": {
      "text/latex": [
       "$$\\neg R1 \\Rightarrow \\neg T1$$"
      ],
      "text/plain": [
       "<IPython.core.display.Latex object>"
      ]
     },
     "metadata": {},
     "output_type": "display_data"
    }
   ],
   "source": [
    "p = Problem()\n",
    "\n",
    "# Define the variables above. Returns a Variable object.\n",
    "F1 = p.add_variable('F1', type='binary')\n",
    "P1 = p.add_variable('P1', type='binary')\n",
    "V1 = p.add_variable('V1', type='binary')\n",
    "P2 = p.add_variable('P2', type='binary')\n",
    "V2 = p.add_variable('V2', type='binary')\n",
    "PV2 = p.add_variable('PV2', type='binary')\n",
    "V3 = p.add_variable('V3', type='binary')\n",
    "PV3 = p.add_variable('PV3', type='binary')\n",
    "P3 = p.add_variable('P3', type='binary')\n",
    "R1 = p.add_variable('R1', type='binary')\n",
    "T1 = p.add_variable('T1', type='binary')\n",
    "\n",
    "# Add the word problem constraints.\n",
    "p.add_constraint('F1 => P1')\n",
    "p.add_constraint('~F1 => ~P1')\n",
    "\n",
    "p.add_constraint('V1 & P1 => P2')\n",
    "p.add_constraint('V1 & ~P1 => ~P2')\n",
    "p.add_constraint('~V1 => ~P2')\n",
    "\n",
    "p.add_constraint('V2 & P2 => PV2')\n",
    "p.add_constraint('V2 & ~P2 => ~PV2')\n",
    "p.add_constraint('~V2 => ~PV2')\n",
    "\n",
    "p.add_constraint('V3 & P2 => PV3')\n",
    "p.add_constraint('V3 & ~P2 => ~PV3')\n",
    "p.add_constraint('~V3 => ~PV3')\n",
    "\n",
    "p.add_constraint('~PV2 & ~PV3 => ~P3')\n",
    "p.add_constraint('PV2 => P3')\n",
    "p.add_constraint('PV3 => P3')\n",
    "\n",
    "p.add_constraint('R1 & P3 => T1')\n",
    "p.add_constraint('R1 & ~P3 => ~T1')\n",
    "p.add_constraint('~R1 => ~T1')\n",
    "\n",
    "# Prints out constraints nicely in LaTeX, so you can check them.\n",
    "display_constraints(p)"
   ]
  },
  {
   "cell_type": "code",
   "execution_count": 3,
   "metadata": {},
   "outputs": [
    {
     "data": {
      "text/plain": [
       "(False, None, frozenset())"
      ]
     },
     "execution_count": 3,
     "metadata": {},
     "output_type": "execute_result"
    }
   ],
   "source": [
    "sat = SATSolver(p)\n",
    "# Make an assignment to some variables; variable.get_assignment(value) returns an Assignment.\n",
    "assignment = frozenset([F1.get_assignment('True'), P1.get_assignment('False')])\n",
    "sat.check_consistency(assignment)"
   ]
  },
  {
   "cell_type": "code",
   "execution_count": 4,
   "metadata": {},
   "outputs": [],
   "source": [
    "Vs = ['T1', 'R1', 'P3']"
   ]
  },
  {
   "cell_type": "code",
   "execution_count": 5,
   "metadata": {},
   "outputs": [
    {
     "data": {
      "text/plain": [
       "['T1', 'R1', 'P3']"
      ]
     },
     "execution_count": 5,
     "metadata": {},
     "output_type": "execute_result"
    }
   ],
   "source": [
    "Vs"
   ]
  },
  {
   "cell_type": "code",
   "execution_count": 6,
   "metadata": {},
   "outputs": [],
   "source": [
    "def findsubsets(s, n):\n",
    "    return (list(tup) for tup in itertools.combinations(s, n))"
   ]
  },
  {
   "cell_type": "code",
   "execution_count": 7,
   "metadata": {},
   "outputs": [
    {
     "name": "stdout",
     "output_type": "stream",
     "text": [
      "[[], ['T1'], ['R1'], ['P3'], ['T1', 'R1'], ['T1', 'P3'], ['R1', 'P3'], ['T1', 'R1', 'P3']]\n"
     ]
    }
   ],
   "source": [
    "nodes = []\n",
    "\n",
    "for i in range(len(Vs)+1):\n",
    "    for n in findsubsets(Vs, i):\n",
    "        nodes.append(n)\n",
    "\n",
    "print(nodes)"
   ]
  },
  {
   "cell_type": "code",
   "execution_count": 8,
   "metadata": {},
   "outputs": [],
   "source": [
    "def list_tree(nodes, n):\n",
    "    new_nodes = deepcopy(nodes)\n",
    "    if n in new_nodes:\n",
    "        new_nodes.remove(n)\n",
    "\n",
    "    a = []\n",
    "    a.append(tuple(n))\n",
    "    \n",
    "    if new_nodes == [] or [j for j in new_nodes if n != j and n == j[:len(n)] and len(j) == len(n)+1] == []:\n",
    "        a.append([])\n",
    "        \n",
    "    else:\n",
    "        a.append([list_tree([k for k in new_nodes if k != j], j) for j in new_nodes if n != j and n == j[:len(n)] and len(j) == len(n)+1])\n",
    "    \n",
    "    return a"
   ]
  },
  {
   "cell_type": "code",
   "execution_count": 9,
   "metadata": {},
   "outputs": [],
   "source": [
    "def list_tree(nodes, n):\n",
    "    new_nodes = deepcopy(nodes)\n",
    "    if n in new_nodes:\n",
    "        new_nodes.remove(n)\n",
    "    \n",
    "    if new_nodes == [] or [j for j in new_nodes if n != j and n == j[:len(n)] and len(j) == len(n)+1] == []:\n",
    "        n.append([])\n",
    "        \n",
    "    else:\n",
    "        n.append([list_tree([k for k in new_nodes if k != j], j) for j in new_nodes if n != j and n == j[:len(n)] and len(j) == len(n)+1])\n",
    "    \n",
    "    return n"
   ]
  },
  {
   "cell_type": "code",
   "execution_count": 10,
   "metadata": {},
   "outputs": [
    {
     "name": "stdout",
     "output_type": "stream",
     "text": [
      "[[['T1', [['T1', 'R1', [['T1', 'R1', 'P3', []]]], ['T1', 'P3', []]]], ['R1', [['R1', 'P3', []]]], ['P3', []]]]\n"
     ]
    }
   ],
   "source": [
    "tree = list_tree(nodes, [])\n",
    "print(tree)"
   ]
  },
  {
   "cell_type": "code",
   "execution_count": 11,
   "metadata": {},
   "outputs": [
    {
     "data": {
      "text/plain": [
       "[['True', 'True', 'True'],\n",
       " ['True', 'True', 'False'],\n",
       " ['True', 'False', 'True'],\n",
       " ['True', 'False', 'False'],\n",
       " ['False', 'True', 'True'],\n",
       " ['False', 'True', 'False'],\n",
       " ['False', 'False', 'True'],\n",
       " ['False', 'False', 'False']]"
      ]
     },
     "execution_count": 11,
     "metadata": {},
     "output_type": "execute_result"
    }
   ],
   "source": [
    "product = list((list(tup) for tup in itertools.product(['True', 'False'], repeat=len(Vs))))\n",
    "product"
   ]
  },
  {
   "cell_type": "code",
   "execution_count": 12,
   "metadata": {},
   "outputs": [
    {
     "data": {
      "text/plain": [
       "[[T1, R1, P3],\n",
       " [T1, R1, ¬P3],\n",
       " [T1, ¬R1, P3],\n",
       " [T1, ¬R1, ¬P3],\n",
       " [¬T1, R1, P3],\n",
       " [¬T1, R1, ¬P3],\n",
       " [¬T1, ¬R1, P3],\n",
       " [¬T1, ¬R1, ¬P3]]"
      ]
     },
     "execution_count": 12,
     "metadata": {},
     "output_type": "execute_result"
    }
   ],
   "source": [
    "all_assignments = []\n",
    "\n",
    "for prod in product:\n",
    "    all_assignments.append([p.get_variable(Vs[i]).get_assignment(prod[i]) for i in range(len(Vs))])\n",
    "\n",
    "all_assignments"
   ]
  },
  {
   "cell_type": "code",
   "execution_count": 15,
   "metadata": {},
   "outputs": [],
   "source": [
    "def go_through_tree(tree_list):\n",
    "    if len(tree_list) == 0:\n",
    "        print(tree_list)\n",
    "    else:\n",
    "        return go_through_tree(tree_list[0])"
   ]
  },
  {
   "cell_type": "code",
   "execution_count": 16,
   "metadata": {},
   "outputs": [
    {
     "ename": "RecursionError",
     "evalue": "maximum recursion depth exceeded while calling a Python object",
     "output_type": "error",
     "traceback": [
      "\u001b[0;31m---------------------------------------------------------------------------\u001b[0m",
      "\u001b[0;31mRecursionError\u001b[0m                            Traceback (most recent call last)",
      "\u001b[1;32m/Users/reginaceballos/Documents/MIT/2023 - Spring/6.8110 - Cognitive Robotics/Final project/cogrob-grand-challenge/Elliot.ipynb Cell 14\u001b[0m in \u001b[0;36m1\n\u001b[0;32m----> <a href='vscode-notebook-cell:/Users/reginaceballos/Documents/MIT/2023%20-%20Spring/6.8110%20-%20Cognitive%20Robotics/Final%20project/cogrob-grand-challenge/Elliot.ipynb#X66sZmlsZQ%3D%3D?line=0'>1</a>\u001b[0m go_through_tree(tree)\n",
      "\u001b[1;32m/Users/reginaceballos/Documents/MIT/2023 - Spring/6.8110 - Cognitive Robotics/Final project/cogrob-grand-challenge/Elliot.ipynb Cell 14\u001b[0m in \u001b[0;36m5\n\u001b[1;32m      <a href='vscode-notebook-cell:/Users/reginaceballos/Documents/MIT/2023%20-%20Spring/6.8110%20-%20Cognitive%20Robotics/Final%20project/cogrob-grand-challenge/Elliot.ipynb#X66sZmlsZQ%3D%3D?line=2'>3</a>\u001b[0m     \u001b[39mprint\u001b[39m(tree_list)\n\u001b[1;32m      <a href='vscode-notebook-cell:/Users/reginaceballos/Documents/MIT/2023%20-%20Spring/6.8110%20-%20Cognitive%20Robotics/Final%20project/cogrob-grand-challenge/Elliot.ipynb#X66sZmlsZQ%3D%3D?line=3'>4</a>\u001b[0m \u001b[39melse\u001b[39;00m:\n\u001b[0;32m----> <a href='vscode-notebook-cell:/Users/reginaceballos/Documents/MIT/2023%20-%20Spring/6.8110%20-%20Cognitive%20Robotics/Final%20project/cogrob-grand-challenge/Elliot.ipynb#X66sZmlsZQ%3D%3D?line=4'>5</a>\u001b[0m     \u001b[39mreturn\u001b[39;00m go_through_tree(tree_list[\u001b[39m0\u001b[39;49m])\n",
      "\u001b[1;32m/Users/reginaceballos/Documents/MIT/2023 - Spring/6.8110 - Cognitive Robotics/Final project/cogrob-grand-challenge/Elliot.ipynb Cell 14\u001b[0m in \u001b[0;36m5\n\u001b[1;32m      <a href='vscode-notebook-cell:/Users/reginaceballos/Documents/MIT/2023%20-%20Spring/6.8110%20-%20Cognitive%20Robotics/Final%20project/cogrob-grand-challenge/Elliot.ipynb#X66sZmlsZQ%3D%3D?line=2'>3</a>\u001b[0m     \u001b[39mprint\u001b[39m(tree_list)\n\u001b[1;32m      <a href='vscode-notebook-cell:/Users/reginaceballos/Documents/MIT/2023%20-%20Spring/6.8110%20-%20Cognitive%20Robotics/Final%20project/cogrob-grand-challenge/Elliot.ipynb#X66sZmlsZQ%3D%3D?line=3'>4</a>\u001b[0m \u001b[39melse\u001b[39;00m:\n\u001b[0;32m----> <a href='vscode-notebook-cell:/Users/reginaceballos/Documents/MIT/2023%20-%20Spring/6.8110%20-%20Cognitive%20Robotics/Final%20project/cogrob-grand-challenge/Elliot.ipynb#X66sZmlsZQ%3D%3D?line=4'>5</a>\u001b[0m     \u001b[39mreturn\u001b[39;00m go_through_tree(tree_list[\u001b[39m0\u001b[39;49m])\n",
      "    \u001b[0;31m[... skipping similar frames: go_through_tree at line 5 (2969 times)]\u001b[0m\n",
      "\u001b[1;32m/Users/reginaceballos/Documents/MIT/2023 - Spring/6.8110 - Cognitive Robotics/Final project/cogrob-grand-challenge/Elliot.ipynb Cell 14\u001b[0m in \u001b[0;36m5\n\u001b[1;32m      <a href='vscode-notebook-cell:/Users/reginaceballos/Documents/MIT/2023%20-%20Spring/6.8110%20-%20Cognitive%20Robotics/Final%20project/cogrob-grand-challenge/Elliot.ipynb#X66sZmlsZQ%3D%3D?line=2'>3</a>\u001b[0m     \u001b[39mprint\u001b[39m(tree_list)\n\u001b[1;32m      <a href='vscode-notebook-cell:/Users/reginaceballos/Documents/MIT/2023%20-%20Spring/6.8110%20-%20Cognitive%20Robotics/Final%20project/cogrob-grand-challenge/Elliot.ipynb#X66sZmlsZQ%3D%3D?line=3'>4</a>\u001b[0m \u001b[39melse\u001b[39;00m:\n\u001b[0;32m----> <a href='vscode-notebook-cell:/Users/reginaceballos/Documents/MIT/2023%20-%20Spring/6.8110%20-%20Cognitive%20Robotics/Final%20project/cogrob-grand-challenge/Elliot.ipynb#X66sZmlsZQ%3D%3D?line=4'>5</a>\u001b[0m     \u001b[39mreturn\u001b[39;00m go_through_tree(tree_list[\u001b[39m0\u001b[39;49m])\n",
      "\u001b[1;32m/Users/reginaceballos/Documents/MIT/2023 - Spring/6.8110 - Cognitive Robotics/Final project/cogrob-grand-challenge/Elliot.ipynb Cell 14\u001b[0m in \u001b[0;36m2\n\u001b[1;32m      <a href='vscode-notebook-cell:/Users/reginaceballos/Documents/MIT/2023%20-%20Spring/6.8110%20-%20Cognitive%20Robotics/Final%20project/cogrob-grand-challenge/Elliot.ipynb#X66sZmlsZQ%3D%3D?line=0'>1</a>\u001b[0m \u001b[39mdef\u001b[39;00m \u001b[39mgo_through_tree\u001b[39m(tree_list):\n\u001b[0;32m----> <a href='vscode-notebook-cell:/Users/reginaceballos/Documents/MIT/2023%20-%20Spring/6.8110%20-%20Cognitive%20Robotics/Final%20project/cogrob-grand-challenge/Elliot.ipynb#X66sZmlsZQ%3D%3D?line=1'>2</a>\u001b[0m     \u001b[39mif\u001b[39;00m \u001b[39mlen\u001b[39;49m(tree_list) \u001b[39m==\u001b[39m \u001b[39m0\u001b[39m:\n\u001b[1;32m      <a href='vscode-notebook-cell:/Users/reginaceballos/Documents/MIT/2023%20-%20Spring/6.8110%20-%20Cognitive%20Robotics/Final%20project/cogrob-grand-challenge/Elliot.ipynb#X66sZmlsZQ%3D%3D?line=2'>3</a>\u001b[0m         \u001b[39mprint\u001b[39m(tree_list)\n\u001b[1;32m      <a href='vscode-notebook-cell:/Users/reginaceballos/Documents/MIT/2023%20-%20Spring/6.8110%20-%20Cognitive%20Robotics/Final%20project/cogrob-grand-challenge/Elliot.ipynb#X66sZmlsZQ%3D%3D?line=3'>4</a>\u001b[0m     \u001b[39melse\u001b[39;00m:\n",
      "\u001b[0;31mRecursionError\u001b[0m: maximum recursion depth exceeded while calling a Python object"
     ]
    }
   ],
   "source": [
    "go_through_tree(tree)"
   ]
  },
  {
   "cell_type": "code",
   "execution_count": null,
   "metadata": {},
   "outputs": [],
   "source": []
  }
 ],
 "metadata": {
  "kernelspec": {
   "display_name": "cogrob",
   "language": "python",
   "name": "python3"
  },
  "language_info": {
   "codemirror_mode": {
    "name": "ipython",
    "version": 3
   },
   "file_extension": ".py",
   "mimetype": "text/x-python",
   "name": "python",
   "nbconvert_exporter": "python",
   "pygments_lexer": "ipython3",
   "version": "3.10.8"
  },
  "orig_nbformat": 4
 },
 "nbformat": 4,
 "nbformat_minor": 2
}
