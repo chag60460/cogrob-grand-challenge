{
 "cells": [
  {
   "cell_type": "code",
   "execution_count": 1,
   "metadata": {},
   "outputs": [],
   "source": [
    "from propositional_state_logic import *\n",
    "from utils import *"
   ]
  },
  {
   "cell_type": "code",
   "execution_count": 2,
   "metadata": {},
   "outputs": [
    {
     "name": "stdout",
     "output_type": "stream",
     "text": [
      "Constraints:\n"
     ]
    },
    {
     "data": {
      "text/latex": [
       "$$F1 \\Rightarrow P1$$"
      ],
      "text/plain": [
       "<IPython.core.display.Latex object>"
      ]
     },
     "metadata": {},
     "output_type": "display_data"
    },
    {
     "data": {
      "text/latex": [
       "$$\\neg F1 \\Rightarrow \\neg P1$$"
      ],
      "text/plain": [
       "<IPython.core.display.Latex object>"
      ]
     },
     "metadata": {},
     "output_type": "display_data"
    },
    {
     "data": {
      "text/latex": [
       "$$V1 \\wedge P1 \\Rightarrow P2$$"
      ],
      "text/plain": [
       "<IPython.core.display.Latex object>"
      ]
     },
     "metadata": {},
     "output_type": "display_data"
    },
    {
     "data": {
      "text/latex": [
       "$$V1 \\wedge \\neg P1 \\Rightarrow \\neg P2$$"
      ],
      "text/plain": [
       "<IPython.core.display.Latex object>"
      ]
     },
     "metadata": {},
     "output_type": "display_data"
    },
    {
     "data": {
      "text/latex": [
       "$$\\neg V1 \\Rightarrow \\neg P2$$"
      ],
      "text/plain": [
       "<IPython.core.display.Latex object>"
      ]
     },
     "metadata": {},
     "output_type": "display_data"
    },
    {
     "data": {
      "text/latex": [
       "$$V2 \\wedge P2 \\Rightarrow PV2$$"
      ],
      "text/plain": [
       "<IPython.core.display.Latex object>"
      ]
     },
     "metadata": {},
     "output_type": "display_data"
    },
    {
     "data": {
      "text/latex": [
       "$$V2 \\wedge \\neg P2 \\Rightarrow \\neg PV2$$"
      ],
      "text/plain": [
       "<IPython.core.display.Latex object>"
      ]
     },
     "metadata": {},
     "output_type": "display_data"
    },
    {
     "data": {
      "text/latex": [
       "$$\\neg V2 \\Rightarrow \\neg PV2$$"
      ],
      "text/plain": [
       "<IPython.core.display.Latex object>"
      ]
     },
     "metadata": {},
     "output_type": "display_data"
    },
    {
     "data": {
      "text/latex": [
       "$$V3 \\wedge P2 \\Rightarrow PV3$$"
      ],
      "text/plain": [
       "<IPython.core.display.Latex object>"
      ]
     },
     "metadata": {},
     "output_type": "display_data"
    },
    {
     "data": {
      "text/latex": [
       "$$V3 \\wedge \\neg P2 \\Rightarrow \\neg PV3$$"
      ],
      "text/plain": [
       "<IPython.core.display.Latex object>"
      ]
     },
     "metadata": {},
     "output_type": "display_data"
    },
    {
     "data": {
      "text/latex": [
       "$$\\neg V3 \\Rightarrow \\neg PV3$$"
      ],
      "text/plain": [
       "<IPython.core.display.Latex object>"
      ]
     },
     "metadata": {},
     "output_type": "display_data"
    },
    {
     "data": {
      "text/latex": [
       "$$\\neg PV2 \\wedge \\neg PV3 \\Rightarrow \\neg P3$$"
      ],
      "text/plain": [
       "<IPython.core.display.Latex object>"
      ]
     },
     "metadata": {},
     "output_type": "display_data"
    },
    {
     "data": {
      "text/latex": [
       "$$PV2 \\Rightarrow P3$$"
      ],
      "text/plain": [
       "<IPython.core.display.Latex object>"
      ]
     },
     "metadata": {},
     "output_type": "display_data"
    },
    {
     "data": {
      "text/latex": [
       "$$PV3 \\Rightarrow P3$$"
      ],
      "text/plain": [
       "<IPython.core.display.Latex object>"
      ]
     },
     "metadata": {},
     "output_type": "display_data"
    },
    {
     "data": {
      "text/latex": [
       "$$R1 \\wedge P3 \\Rightarrow T1$$"
      ],
      "text/plain": [
       "<IPython.core.display.Latex object>"
      ]
     },
     "metadata": {},
     "output_type": "display_data"
    },
    {
     "data": {
      "text/latex": [
       "$$R1 \\wedge \\neg P3 \\Rightarrow \\neg T1$$"
      ],
      "text/plain": [
       "<IPython.core.display.Latex object>"
      ]
     },
     "metadata": {},
     "output_type": "display_data"
    },
    {
     "data": {
      "text/latex": [
       "$$\\neg R1 \\Rightarrow \\neg T1$$"
      ],
      "text/plain": [
       "<IPython.core.display.Latex object>"
      ]
     },
     "metadata": {},
     "output_type": "display_data"
    }
   ],
   "source": [
    "p = Problem()\n",
    "\n",
    "# Define the variables above. Returns a Variable object.\n",
    "F1 = p.add_variable('F1', type='binary')\n",
    "P1 = p.add_variable('P1', type='binary')\n",
    "V1 = p.add_variable('V1', type='binary')\n",
    "P2 = p.add_variable('P2', type='binary')\n",
    "V2 = p.add_variable('V2', type='binary')\n",
    "PV2 = p.add_variable('PV2', type='binary')\n",
    "V3 = p.add_variable('V3', type='binary')\n",
    "PV3 = p.add_variable('PV3', type='binary')\n",
    "P3 = p.add_variable('P3', type='binary')\n",
    "R1 = p.add_variable('R1', type='binary')\n",
    "T1 = p.add_variable('T1', type='binary')\n",
    "\n",
    "# Add the word problem constraints.\n",
    "p.add_constraint('F1 => P1')\n",
    "p.add_constraint('~F1 => ~P1')\n",
    "\n",
    "p.add_constraint('V1 & P1 => P2')\n",
    "p.add_constraint('V1 & ~P1 => ~P2')\n",
    "p.add_constraint('~V1 => ~P2')\n",
    "\n",
    "p.add_constraint('V2 & P2 => PV2')\n",
    "p.add_constraint('V2 & ~P2 => ~PV2')\n",
    "p.add_constraint('~V2 => ~PV2')\n",
    "\n",
    "p.add_constraint('V3 & P2 => PV3')\n",
    "p.add_constraint('V3 & ~P2 => ~PV3')\n",
    "p.add_constraint('~V3 => ~PV3')\n",
    "\n",
    "p.add_constraint('~PV2 & ~PV3 => ~P3')\n",
    "p.add_constraint('PV2 => P3')\n",
    "p.add_constraint('PV3 => P3')\n",
    "\n",
    "p.add_constraint('R1 & P3 => T1')\n",
    "p.add_constraint('R1 & ~P3 => ~T1')\n",
    "p.add_constraint('~R1 => ~T1')\n",
    "\n",
    "# Prints out constraints nicely in LaTeX, so you can check them.\n",
    "display_constraints(p)"
   ]
  },
  {
   "cell_type": "code",
   "execution_count": 3,
   "metadata": {},
   "outputs": [
    {
     "data": {
      "text/plain": [
       "(False, None, frozenset())"
      ]
     },
     "execution_count": 3,
     "metadata": {},
     "output_type": "execute_result"
    }
   ],
   "source": [
    "sat = SATSolver(p)\n",
    "# Make an assignment to some variables; variable.get_assignment(value) returns an Assignment.\n",
    "assignment = frozenset([F1.get_assignment('True'), P1.get_assignment('False')])\n",
    "sat.check_consistency(assignment)"
   ]
  },
  {
   "cell_type": "code",
   "execution_count": 10,
   "metadata": {},
   "outputs": [],
   "source": [
    "d_current = 1\n",
    "Vs = p.variables\n",
    "AC = {}\n"
   ]
  },
  {
   "cell_type": "code",
   "execution_count": null,
   "metadata": {},
   "outputs": [],
   "source": [
    "# getNextCandidate\n",
    "\n",
    "if d_current <= len(Vs):\n",
    "    if len(AC) > 0:\n",
    "        "
   ]
  }
 ],
 "metadata": {
  "kernelspec": {
   "display_name": "cogrob",
   "language": "python",
   "name": "python3"
  },
  "language_info": {
   "codemirror_mode": {
    "name": "ipython",
    "version": 3
   },
   "file_extension": ".py",
   "mimetype": "text/x-python",
   "name": "python",
   "nbconvert_exporter": "python",
   "pygments_lexer": "ipython3",
   "version": "3.10.8"
  },
  "orig_nbformat": 4
 },
 "nbformat": 4,
 "nbformat_minor": 2
}
