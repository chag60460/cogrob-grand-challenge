{
 "cells": [
  {
   "cell_type": "code",
   "execution_count": 2,
   "metadata": {},
   "outputs": [],
   "source": [
    "import sys\n",
    "sys.path.append('/Users/reginaceballos/Documents/MIT/2023 - Spring/6.8110 - Cognitive Robotics/Final project/cogrob-grand-challenge/Benchmark/paul_elliot_algo')\n",
    "sys.path.append('/Users/reginaceballos/Documents/MIT/2023 - Spring/6.8110 - Cognitive Robotics/Final project/cogrob-grand-challenge/Benchmark')"
   ]
  },
  {
   "cell_type": "code",
   "execution_count": 3,
   "metadata": {},
   "outputs": [],
   "source": [
    "import time\n",
    "from paul_elliot_algo.prime_implicants import *\n",
    "from quine_mccluskey_algo.quine_mccluskey import *\n",
    "from quine_mccluskey_algo.truth_table_generator import *\n",
    "from src.propositional_state_logic import *\n",
    "from src.sat_solver import *\n",
    "from src.propositional_state_logic import *\n",
    "from src.sat_solver import *\n",
    "from src.utils import *\n",
    "from copy import deepcopy"
   ]
  },
  {
   "cell_type": "code",
   "execution_count": 4,
   "metadata": {},
   "outputs": [],
   "source": [
    "########################################### Problem Setup ##############################################\n",
    "p_thruster = Problem()\n",
    "\n",
    "# Define the variables above. Returns a Variable object.\n",
    "F1 = p_thruster.add_variable('F1', type='binary')\n",
    "P1 = p_thruster.add_variable('P1', type='binary')\n",
    "V1 = p_thruster.add_variable('V1', type='binary')\n",
    "P2 = p_thruster.add_variable('P2', type='binary')\n",
    "V2 = p_thruster.add_variable('V2', type='binary')\n",
    "PV2 = p_thruster.add_variable('PV2', type='binary')\n",
    "V3 = p_thruster.add_variable('V3', type='binary')\n",
    "PV3 = p_thruster.add_variable('PV3', type='binary')\n",
    "P3 = p_thruster.add_variable('P3', type='binary')\n",
    "R1 = p_thruster.add_variable('R1', type='binary')\n",
    "T1 = p_thruster.add_variable('T1', type='binary')\n",
    "\n",
    "E1 = p_thruster.add_variable('E1', type='binary')\n",
    "A1 = p_thruster.add_variable('A1', type='binary')\n",
    "E2 = p_thruster.add_variable('E2', type='binary')\n",
    "E3 = p_thruster.add_variable('E3', type='binary')\n",
    "E4 = p_thruster.add_variable('E4', type='binary')\n",
    "E5 = p_thruster.add_variable('E5', type='binary')\n",
    "A2 = p_thruster.add_variable('A2', type='binary')\n",
    "A3 = p_thruster.add_variable('A3', type='binary')\n",
    "\n",
    "\n",
    "# Add the word problem constraints.\n",
    "\n",
    "p_thruster.add_constraint('F1 & ~P1 => ~E1')\n",
    "p_thruster.add_constraint('~F1 & P1 => ~E1')\n",
    "\n",
    "p_thruster.add_constraint('(P1 & V1) & ~P2 => ~A1')\n",
    "p_thruster.add_constraint('(~P1 | ~V1) & P2 => ~A1')\n",
    "\n",
    "p_thruster.add_constraint('P2 & ~V2 => ~E2')\n",
    "p_thruster.add_constraint('~P2 & V2 => ~E2')\n",
    "\n",
    "p_thruster.add_constraint('P2 & ~V3 => ~E3')\n",
    "p_thruster.add_constraint('~P2 & V3 => ~E3')\n",
    "\n",
    "p_thruster.add_constraint('V2 & ~PV2 => ~E4')\n",
    "p_thruster.add_constraint('~V2 & PV2 => ~E4')\n",
    "\n",
    "p_thruster.add_constraint('V3 & ~PV3 => ~E5')\n",
    "p_thruster.add_constraint('~V3 & PV3 => ~E5')\n",
    "\n",
    "p_thruster.add_constraint('(PV2 & PV3) & ~P3 => ~A2')\n",
    "p_thruster.add_constraint('(~PV2 | ~PV3) & P3 => ~A2')\n",
    "\n",
    "p_thruster.add_constraint('(P3 & R1) & ~T1 => ~A3')\n",
    "p_thruster.add_constraint('(~P3 | ~R1) & T1 => ~A3')\n",
    "\n",
    "\n",
    "#Establish Variables\n",
    "Va = ['F1', 'P1', 'E1']\n",
    "Vb = ['P1', 'V1', 'V2', 'V3', 'P3', 'A1', 'E2', 'E3', 'E4', 'E5', 'A2']\n",
    "Vc = ['T1', 'R1', 'P3', 'A3']\n"
   ]
  },
  {
   "cell_type": "code",
   "execution_count": 6,
   "metadata": {},
   "outputs": [],
   "source": [
    "def paul_elliot(p: Problem, Vs: list[list]):\n",
    "    #start_time = time.time()\n",
    "    #tracemalloc.start()\n",
    "\n",
    "    pi = []\n",
    "\n",
    "    for v in Vs:\n",
    "        pi.append(find_prime_implicants_elliot(p, v))\n",
    "\n",
    "    #print(f\"paul_elliot {tracemalloc.get_traced_memory()}, to run\")\n",
    "    #tracemalloc.stop()\n",
    "\n",
    "paul_elliot(p_thruster, [Va, Vb, Vc])"
   ]
  },
  {
   "cell_type": "code",
   "execution_count": null,
   "metadata": {},
   "outputs": [
    {
     "data": {
      "text/plain": [
       "['F1',\n",
       " 'P1',\n",
       " 'V1',\n",
       " 'P2',\n",
       " 'V2',\n",
       " 'PV2',\n",
       " 'V3',\n",
       " 'PV3',\n",
       " 'P3',\n",
       " 'R1',\n",
       " 'T1',\n",
       " 'E1',\n",
       " 'A1',\n",
       " 'E2',\n",
       " 'E3',\n",
       " 'E4',\n",
       " 'E5',\n",
       " 'A2',\n",
       " 'A3']"
      ]
     },
     "execution_count": 19,
     "metadata": {},
     "output_type": "execute_result"
    }
   ],
   "source": []
  },
  {
   "cell_type": "code",
   "execution_count": null,
   "metadata": {},
   "outputs": [],
   "source": []
  }
 ],
 "metadata": {
  "kernelspec": {
   "display_name": "cogrob",
   "language": "python",
   "name": "python3"
  },
  "language_info": {
   "codemirror_mode": {
    "name": "ipython",
    "version": 3
   },
   "file_extension": ".py",
   "mimetype": "text/x-python",
   "name": "python",
   "nbconvert_exporter": "python",
   "pygments_lexer": "ipython3",
   "version": "3.10.8"
  },
  "orig_nbformat": 4
 },
 "nbformat": 4,
 "nbformat_minor": 2
}
