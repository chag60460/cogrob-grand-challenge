{
 "cells": [
  {
   "cell_type": "code",
   "execution_count": 1,
   "metadata": {},
   "outputs": [],
   "source": [
    "import sys\n",
    "sys.path.append('/Users/reginaceballos/Documents/MIT/2023 - Spring/6.8110 - Cognitive Robotics/Final project/cogrob-grand-challenge/Benchmark/paul_elliot_algo')\n",
    "sys.path.append('/Users/reginaceballos/Documents/MIT/2023 - Spring/6.8110 - Cognitive Robotics/Final project/cogrob-grand-challenge/Benchmark')"
   ]
  },
  {
   "cell_type": "code",
   "execution_count": 2,
   "metadata": {},
   "outputs": [],
   "source": [
    "import time\n",
    "from paul_elliot_algo.prime_implicants import *\n",
    "from quine_mccluskey_algo.quine_mccluskey import *\n",
    "from quine_mccluskey_algo.truth_table_generator import *\n",
    "from src.propositional_state_logic import *\n",
    "from src.sat_solver import *\n",
    "from src.propositional_state_logic import *\n",
    "from src.sat_solver import *\n",
    "from src.utils import *\n",
    "from copy import deepcopy"
   ]
  },
  {
   "cell_type": "code",
   "execution_count": 3,
   "metadata": {},
   "outputs": [],
   "source": [
    "########################################### Problem Setup ##############################################\n",
    "p_thruster = Problem()\n",
    "\n",
    "# Define the variables above. Returns a Variable object.\n",
    "F1 = p_thruster.add_variable('F1', type='binary')\n",
    "P1 = p_thruster.add_variable('P1', type='binary')\n",
    "V1 = p_thruster.add_variable('V1', type='binary')\n",
    "P2 = p_thruster.add_variable('P2', type='binary')\n",
    "V2 = p_thruster.add_variable('V2', type='binary')\n",
    "PV2 = p_thruster.add_variable('PV2', type='binary')\n",
    "V3 = p_thruster.add_variable('V3', type='binary')\n",
    "PV3 = p_thruster.add_variable('PV3', type='binary')\n",
    "P3 = p_thruster.add_variable('P3', type='binary')\n",
    "R1 = p_thruster.add_variable('R1', type='binary')\n",
    "T1 = p_thruster.add_variable('T1', type='binary')\n",
    "\n",
    "E1 = p_thruster.add_variable('E1', type='binary')\n",
    "A1 = p_thruster.add_variable('A1', type='binary')\n",
    "E2 = p_thruster.add_variable('E2', type='binary')\n",
    "E3 = p_thruster.add_variable('E3', type='binary')\n",
    "E4 = p_thruster.add_variable('E4', type='binary')\n",
    "E5 = p_thruster.add_variable('E5', type='binary')\n",
    "A2 = p_thruster.add_variable('A2', type='binary')\n",
    "A3 = p_thruster.add_variable('A3', type='binary')\n",
    "\n",
    "\n",
    "# Add the word problem constraints.\n",
    "\n",
    "p_thruster.add_constraint('F1 & ~P1 => ~E1')\n",
    "p_thruster.add_constraint('~F1 & P1 => ~E1')\n",
    "\n",
    "p_thruster.add_constraint('(P1 & V1) & ~P2 => ~A1')\n",
    "p_thruster.add_constraint('(~P1 | ~V1) & P2 => ~A1')\n",
    "\n",
    "p_thruster.add_constraint('P2 & ~V2 => ~E2')\n",
    "p_thruster.add_constraint('~P2 & V2 => ~E2')\n",
    "\n",
    "p_thruster.add_constraint('P2 & ~V3 => ~E3')\n",
    "p_thruster.add_constraint('~P2 & V3 => ~E3')\n",
    "\n",
    "p_thruster.add_constraint('V2 & ~PV2 => ~E4')\n",
    "p_thruster.add_constraint('~V2 & PV2 => ~E4')\n",
    "\n",
    "p_thruster.add_constraint('V3 & ~PV3 => ~E5')\n",
    "p_thruster.add_constraint('~V3 & PV3 => ~E5')\n",
    "\n",
    "p_thruster.add_constraint('(PV2 & PV3) & ~P3 => ~A2')\n",
    "p_thruster.add_constraint('(~PV2 | ~PV3) & P3 => ~A2')\n",
    "\n",
    "p_thruster.add_constraint('(P3 & R1) & ~T1 => ~A3')\n",
    "p_thruster.add_constraint('(~P3 | ~R1) & T1 => ~A3')\n",
    "\n",
    "\n",
    "#Establish Variables\n",
    "Va = ['P1', 'E1', 'F1']\n",
    "Vb = ['P3', 'A2', 'E5', 'E4', 'V3', 'V2', 'E3', 'E2', 'A1', 'V1', 'P1']\n",
    "Vc = ['T1', 'A3', 'R1', 'P3']\n"
   ]
  },
  {
   "cell_type": "code",
   "execution_count": 4,
   "metadata": {},
   "outputs": [
    {
     "ename": "KeyboardInterrupt",
     "evalue": "",
     "output_type": "error",
     "traceback": [
      "\u001b[0;31m---------------------------------------------------------------------------\u001b[0m",
      "\u001b[0;31mKeyboardInterrupt\u001b[0m                         Traceback (most recent call last)",
      "\u001b[1;32m/Users/reginaceballos/Documents/MIT/2023 - Spring/6.8110 - Cognitive Robotics/Final project/cogrob-grand-challenge/Diagnosis/Diagnosis.ipynb Cell 4\u001b[0m in \u001b[0;36m1\n\u001b[1;32m      <a href='vscode-notebook-cell:/Users/reginaceballos/Documents/MIT/2023%20-%20Spring/6.8110%20-%20Cognitive%20Robotics/Final%20project/cogrob-grand-challenge/Diagnosis/Diagnosis.ipynb#W5sZmlsZQ%3D%3D?line=7'>8</a>\u001b[0m         pi\u001b[39m.\u001b[39mappend(find_prime_implicants_elliot(p, v))\n\u001b[1;32m     <a href='vscode-notebook-cell:/Users/reginaceballos/Documents/MIT/2023%20-%20Spring/6.8110%20-%20Cognitive%20Robotics/Final%20project/cogrob-grand-challenge/Diagnosis/Diagnosis.ipynb#W5sZmlsZQ%3D%3D?line=9'>10</a>\u001b[0m     \u001b[39m#print(f\"paul_elliot {tracemalloc.get_traced_memory()}, to run\")\u001b[39;00m\n\u001b[1;32m     <a href='vscode-notebook-cell:/Users/reginaceballos/Documents/MIT/2023%20-%20Spring/6.8110%20-%20Cognitive%20Robotics/Final%20project/cogrob-grand-challenge/Diagnosis/Diagnosis.ipynb#W5sZmlsZQ%3D%3D?line=10'>11</a>\u001b[0m     \u001b[39m#tracemalloc.stop()\u001b[39;00m\n\u001b[0;32m---> <a href='vscode-notebook-cell:/Users/reginaceballos/Documents/MIT/2023%20-%20Spring/6.8110%20-%20Cognitive%20Robotics/Final%20project/cogrob-grand-challenge/Diagnosis/Diagnosis.ipynb#W5sZmlsZQ%3D%3D?line=12'>13</a>\u001b[0m results \u001b[39m=\u001b[39m paul_elliot(p_thruster, [Va, Vb, Vc])\n",
      "\u001b[1;32m/Users/reginaceballos/Documents/MIT/2023 - Spring/6.8110 - Cognitive Robotics/Final project/cogrob-grand-challenge/Diagnosis/Diagnosis.ipynb Cell 4\u001b[0m in \u001b[0;36m8\n\u001b[1;32m      <a href='vscode-notebook-cell:/Users/reginaceballos/Documents/MIT/2023%20-%20Spring/6.8110%20-%20Cognitive%20Robotics/Final%20project/cogrob-grand-challenge/Diagnosis/Diagnosis.ipynb#W5sZmlsZQ%3D%3D?line=4'>5</a>\u001b[0m pi \u001b[39m=\u001b[39m []\n\u001b[1;32m      <a href='vscode-notebook-cell:/Users/reginaceballos/Documents/MIT/2023%20-%20Spring/6.8110%20-%20Cognitive%20Robotics/Final%20project/cogrob-grand-challenge/Diagnosis/Diagnosis.ipynb#W5sZmlsZQ%3D%3D?line=6'>7</a>\u001b[0m \u001b[39mfor\u001b[39;00m v \u001b[39min\u001b[39;00m Vs:\n\u001b[0;32m----> <a href='vscode-notebook-cell:/Users/reginaceballos/Documents/MIT/2023%20-%20Spring/6.8110%20-%20Cognitive%20Robotics/Final%20project/cogrob-grand-challenge/Diagnosis/Diagnosis.ipynb#W5sZmlsZQ%3D%3D?line=7'>8</a>\u001b[0m     pi\u001b[39m.\u001b[39mappend(find_prime_implicants_elliot(p, v))\n",
      "File \u001b[0;32m~/Documents/MIT/2023 - Spring/6.8110 - Cognitive Robotics/Final project/cogrob-grand-challenge/Benchmark/paul_elliot_algo/prime_implicants.py:21\u001b[0m, in \u001b[0;36mfind_prime_implicants_elliot\u001b[0;34m(p, Vs)\u001b[0m\n\u001b[1;32m     18\u001b[0m reduced_set \u001b[39m=\u001b[39m derive_reduced_set(all_domains)\n\u001b[1;32m     20\u001b[0m \u001b[39m#Get children\u001b[39;00m\n\u001b[0;32m---> 21\u001b[0m children \u001b[39m=\u001b[39m get_children(reduced_set)\n\u001b[1;32m     23\u001b[0m \u001b[39m#Find Prime Implicants\u001b[39;00m\n\u001b[1;32m     24\u001b[0m \u001b[39mfor\u001b[39;00m assignment \u001b[39min\u001b[39;00m reduced_set:\n",
      "File \u001b[0;32m~/Documents/MIT/2023 - Spring/6.8110 - Cognitive Robotics/Final project/cogrob-grand-challenge/Benchmark/paul_elliot_algo/elliot.py:65\u001b[0m, in \u001b[0;36mget_children\u001b[0;34m(reduced_set)\u001b[0m\n\u001b[1;32m     63\u001b[0m \u001b[39mfor\u001b[39;00m x \u001b[39min\u001b[39;00m reduced_set:\n\u001b[1;32m     64\u001b[0m     \u001b[39mfor\u001b[39;00m y \u001b[39min\u001b[39;00m reduced_set:\n\u001b[0;32m---> 65\u001b[0m         \u001b[39mif\u001b[39;00m x \u001b[39m!=\u001b[39m [] \u001b[39mand\u001b[39;00m [v\u001b[39m.\u001b[39m\u001b[39m__str__\u001b[39m() \u001b[39mfor\u001b[39;00m v \u001b[39min\u001b[39;00m x] \u001b[39m!=\u001b[39m [v\u001b[39m.\u001b[39m\u001b[39m__str__\u001b[39m() \u001b[39mfor\u001b[39;00m v \u001b[39min\u001b[39;00m y] \u001b[39mand\u001b[39;00m \u001b[39mall\u001b[39;49m(a \u001b[39min\u001b[39;49;00m [v\u001b[39m.\u001b[39;49m\u001b[39m__str__\u001b[39;49m() \u001b[39mfor\u001b[39;49;00m v \u001b[39min\u001b[39;49;00m y] \u001b[39mfor\u001b[39;49;00m a \u001b[39min\u001b[39;49;00m [v\u001b[39m.\u001b[39;49m\u001b[39m__str__\u001b[39;49m() \u001b[39mfor\u001b[39;49;00m v \u001b[39min\u001b[39;49;00m x]):\n\u001b[1;32m     66\u001b[0m             \u001b[39mif\u001b[39;00m \u001b[39mfrozenset\u001b[39m(x) \u001b[39mnot\u001b[39;00m \u001b[39min\u001b[39;00m children:\n\u001b[1;32m     67\u001b[0m                 children[\u001b[39mfrozenset\u001b[39m(x)] \u001b[39m=\u001b[39m []\n",
      "File \u001b[0;32m~/Documents/MIT/2023 - Spring/6.8110 - Cognitive Robotics/Final project/cogrob-grand-challenge/Benchmark/paul_elliot_algo/elliot.py:65\u001b[0m, in \u001b[0;36m<genexpr>\u001b[0;34m(.0)\u001b[0m\n\u001b[1;32m     63\u001b[0m \u001b[39mfor\u001b[39;00m x \u001b[39min\u001b[39;00m reduced_set:\n\u001b[1;32m     64\u001b[0m     \u001b[39mfor\u001b[39;00m y \u001b[39min\u001b[39;00m reduced_set:\n\u001b[0;32m---> 65\u001b[0m         \u001b[39mif\u001b[39;00m x \u001b[39m!=\u001b[39m [] \u001b[39mand\u001b[39;00m [v\u001b[39m.\u001b[39m\u001b[39m__str__\u001b[39m() \u001b[39mfor\u001b[39;00m v \u001b[39min\u001b[39;00m x] \u001b[39m!=\u001b[39m [v\u001b[39m.\u001b[39m\u001b[39m__str__\u001b[39m() \u001b[39mfor\u001b[39;00m v \u001b[39min\u001b[39;00m y] \u001b[39mand\u001b[39;00m \u001b[39mall\u001b[39m(a \u001b[39min\u001b[39;00m [v\u001b[39m.\u001b[39m\u001b[39m__str__\u001b[39m() \u001b[39mfor\u001b[39;00m v \u001b[39min\u001b[39;00m y] \u001b[39mfor\u001b[39;00m a \u001b[39min\u001b[39;00m [v\u001b[39m.\u001b[39m\u001b[39m__str__\u001b[39m() \u001b[39mfor\u001b[39;00m v \u001b[39min\u001b[39;00m x]):\n\u001b[1;32m     66\u001b[0m             \u001b[39mif\u001b[39;00m \u001b[39mfrozenset\u001b[39m(x) \u001b[39mnot\u001b[39;00m \u001b[39min\u001b[39;00m children:\n\u001b[1;32m     67\u001b[0m                 children[\u001b[39mfrozenset\u001b[39m(x)] \u001b[39m=\u001b[39m []\n",
      "File \u001b[0;32m~/Documents/MIT/2023 - Spring/6.8110 - Cognitive Robotics/Final project/cogrob-grand-challenge/Benchmark/paul_elliot_algo/elliot.py:65\u001b[0m, in \u001b[0;36m<listcomp>\u001b[0;34m(.0)\u001b[0m\n\u001b[1;32m     63\u001b[0m \u001b[39mfor\u001b[39;00m x \u001b[39min\u001b[39;00m reduced_set:\n\u001b[1;32m     64\u001b[0m     \u001b[39mfor\u001b[39;00m y \u001b[39min\u001b[39;00m reduced_set:\n\u001b[0;32m---> 65\u001b[0m         \u001b[39mif\u001b[39;00m x \u001b[39m!=\u001b[39m [] \u001b[39mand\u001b[39;00m [v\u001b[39m.\u001b[39m\u001b[39m__str__\u001b[39m() \u001b[39mfor\u001b[39;00m v \u001b[39min\u001b[39;00m x] \u001b[39m!=\u001b[39m [v\u001b[39m.\u001b[39m\u001b[39m__str__\u001b[39m() \u001b[39mfor\u001b[39;00m v \u001b[39min\u001b[39;00m y] \u001b[39mand\u001b[39;00m \u001b[39mall\u001b[39m(a \u001b[39min\u001b[39;00m [v\u001b[39m.\u001b[39m\u001b[39m__str__\u001b[39m() \u001b[39mfor\u001b[39;00m v \u001b[39min\u001b[39;00m y] \u001b[39mfor\u001b[39;00m a \u001b[39min\u001b[39;00m [v\u001b[39m.\u001b[39m\u001b[39m__str__\u001b[39m() \u001b[39mfor\u001b[39;00m v \u001b[39min\u001b[39;00m x]):\n\u001b[1;32m     66\u001b[0m             \u001b[39mif\u001b[39;00m \u001b[39mfrozenset\u001b[39m(x) \u001b[39mnot\u001b[39;00m \u001b[39min\u001b[39;00m children:\n\u001b[1;32m     67\u001b[0m                 children[\u001b[39mfrozenset\u001b[39m(x)] \u001b[39m=\u001b[39m []\n",
      "\u001b[0;31mKeyboardInterrupt\u001b[0m: "
     ]
    }
   ],
   "source": [
    "def paul_elliot(p: Problem, Vs: list[list]):\n",
    "    #start_time = time.time()\n",
    "    #tracemalloc.start()\n",
    "\n",
    "    pi = []\n",
    "\n",
    "    for v in Vs:\n",
    "        pi.append(find_prime_implicants_elliot(p, v))\n",
    "\n",
    "    #print(f\"paul_elliot {tracemalloc.get_traced_memory()}, to run\")\n",
    "    #tracemalloc.stop()\n",
    "\n",
    "results = paul_elliot(p_thruster, [Va, Vb, Vc])"
   ]
  },
  {
   "cell_type": "code",
   "execution_count": null,
   "metadata": {},
   "outputs": [],
   "source": []
  }
 ],
 "metadata": {
  "kernelspec": {
   "display_name": "cogrob",
   "language": "python",
   "name": "python3"
  },
  "language_info": {
   "codemirror_mode": {
    "name": "ipython",
    "version": 3
   },
   "file_extension": ".py",
   "mimetype": "text/x-python",
   "name": "python",
   "nbconvert_exporter": "python",
   "pygments_lexer": "ipython3",
   "version": "3.10.8"
  },
  "orig_nbformat": 4
 },
 "nbformat": 4,
 "nbformat_minor": 2
}
