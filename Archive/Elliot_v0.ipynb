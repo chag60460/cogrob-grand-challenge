{
 "cells": [
  {
   "cell_type": "code",
   "execution_count": 5,
   "metadata": {},
   "outputs": [],
   "source": [
    "from propositional_state_logic import *\n",
    "from utils import *\n",
    "from collections import defaultdict\n",
    "import itertools\n",
    "from copy import deepcopy"
   ]
  },
  {
   "cell_type": "code",
   "execution_count": 6,
   "metadata": {},
   "outputs": [
    {
     "name": "stdout",
     "output_type": "stream",
     "text": [
      "Constraints:\n"
     ]
    },
    {
     "data": {
      "text/latex": [
       "$$F1 \\Rightarrow P1$$"
      ],
      "text/plain": [
       "<IPython.core.display.Latex object>"
      ]
     },
     "metadata": {},
     "output_type": "display_data"
    },
    {
     "data": {
      "text/latex": [
       "$$\\neg F1 \\Rightarrow \\neg P1$$"
      ],
      "text/plain": [
       "<IPython.core.display.Latex object>"
      ]
     },
     "metadata": {},
     "output_type": "display_data"
    },
    {
     "data": {
      "text/latex": [
       "$$V1 \\wedge P1 \\Rightarrow P2$$"
      ],
      "text/plain": [
       "<IPython.core.display.Latex object>"
      ]
     },
     "metadata": {},
     "output_type": "display_data"
    },
    {
     "data": {
      "text/latex": [
       "$$V1 \\wedge \\neg P1 \\Rightarrow \\neg P2$$"
      ],
      "text/plain": [
       "<IPython.core.display.Latex object>"
      ]
     },
     "metadata": {},
     "output_type": "display_data"
    },
    {
     "data": {
      "text/latex": [
       "$$\\neg V1 \\Rightarrow \\neg P2$$"
      ],
      "text/plain": [
       "<IPython.core.display.Latex object>"
      ]
     },
     "metadata": {},
     "output_type": "display_data"
    },
    {
     "data": {
      "text/latex": [
       "$$V2 \\wedge P2 \\Rightarrow PV2$$"
      ],
      "text/plain": [
       "<IPython.core.display.Latex object>"
      ]
     },
     "metadata": {},
     "output_type": "display_data"
    },
    {
     "data": {
      "text/latex": [
       "$$V2 \\wedge \\neg P2 \\Rightarrow \\neg PV2$$"
      ],
      "text/plain": [
       "<IPython.core.display.Latex object>"
      ]
     },
     "metadata": {},
     "output_type": "display_data"
    },
    {
     "data": {
      "text/latex": [
       "$$\\neg V2 \\Rightarrow \\neg PV2$$"
      ],
      "text/plain": [
       "<IPython.core.display.Latex object>"
      ]
     },
     "metadata": {},
     "output_type": "display_data"
    },
    {
     "data": {
      "text/latex": [
       "$$V3 \\wedge P2 \\Rightarrow PV3$$"
      ],
      "text/plain": [
       "<IPython.core.display.Latex object>"
      ]
     },
     "metadata": {},
     "output_type": "display_data"
    },
    {
     "data": {
      "text/latex": [
       "$$V3 \\wedge \\neg P2 \\Rightarrow \\neg PV3$$"
      ],
      "text/plain": [
       "<IPython.core.display.Latex object>"
      ]
     },
     "metadata": {},
     "output_type": "display_data"
    },
    {
     "data": {
      "text/latex": [
       "$$\\neg V3 \\Rightarrow \\neg PV3$$"
      ],
      "text/plain": [
       "<IPython.core.display.Latex object>"
      ]
     },
     "metadata": {},
     "output_type": "display_data"
    },
    {
     "data": {
      "text/latex": [
       "$$\\neg PV2 \\wedge \\neg PV3 \\Rightarrow \\neg P3$$"
      ],
      "text/plain": [
       "<IPython.core.display.Latex object>"
      ]
     },
     "metadata": {},
     "output_type": "display_data"
    },
    {
     "data": {
      "text/latex": [
       "$$PV2 \\Rightarrow P3$$"
      ],
      "text/plain": [
       "<IPython.core.display.Latex object>"
      ]
     },
     "metadata": {},
     "output_type": "display_data"
    },
    {
     "data": {
      "text/latex": [
       "$$PV3 \\Rightarrow P3$$"
      ],
      "text/plain": [
       "<IPython.core.display.Latex object>"
      ]
     },
     "metadata": {},
     "output_type": "display_data"
    },
    {
     "data": {
      "text/latex": [
       "$$R1 \\wedge P3 \\Rightarrow T1$$"
      ],
      "text/plain": [
       "<IPython.core.display.Latex object>"
      ]
     },
     "metadata": {},
     "output_type": "display_data"
    },
    {
     "data": {
      "text/latex": [
       "$$R1 \\wedge \\neg P3 \\Rightarrow \\neg T1$$"
      ],
      "text/plain": [
       "<IPython.core.display.Latex object>"
      ]
     },
     "metadata": {},
     "output_type": "display_data"
    },
    {
     "data": {
      "text/latex": [
       "$$\\neg R1 \\Rightarrow \\neg T1$$"
      ],
      "text/plain": [
       "<IPython.core.display.Latex object>"
      ]
     },
     "metadata": {},
     "output_type": "display_data"
    }
   ],
   "source": [
    "p = Problem()\n",
    "\n",
    "# Define the variables above. Returns a Variable object.\n",
    "F1 = p.add_variable('F1', type='binary')\n",
    "P1 = p.add_variable('P1', type='binary')\n",
    "V1 = p.add_variable('V1', type='binary')\n",
    "P2 = p.add_variable('P2', type='binary')\n",
    "V2 = p.add_variable('V2', type='binary')\n",
    "PV2 = p.add_variable('PV2', type='binary')\n",
    "V3 = p.add_variable('V3', type='binary')\n",
    "PV3 = p.add_variable('PV3', type='binary')\n",
    "P3 = p.add_variable('P3', type='binary')\n",
    "R1 = p.add_variable('R1', type='binary')\n",
    "T1 = p.add_variable('T1', type='binary')\n",
    "\n",
    "# Add the word problem constraints.\n",
    "p.add_constraint('F1 => P1')\n",
    "p.add_constraint('~F1 => ~P1')\n",
    "\n",
    "p.add_constraint('V1 & P1 => P2')\n",
    "p.add_constraint('V1 & ~P1 => ~P2')\n",
    "p.add_constraint('~V1 => ~P2')\n",
    "\n",
    "p.add_constraint('V2 & P2 => PV2')\n",
    "p.add_constraint('V2 & ~P2 => ~PV2')\n",
    "p.add_constraint('~V2 => ~PV2')\n",
    "\n",
    "p.add_constraint('V3 & P2 => PV3')\n",
    "p.add_constraint('V3 & ~P2 => ~PV3')\n",
    "p.add_constraint('~V3 => ~PV3')\n",
    "\n",
    "p.add_constraint('~PV2 & ~PV3 => ~P3')\n",
    "p.add_constraint('PV2 => P3')\n",
    "p.add_constraint('PV3 => P3')\n",
    "\n",
    "p.add_constraint('R1 & P3 => T1')\n",
    "p.add_constraint('R1 & ~P3 => ~T1')\n",
    "p.add_constraint('~R1 => ~T1')\n",
    "\n",
    "# Prints out constraints nicely in LaTeX, so you can check them.\n",
    "display_constraints(p)"
   ]
  },
  {
   "cell_type": "code",
   "execution_count": 7,
   "metadata": {},
   "outputs": [
    {
     "data": {
      "text/plain": [
       "(False, None, frozenset())"
      ]
     },
     "execution_count": 7,
     "metadata": {},
     "output_type": "execute_result"
    }
   ],
   "source": [
    "sat = SATSolver(p)\n",
    "# Make an assignment to some variables; variable.get_assignment(value) returns an Assignment.\n",
    "assignment = frozenset([F1.get_assignment('True'), P1.get_assignment('False')])\n",
    "sat.check_consistency(assignment)"
   ]
  },
  {
   "cell_type": "code",
   "execution_count": 8,
   "metadata": {},
   "outputs": [],
   "source": [
    "Vs = ['T1', 'R1', 'P3']"
   ]
  },
  {
   "cell_type": "code",
   "execution_count": 9,
   "metadata": {},
   "outputs": [
    {
     "data": {
      "text/plain": [
       "['T1', 'R1', 'P3']"
      ]
     },
     "execution_count": 9,
     "metadata": {},
     "output_type": "execute_result"
    }
   ],
   "source": [
    "Vs"
   ]
  },
  {
   "cell_type": "code",
   "execution_count": 136,
   "metadata": {},
   "outputs": [],
   "source": [
    "def findsubsets(s, n):\n",
    "    return itertools.combinations(s, n)\n"
   ]
  },
  {
   "cell_type": "code",
   "execution_count": 138,
   "metadata": {},
   "outputs": [],
   "source": [
    "nodes = []\n",
    "\n",
    "for i in range(len(Vs)+1):\n",
    "    for n in findsubsets(Vs, i):\n",
    "        nodes.append(n)"
   ]
  },
  {
   "cell_type": "code",
   "execution_count": 139,
   "metadata": {},
   "outputs": [
    {
     "data": {
      "text/plain": [
       "[[],\n",
       " ['T1'],\n",
       " ['R1'],\n",
       " ['P3'],\n",
       " ['T1', 'R1'],\n",
       " ['T1', 'P3'],\n",
       " ['R1', 'P3'],\n",
       " ['T1', 'R1', 'P3']]"
      ]
     },
     "execution_count": 139,
     "metadata": {},
     "output_type": "execute_result"
    }
   ],
   "source": [
    "nodes"
   ]
  },
  {
   "cell_type": "code",
   "execution_count": 14,
   "metadata": {},
   "outputs": [],
   "source": [
    "tree = {}\n",
    "level = 0"
   ]
  },
  {
   "cell_type": "code",
   "execution_count": 123,
   "metadata": {},
   "outputs": [],
   "source": [
    "l = {}\n",
    "\n",
    "for n in nodes[1:]:\n",
    "    for j in nodes[1:]:\n",
    "        if n != j and n == j[:len(n)] and len(j) == len(n)+1:\n",
    "            if n in l.keys():\n",
    "                l[n].append(j)\n",
    "            else:\n",
    "                l[n] = [j]\n"
   ]
  },
  {
   "cell_type": "code",
   "execution_count": 128,
   "metadata": {},
   "outputs": [],
   "source": [
    "def children(nodes, n):\n",
    "    print('enter')\n",
    "    print('n',n)\n",
    "    print('nodes',nodes)\n",
    "    if n in nodes:\n",
    "        nodes.remove(n)\n",
    "    print('nodes',nodes)\n",
    "    \n",
    "    if nodes == [] or [j for j in nodes if n != j and n == j[:len(n)] and len(j) == len(n)+1] == []:\n",
    "        return {}\n",
    "    else:\n",
    "        print('children', [j for j in nodes if n != j and n == j[:len(n)] and len(j) == len(n)+1])\n",
    "        a = [j for j in nodes if n != j and n == j[:len(n)] and len(j) == len(n)+1][0]\n",
    "        print('child',a)\n",
    "        return {n : {j: children([k for k in nodes if k != j], j) for j in nodes if n != j and n == j[:len(n)] and len(j) == len(n)+1}}"
   ]
  },
  {
   "cell_type": "code",
   "execution_count": 122,
   "metadata": {},
   "outputs": [
    {
     "name": "stdout",
     "output_type": "stream",
     "text": [
      "enter\n",
      "n ('T1',)\n",
      "nodes [('T1',), ('R1',), ('P3',), ('T1', 'R1'), ('T1', 'P3'), ('R1', 'P3'), ('T1', 'R1', 'P3')]\n",
      "nodes [('R1',), ('P3',), ('T1', 'R1'), ('T1', 'P3'), ('R1', 'P3'), ('T1', 'R1', 'P3')]\n",
      "children [('T1', 'R1'), ('T1', 'P3')]\n",
      "child ('T1', 'R1')\n",
      "enter\n",
      "n ('T1', 'R1')\n",
      "nodes [('R1',), ('P3',), ('T1', 'P3'), ('R1', 'P3'), ('T1', 'R1', 'P3')]\n",
      "nodes [('R1',), ('P3',), ('T1', 'P3'), ('R1', 'P3'), ('T1', 'R1', 'P3')]\n",
      "children [('T1', 'R1', 'P3')]\n",
      "child ('T1', 'R1', 'P3')\n",
      "enter\n",
      "n ('T1', 'R1', 'P3')\n",
      "nodes [('R1',), ('P3',), ('T1', 'P3'), ('R1', 'P3')]\n",
      "nodes [('R1',), ('P3',), ('T1', 'P3'), ('R1', 'P3')]\n",
      "enter\n",
      "n ('T1', 'P3')\n",
      "nodes [('R1',), ('P3',), ('T1', 'R1'), ('R1', 'P3'), ('T1', 'R1', 'P3')]\n",
      "nodes [('R1',), ('P3',), ('T1', 'R1'), ('R1', 'P3'), ('T1', 'R1', 'P3')]\n"
     ]
    },
    {
     "data": {
      "text/plain": [
       "{('T1',): {('T1', 'R1'): {('T1', 'R1'): {('T1', 'R1', 'P3'): {}}},\n",
       "  ('T1', 'P3'): {}}}"
      ]
     },
     "execution_count": 122,
     "metadata": {},
     "output_type": "execute_result"
    }
   ],
   "source": [
    "children(nodes[1:], ('T1',))"
   ]
  },
  {
   "cell_type": "code",
   "execution_count": null,
   "metadata": {},
   "outputs": [],
   "source": [
    "nodes = nodes[1:]\n",
    "root = ('T1',)\n",
    "\n",
    "while len(nodes) > 0:\n",
    "    print('enter')\n",
    "    print('n',n)\n",
    "    print('nodes',nodes)\n",
    "    if n in nodes:\n",
    "        nodes.remove(n)\n",
    "    print('nodes',nodes)\n",
    "    \n",
    "    if nodes == [] or [j for j in nodes if n != j and n == j[:len(n)] and len(j) == len(n)+1] == []:\n",
    "        print({})\n",
    "    else:\n",
    "        print('children', [j for j in nodes if n != j and n == j[:len(n)] and len(j) == len(n)+1])\n",
    "        a = [j for j in nodes if n != j and n == j[:len(n)] and len(j) == len(n)+1][0]\n",
    "        print('child',a)\n",
    "        return {n : {j: children([k for k in nodes if k != j], j) for j in nodes if n != j and n == j[:len(n)] and len(j) == len(n)+1}}"
   ]
  },
  {
   "cell_type": "code",
   "execution_count": null,
   "metadata": {},
   "outputs": [],
   "source": []
  },
  {
   "cell_type": "code",
   "execution_count": 140,
   "metadata": {},
   "outputs": [],
   "source": []
  },
  {
   "cell_type": "code",
   "execution_count": 220,
   "metadata": {},
   "outputs": [
    {
     "name": "stdout",
     "output_type": "stream",
     "text": [
      "[[], ['T1'], ['R1'], ['P3'], ['T1', 'R1'], ['T1', 'P3'], ['R1', 'P3'], ['T1', 'R1', 'P3']]\n"
     ]
    }
   ],
   "source": [
    "nodes = []\n",
    "\n",
    "for i in range(len(Vs)+1):\n",
    "    for n in findsubsets(Vs, i):\n",
    "        nodes.append(n)\n",
    "\n",
    "print(nodes)"
   ]
  },
  {
   "cell_type": "code",
   "execution_count": 216,
   "metadata": {},
   "outputs": [],
   "source": []
  },
  {
   "cell_type": "code",
   "execution_count": 221,
   "metadata": {},
   "outputs": [],
   "source": [
    "def list_tree(nodes, n):\n",
    "    new_nodes = deepcopy(nodes)\n",
    "    if n in new_nodes:\n",
    "        new_nodes.remove(n)\n",
    "    \n",
    "    if new_nodes == [] or [j for j in new_nodes if n != j and n == j[:len(n)] and len(j) == len(n)+1] == []:\n",
    "        n.append([])\n",
    "        \n",
    "    else:\n",
    "        n.append([list_tree([k for k in new_nodes if k != j], j) for j in new_nodes if n != j and n == j[:len(n)] and len(j) == len(n)+1])\n",
    "    \n",
    "    return n"
   ]
  },
  {
   "cell_type": "code",
   "execution_count": 225,
   "metadata": {},
   "outputs": [
    {
     "data": {
      "text/plain": [
       "['T1', [['T1', 'R1', [['T1', 'R1', 'P3', []]]], ['T1', 'P3', []]]]"
      ]
     },
     "execution_count": 225,
     "metadata": {},
     "output_type": "execute_result"
    }
   ],
   "source": [
    "list_tree(nodes[1:], ['T1'])"
   ]
  },
  {
   "cell_type": "code",
   "execution_count": 224,
   "metadata": {},
   "outputs": [
    {
     "data": {
      "text/plain": [
       "[[],\n",
       " ['T1'],\n",
       " ['R1'],\n",
       " ['P3'],\n",
       " ['T1', 'R1'],\n",
       " ['T1', 'P3'],\n",
       " ['R1', 'P3'],\n",
       " ['T1', 'R1', 'P3']]"
      ]
     },
     "execution_count": 224,
     "metadata": {},
     "output_type": "execute_result"
    }
   ],
   "source": [
    "nodes"
   ]
  },
  {
   "cell_type": "code",
   "execution_count": 204,
   "metadata": {},
   "outputs": [
    {
     "data": {
      "text/plain": [
       "[['T1'],\n",
       " ['R1'],\n",
       " ['P3'],\n",
       " ['T1', 'R1', [['T1', 'R1', 'P3', []]]],\n",
       " ['T1', 'P3', []],\n",
       " ['R1', 'P3'],\n",
       " ['T1', 'R1', 'P3', []]]"
      ]
     },
     "execution_count": 204,
     "metadata": {},
     "output_type": "execute_result"
    }
   ],
   "source": [
    "nodes[1:]"
   ]
  },
  {
   "cell_type": "code",
   "execution_count": null,
   "metadata": {},
   "outputs": [],
   "source": []
  }
 ],
 "metadata": {
  "kernelspec": {
   "display_name": "cogrob",
   "language": "python",
   "name": "python3"
  },
  "language_info": {
   "codemirror_mode": {
    "name": "ipython",
    "version": 3
   },
   "file_extension": ".py",
   "mimetype": "text/x-python",
   "name": "python",
   "nbconvert_exporter": "python",
   "pygments_lexer": "ipython3",
   "version": "3.10.8"
  },
  "orig_nbformat": 4
 },
 "nbformat": 4,
 "nbformat_minor": 2
}
