{
 "cells": [
  {
   "cell_type": "code",
   "execution_count": 192,
   "metadata": {},
   "outputs": [],
   "source": [
    "import sys\n",
    "sys.path.append('/Users/reginaceballos/Documents/MIT/2023 - Spring/6.8110 - Cognitive Robotics/Final project/cogrob-grand-challenge/')\n",
    "sys.path.append('/Users/reginaceballos/Documents/MIT/2023 - Spring/6.8110 - Cognitive Robotics/Final project/cogrob-grand-challenge/Benchmark')"
   ]
  },
  {
   "cell_type": "code",
   "execution_count": 193,
   "metadata": {},
   "outputs": [],
   "source": [
    "from src.propositional_state_logic import *\n",
    "from src.utils import *\n",
    "from collections import defaultdict\n",
    "import itertools\n",
    "from copy import deepcopy"
   ]
  },
  {
   "cell_type": "code",
   "execution_count": 194,
   "metadata": {},
   "outputs": [
    {
     "name": "stdout",
     "output_type": "stream",
     "text": [
      "Constraints:\n"
     ]
    },
    {
     "data": {
      "text/latex": [
       "$$F1 \\Rightarrow P1$$"
      ],
      "text/plain": [
       "<IPython.core.display.Latex object>"
      ]
     },
     "metadata": {},
     "output_type": "display_data"
    },
    {
     "data": {
      "text/latex": [
       "$$\\neg F1 \\Rightarrow \\neg P1$$"
      ],
      "text/plain": [
       "<IPython.core.display.Latex object>"
      ]
     },
     "metadata": {},
     "output_type": "display_data"
    },
    {
     "data": {
      "text/latex": [
       "$$V1 \\wedge P1 \\Rightarrow P2$$"
      ],
      "text/plain": [
       "<IPython.core.display.Latex object>"
      ]
     },
     "metadata": {},
     "output_type": "display_data"
    },
    {
     "data": {
      "text/latex": [
       "$$V1 \\wedge \\neg P1 \\Rightarrow \\neg P2$$"
      ],
      "text/plain": [
       "<IPython.core.display.Latex object>"
      ]
     },
     "metadata": {},
     "output_type": "display_data"
    },
    {
     "data": {
      "text/latex": [
       "$$\\neg V1 \\Rightarrow \\neg P2$$"
      ],
      "text/plain": [
       "<IPython.core.display.Latex object>"
      ]
     },
     "metadata": {},
     "output_type": "display_data"
    },
    {
     "data": {
      "text/latex": [
       "$$V2 \\wedge P2 \\Rightarrow PV2$$"
      ],
      "text/plain": [
       "<IPython.core.display.Latex object>"
      ]
     },
     "metadata": {},
     "output_type": "display_data"
    },
    {
     "data": {
      "text/latex": [
       "$$V2 \\wedge \\neg P2 \\Rightarrow \\neg PV2$$"
      ],
      "text/plain": [
       "<IPython.core.display.Latex object>"
      ]
     },
     "metadata": {},
     "output_type": "display_data"
    },
    {
     "data": {
      "text/latex": [
       "$$\\neg V2 \\Rightarrow \\neg PV2$$"
      ],
      "text/plain": [
       "<IPython.core.display.Latex object>"
      ]
     },
     "metadata": {},
     "output_type": "display_data"
    },
    {
     "data": {
      "text/latex": [
       "$$V3 \\wedge P2 \\Rightarrow PV3$$"
      ],
      "text/plain": [
       "<IPython.core.display.Latex object>"
      ]
     },
     "metadata": {},
     "output_type": "display_data"
    },
    {
     "data": {
      "text/latex": [
       "$$V3 \\wedge \\neg P2 \\Rightarrow \\neg PV3$$"
      ],
      "text/plain": [
       "<IPython.core.display.Latex object>"
      ]
     },
     "metadata": {},
     "output_type": "display_data"
    },
    {
     "data": {
      "text/latex": [
       "$$\\neg V3 \\Rightarrow \\neg PV3$$"
      ],
      "text/plain": [
       "<IPython.core.display.Latex object>"
      ]
     },
     "metadata": {},
     "output_type": "display_data"
    },
    {
     "data": {
      "text/latex": [
       "$$\\neg PV2 \\wedge \\neg PV3 \\Rightarrow \\neg P3$$"
      ],
      "text/plain": [
       "<IPython.core.display.Latex object>"
      ]
     },
     "metadata": {},
     "output_type": "display_data"
    },
    {
     "data": {
      "text/latex": [
       "$$PV2 \\Rightarrow P3$$"
      ],
      "text/plain": [
       "<IPython.core.display.Latex object>"
      ]
     },
     "metadata": {},
     "output_type": "display_data"
    },
    {
     "data": {
      "text/latex": [
       "$$PV3 \\Rightarrow P3$$"
      ],
      "text/plain": [
       "<IPython.core.display.Latex object>"
      ]
     },
     "metadata": {},
     "output_type": "display_data"
    },
    {
     "data": {
      "text/latex": [
       "$$R1 \\wedge P3 \\Rightarrow T1$$"
      ],
      "text/plain": [
       "<IPython.core.display.Latex object>"
      ]
     },
     "metadata": {},
     "output_type": "display_data"
    },
    {
     "data": {
      "text/latex": [
       "$$R1 \\wedge \\neg P3 \\Rightarrow \\neg T1$$"
      ],
      "text/plain": [
       "<IPython.core.display.Latex object>"
      ]
     },
     "metadata": {},
     "output_type": "display_data"
    },
    {
     "data": {
      "text/latex": [
       "$$\\neg R1 \\Rightarrow \\neg T1$$"
      ],
      "text/plain": [
       "<IPython.core.display.Latex object>"
      ]
     },
     "metadata": {},
     "output_type": "display_data"
    }
   ],
   "source": [
    "p = Problem()\n",
    "\n",
    "# Define the variables above. Returns a Variable object.\n",
    "F1 = p.add_variable('F1', type='binary')\n",
    "P1 = p.add_variable('P1', type='binary')\n",
    "V1 = p.add_variable('V1', type='binary')\n",
    "P2 = p.add_variable('P2', type='binary')\n",
    "V2 = p.add_variable('V2', type='binary')\n",
    "PV2 = p.add_variable('PV2', type='binary')\n",
    "V3 = p.add_variable('V3', type='binary')\n",
    "PV3 = p.add_variable('PV3', type='binary')\n",
    "P3 = p.add_variable('P3', type='binary')\n",
    "R1 = p.add_variable('R1', type='binary')\n",
    "T1 = p.add_variable('T1', type='binary')\n",
    "\n",
    "# Add the word problem constraints.\n",
    "p.add_constraint('F1 => P1')\n",
    "p.add_constraint('~F1 => ~P1')\n",
    "\n",
    "p.add_constraint('V1 & P1 => P2')\n",
    "p.add_constraint('V1 & ~P1 => ~P2')\n",
    "p.add_constraint('~V1 => ~P2')\n",
    "\n",
    "p.add_constraint('V2 & P2 => PV2')\n",
    "p.add_constraint('V2 & ~P2 => ~PV2')\n",
    "p.add_constraint('~V2 => ~PV2')\n",
    "\n",
    "p.add_constraint('V3 & P2 => PV3')\n",
    "p.add_constraint('V3 & ~P2 => ~PV3')\n",
    "p.add_constraint('~V3 => ~PV3')\n",
    "\n",
    "p.add_constraint('~PV2 & ~PV3 => ~P3')\n",
    "p.add_constraint('PV2 => P3')\n",
    "p.add_constraint('PV3 => P3')\n",
    "\n",
    "p.add_constraint('R1 & P3 => T1')\n",
    "p.add_constraint('R1 & ~P3 => ~T1')\n",
    "p.add_constraint('~R1 => ~T1')\n",
    "\n",
    "# Prints out constraints nicely in LaTeX, so you can check them.\n",
    "display_constraints(p)"
   ]
  },
  {
   "cell_type": "code",
   "execution_count": 195,
   "metadata": {},
   "outputs": [
    {
     "data": {
      "text/plain": [
       "(False, None, frozenset())"
      ]
     },
     "execution_count": 195,
     "metadata": {},
     "output_type": "execute_result"
    }
   ],
   "source": [
    "sat = SATSolver(p)\n",
    "# Make an assignment to some variables; variable.get_assignment(value) returns an Assignment.\n",
    "assignment = frozenset([F1.get_assignment('True'), P1.get_assignment('False')])\n",
    "sat.check_consistency(assignment)"
   ]
  },
  {
   "cell_type": "code",
   "execution_count": 196,
   "metadata": {},
   "outputs": [
    {
     "data": {
      "text/plain": [
       "['T1', 'R1', 'P3']"
      ]
     },
     "execution_count": 196,
     "metadata": {},
     "output_type": "execute_result"
    }
   ],
   "source": [
    "Vs = ['T1', 'R1', 'P3']\n",
    "Vs"
   ]
  },
  {
   "cell_type": "code",
   "execution_count": 197,
   "metadata": {},
   "outputs": [],
   "source": [
    "#Vs = ['F1', 'P1']\n",
    "#Vs"
   ]
  },
  {
   "cell_type": "code",
   "execution_count": 198,
   "metadata": {},
   "outputs": [],
   "source": [
    "#Vs = ['P1', 'V1', 'V2', 'V3', 'P3']\n",
    "#Vs"
   ]
  },
  {
   "cell_type": "code",
   "execution_count": 199,
   "metadata": {},
   "outputs": [],
   "source": [
    "def findsubsets(s, n):\n",
    "    return (list(tup) for tup in itertools.combinations(s, n))"
   ]
  },
  {
   "cell_type": "code",
   "execution_count": 200,
   "metadata": {},
   "outputs": [],
   "source": [
    "def get_nodes(variable_list):\n",
    "    nodes = []\n",
    "\n",
    "    for i in range(len(variable_list)+1):\n",
    "        for n in findsubsets(variable_list, i):\n",
    "            nodes.append(n)\n",
    "\n",
    "    return nodes"
   ]
  },
  {
   "cell_type": "code",
   "execution_count": 201,
   "metadata": {},
   "outputs": [
    {
     "data": {
      "text/plain": [
       "[T1, ¬T1, R1, ¬R1, P3, ¬P3]"
      ]
     },
     "execution_count": 201,
     "metadata": {},
     "output_type": "execute_result"
    }
   ],
   "source": [
    "all_domains = []\n",
    "\n",
    "for v in Vs:\n",
    "    var = p.get_variable(v)\n",
    "    for a in list(var.domain):\n",
    "        all_domains.append(var.get_assignment(a))\n",
    "\n",
    "all_domains"
   ]
  },
  {
   "cell_type": "code",
   "execution_count": 202,
   "metadata": {},
   "outputs": [
    {
     "data": {
      "text/plain": [
       "[[],\n",
       " [T1],\n",
       " [¬T1],\n",
       " [R1],\n",
       " [¬R1],\n",
       " [P3],\n",
       " [¬P3],\n",
       " [T1, R1],\n",
       " [T1, ¬R1],\n",
       " [T1, P3],\n",
       " [T1, ¬P3],\n",
       " [¬T1, R1],\n",
       " [¬T1, ¬R1],\n",
       " [¬T1, P3],\n",
       " [¬T1, ¬P3],\n",
       " [R1, P3],\n",
       " [R1, ¬P3],\n",
       " [¬R1, P3],\n",
       " [¬R1, ¬P3],\n",
       " [T1, R1, P3],\n",
       " [T1, R1, ¬P3],\n",
       " [T1, ¬R1, P3],\n",
       " [T1, ¬R1, ¬P3],\n",
       " [¬T1, R1, P3],\n",
       " [¬T1, R1, ¬P3],\n",
       " [¬T1, ¬R1, P3],\n",
       " [¬T1, ¬R1, ¬P3]]"
      ]
     },
     "execution_count": 202,
     "metadata": {},
     "output_type": "execute_result"
    }
   ],
   "source": [
    "full_set = get_nodes(all_domains)\n",
    "reduced_set = []\n",
    "\n",
    "for v in full_set:\n",
    "    if len(v) == len(set([a.var for a in v])):\n",
    "        #reduced_set.append([a.__str__() for a in v])\n",
    "        reduced_set.append(v)\n",
    "\n",
    "reduced_set\n"
   ]
  },
  {
   "cell_type": "code",
   "execution_count": 203,
   "metadata": {},
   "outputs": [],
   "source": [
    "def list_tree(nodes, n):\n",
    "    new_nodes = deepcopy(nodes)\n",
    "    if n in new_nodes:\n",
    "        new_nodes.remove(n)\n",
    "\n",
    "    a = []\n",
    "    a.append(n)\n",
    "\n",
    "    if new_nodes == [] or [j for j in new_nodes if n != j and [v.__str__() for v in n] == [v.__str__() for v in j[:len(n)]] and len(j) == len(n)+1] == []:\n",
    "        a.append([])\n",
    "        \n",
    "    else:\n",
    "        a.append([list_tree([k for k in new_nodes if k != j], j) for j in new_nodes if n != j and [v.__str__() for v in n] == [v.__str__() for v in j[:len(n)]] and len(j) == len(n)+1])\n",
    "    \n",
    "    return a"
   ]
  },
  {
   "cell_type": "code",
   "execution_count": 204,
   "metadata": {},
   "outputs": [
    {
     "data": {
      "text/plain": [
       "[[],\n",
       " [[[T1],\n",
       "   [[[T1, R1], [[[T1, R1, P3], []], [[T1, R1, ¬P3], []]]],\n",
       "    [[T1, ¬R1], [[[T1, ¬R1, P3], []], [[T1, ¬R1, ¬P3], []]]],\n",
       "    [[T1, P3], []],\n",
       "    [[T1, ¬P3], []]]],\n",
       "  [[¬T1],\n",
       "   [[[¬T1, R1], [[[¬T1, R1, P3], []], [[¬T1, R1, ¬P3], []]]],\n",
       "    [[¬T1, ¬R1], [[[¬T1, ¬R1, P3], []], [[¬T1, ¬R1, ¬P3], []]]],\n",
       "    [[¬T1, P3], []],\n",
       "    [[¬T1, ¬P3], []]]],\n",
       "  [[R1], [[[R1, P3], []], [[R1, ¬P3], []]]],\n",
       "  [[¬R1], [[[¬R1, P3], []], [[¬R1, ¬P3], []]]],\n",
       "  [[P3], []],\n",
       "  [[¬P3], []]]]"
      ]
     },
     "execution_count": 204,
     "metadata": {},
     "output_type": "execute_result"
    }
   ],
   "source": [
    "tree = list_tree(reduced_set, [])\n",
    "tree"
   ]
  },
  {
   "cell_type": "code",
   "execution_count": 205,
   "metadata": {},
   "outputs": [
    {
     "data": {
      "text/plain": [
       "[]"
      ]
     },
     "execution_count": 205,
     "metadata": {},
     "output_type": "execute_result"
    }
   ],
   "source": [
    "tree[0]"
   ]
  },
  {
   "cell_type": "code",
   "execution_count": 206,
   "metadata": {},
   "outputs": [],
   "source": [
    "def traverse(o):\n",
    "    if o != []:\n",
    "        if isinstance(o, list) and len(o) > 1:\n",
    "            if not isinstance(o[0], list):\n",
    "                yield o\n",
    "            else:\n",
    "                for value in o:\n",
    "                    #print('value',value, isinstance(value, list))\n",
    "                    for subvalue in traverse(value):\n",
    "                        yield subvalue\n",
    "        else:\n",
    "            yield o"
   ]
  },
  {
   "cell_type": "code",
   "execution_count": 207,
   "metadata": {},
   "outputs": [
    {
     "name": "stdout",
     "output_type": "stream",
     "text": [
      "[T1]\n",
      "(True, frozenset({V3, P2, V1, V2, PV2, P3, F1, R1, T1, P1, PV3}), None)\n",
      "[T1, R1]\n",
      "(True, frozenset({V3, P2, V1, V2, PV2, P3, F1, R1, T1, P1, PV3}), None)\n",
      "[T1, R1, P3]\n",
      "(True, frozenset({V3, P2, V1, V2, PV2, P3, F1, R1, T1, P1, PV3}), None)\n",
      "[T1, R1, ¬P3]\n",
      "(False, None, frozenset())\n",
      "[T1, ¬R1]\n",
      "(False, None, frozenset())\n",
      "[T1, ¬R1, P3]\n",
      "(False, None, frozenset())\n",
      "[T1, ¬R1, ¬P3]\n",
      "(False, None, frozenset())\n",
      "[T1, P3]\n",
      "(True, frozenset({V3, P2, V1, V2, PV2, P3, F1, R1, T1, P1, PV3}), None)\n",
      "[T1, ¬P3]\n",
      "(False, None, frozenset())\n",
      "[¬T1]\n",
      "(True, frozenset({V3, ¬T1, ¬V2, P2, V1, P3, PV3, F1, ¬R1, P1, ¬PV2}), None)\n",
      "[¬T1, R1]\n",
      "(True, frozenset({¬PV3, ¬T1, ¬V3, V1, V2, ¬P1, ¬F1, R1, ¬P3, ¬P2, ¬PV2}), None)\n",
      "[¬T1, R1, P3]\n",
      "(False, None, frozenset())\n",
      "[¬T1, R1, ¬P3]\n",
      "(True, frozenset({¬PV3, ¬T1, ¬V3, V1, V2, ¬P1, ¬F1, R1, ¬P3, ¬P2, ¬PV2}), None)\n",
      "[¬T1, ¬R1]\n",
      "(True, frozenset({V3, ¬T1, ¬V2, P2, V1, P3, PV3, F1, ¬R1, P1, ¬PV2}), None)\n",
      "[¬T1, ¬R1, P3]\n",
      "(True, frozenset({V3, ¬T1, P2, V1, V2, PV2, P3, F1, ¬R1, P1, PV3}), None)\n",
      "[¬T1, ¬R1, ¬P3]\n",
      "(True, frozenset({¬PV3, ¬T1, ¬V3, V1, V2, ¬P1, ¬PV2, ¬R1, ¬P3, ¬P2, ¬F1}), None)\n",
      "[¬T1, P3]\n",
      "(True, frozenset({V3, ¬T1, P2, V1, V2, PV2, P3, F1, ¬R1, P1, PV3}), None)\n",
      "[¬T1, ¬P3]\n",
      "(True, frozenset({¬PV3, ¬T1, ¬V3, V2, ¬P1, ¬PV2, ¬R1, ¬P3, ¬P2, ¬V1, ¬F1}), None)\n",
      "[R1]\n",
      "(True, frozenset({V3, ¬V2, P2, V1, P3, PV3, R1, F1, T1, P1, ¬PV2}), None)\n",
      "[R1, P3]\n",
      "(True, frozenset({V3, P2, V1, V2, PV2, P3, F1, R1, T1, P1, PV3}), None)\n",
      "[R1, ¬P3]\n",
      "(True, frozenset({¬PV3, ¬T1, ¬V3, V1, V2, ¬P1, ¬F1, R1, ¬P3, ¬P2, ¬PV2}), None)\n",
      "[¬R1]\n",
      "(True, frozenset({V3, ¬T1, ¬V2, P2, V1, P3, PV3, F1, ¬R1, P1, ¬PV2}), None)\n",
      "[¬R1, P3]\n",
      "(True, frozenset({V3, ¬T1, P2, V1, V2, PV2, P3, F1, ¬R1, P1, PV3}), None)\n",
      "[¬R1, ¬P3]\n",
      "(True, frozenset({¬PV3, ¬T1, ¬V3, V1, V2, ¬P1, ¬PV2, ¬R1, ¬P3, ¬P2, ¬F1}), None)\n",
      "[P3]\n",
      "(True, frozenset({V3, ¬T1, ¬V2, P2, V1, P3, PV3, F1, ¬R1, P1, ¬PV2}), None)\n",
      "[¬P3]\n",
      "(True, frozenset({¬PV3, ¬T1, ¬V3, V2, ¬P1, ¬PV2, ¬R1, ¬P3, ¬P2, ¬V1, ¬F1}), None)\n"
     ]
    }
   ],
   "source": [
    "for assignment in traverse(tree):\n",
    "    print(assignment)\n",
    "    candidate = frozenset([p.get_variable(a.var.__str__()).get_assignment(a.val) for a in assignment])\n",
    "    print(sat.check_consistency(candidate))"
   ]
  },
  {
   "cell_type": "code",
   "execution_count": 208,
   "metadata": {},
   "outputs": [
    {
     "name": "stdout",
     "output_type": "stream",
     "text": [
      "conflicts [frozenset({R1, T1, ¬P3}), frozenset({¬R1, T1}), frozenset({P3, ¬R1, T1}), frozenset({¬R1, T1, ¬P3}), frozenset({T1, ¬P3}), frozenset({P3, R1, ¬T1})]\n",
      "satisfiable [frozenset({T1}), frozenset({R1, T1}), frozenset({P3, R1, T1}), frozenset({P3, T1}), frozenset({¬T1}), frozenset({R1, ¬T1}), frozenset({R1, ¬T1, ¬P3}), frozenset({¬T1, ¬R1}), frozenset({P3, ¬T1, ¬R1}), frozenset({¬T1, ¬R1, ¬P3}), frozenset({P3, ¬T1}), frozenset({¬T1, ¬P3}), frozenset({R1}), frozenset({P3, R1}), frozenset({R1, ¬P3}), frozenset({¬R1}), frozenset({P3, ¬R1}), frozenset({¬R1, ¬P3}), frozenset({P3}), frozenset({¬P3})]\n"
     ]
    }
   ],
   "source": [
    "conflicts = []\n",
    "satisfiable = []\n",
    "\n",
    "for assignment in traverse(tree):\n",
    "    candidate = frozenset([p.get_variable(a.var.__str__()).get_assignment(a.val) for a in assignment])\n",
    "    if sat.check_consistency(candidate)[0] == True:\n",
    "        satisfiable.append(candidate)\n",
    "    else:\n",
    "        conflicts.append(candidate)\n",
    "\n",
    "print('conflicts',conflicts)\n",
    "print('satisfiable',satisfiable)\n"
   ]
  },
  {
   "cell_type": "code",
   "execution_count": null,
   "metadata": {},
   "outputs": [],
   "source": []
  },
  {
   "cell_type": "code",
   "execution_count": 209,
   "metadata": {},
   "outputs": [
    {
     "data": {
      "text/plain": [
       "[[],\n",
       " [[[T1],\n",
       "   [[[T1, R1], [[[T1, R1, P3], []], [[T1, R1, ¬P3], []]]],\n",
       "    [[T1, ¬R1], [[[T1, ¬R1, P3], []], [[T1, ¬R1, ¬P3], []]]],\n",
       "    [[T1, P3], []],\n",
       "    [[T1, ¬P3], []]]],\n",
       "  [[¬T1],\n",
       "   [[[¬T1, R1], [[[¬T1, R1, P3], []], [[¬T1, R1, ¬P3], []]]],\n",
       "    [[¬T1, ¬R1], [[[¬T1, ¬R1, P3], []], [[¬T1, ¬R1, ¬P3], []]]],\n",
       "    [[¬T1, P3], []],\n",
       "    [[¬T1, ¬P3], []]]],\n",
       "  [[R1], [[[R1, P3], []], [[R1, ¬P3], []]]],\n",
       "  [[¬R1], [[[¬R1, P3], []], [[¬R1, ¬P3], []]]],\n",
       "  [[P3], []],\n",
       "  [[¬P3], []]]]"
      ]
     },
     "execution_count": 209,
     "metadata": {},
     "output_type": "execute_result"
    }
   ],
   "source": [
    "tree"
   ]
  },
  {
   "cell_type": "code",
   "execution_count": 210,
   "metadata": {},
   "outputs": [],
   "source": [
    "depth = 0"
   ]
  },
  {
   "cell_type": "code",
   "execution_count": 211,
   "metadata": {},
   "outputs": [
    {
     "data": {
      "text/plain": [
       "[[[T1],\n",
       "  [[[T1, R1], [[[T1, R1, P3], []], [[T1, R1, ¬P3], []]]],\n",
       "   [[T1, ¬R1], [[[T1, ¬R1, P3], []], [[T1, ¬R1, ¬P3], []]]],\n",
       "   [[T1, P3], []],\n",
       "   [[T1, ¬P3], []]]],\n",
       " [[¬T1],\n",
       "  [[[¬T1, R1], [[[¬T1, R1, P3], []], [[¬T1, R1, ¬P3], []]]],\n",
       "   [[¬T1, ¬R1], [[[¬T1, ¬R1, P3], []], [[¬T1, ¬R1, ¬P3], []]]],\n",
       "   [[¬T1, P3], []],\n",
       "   [[¬T1, ¬P3], []]]],\n",
       " [[R1], [[[R1, P3], []], [[R1, ¬P3], []]]],\n",
       " [[¬R1], [[[¬R1, P3], []], [[¬R1, ¬P3], []]]],\n",
       " [[P3], []],\n",
       " [[¬P3], []]]"
      ]
     },
     "execution_count": 211,
     "metadata": {},
     "output_type": "execute_result"
    }
   ],
   "source": [
    "tree[1]"
   ]
  },
  {
   "cell_type": "code",
   "execution_count": 212,
   "metadata": {},
   "outputs": [
    {
     "data": {
      "text/plain": [
       "[[],\n",
       " [T1],\n",
       " [¬T1],\n",
       " [R1],\n",
       " [¬R1],\n",
       " [P3],\n",
       " [¬P3],\n",
       " [T1, R1],\n",
       " [T1, ¬R1],\n",
       " [T1, P3],\n",
       " [T1, ¬P3],\n",
       " [¬T1, R1],\n",
       " [¬T1, ¬R1],\n",
       " [¬T1, P3],\n",
       " [¬T1, ¬P3],\n",
       " [R1, P3],\n",
       " [R1, ¬P3],\n",
       " [¬R1, P3],\n",
       " [¬R1, ¬P3],\n",
       " [T1, R1, P3],\n",
       " [T1, R1, ¬P3],\n",
       " [T1, ¬R1, P3],\n",
       " [T1, ¬R1, ¬P3],\n",
       " [¬T1, R1, P3],\n",
       " [¬T1, R1, ¬P3],\n",
       " [¬T1, ¬R1, P3],\n",
       " [¬T1, ¬R1, ¬P3]]"
      ]
     },
     "execution_count": 212,
     "metadata": {},
     "output_type": "execute_result"
    }
   ],
   "source": [
    "reduced_set"
   ]
  },
  {
   "cell_type": "code",
   "execution_count": 213,
   "metadata": {},
   "outputs": [
    {
     "name": "stdout",
     "output_type": "stream",
     "text": [
      "conflicts [frozenset({¬R1, T1}), frozenset({T1, ¬P3}), frozenset({R1, T1, ¬P3}), frozenset({P3, ¬R1, T1}), frozenset({¬R1, T1, ¬P3}), frozenset({P3, R1, ¬T1})]\n",
      "satisfiable [frozenset(), frozenset({T1}), frozenset({¬T1}), frozenset({R1}), frozenset({¬R1}), frozenset({P3}), frozenset({¬P3}), frozenset({R1, T1}), frozenset({P3, T1}), frozenset({R1, ¬T1}), frozenset({¬T1, ¬R1}), frozenset({P3, ¬T1}), frozenset({¬T1, ¬P3}), frozenset({P3, R1}), frozenset({R1, ¬P3}), frozenset({P3, ¬R1}), frozenset({¬R1, ¬P3}), frozenset({P3, R1, T1}), frozenset({R1, ¬T1, ¬P3}), frozenset({P3, ¬T1, ¬R1}), frozenset({¬T1, ¬R1, ¬P3})]\n"
     ]
    }
   ],
   "source": [
    "conflicts = []\n",
    "satisfiable = []\n",
    "\n",
    "for assignment in reduced_set:\n",
    "    candidate = frozenset([p.get_variable(a.var.__str__()).get_assignment(a.val) for a in assignment])\n",
    "    if sat.check_consistency(candidate)[0] == True:\n",
    "        satisfiable.append(candidate)\n",
    "    else:\n",
    "        conflicts.append(candidate)\n",
    "\n",
    "print('conflicts',conflicts)\n",
    "print('satisfiable',satisfiable)\n",
    "\n"
   ]
  },
  {
   "cell_type": "code",
   "execution_count": null,
   "metadata": {},
   "outputs": [],
   "source": []
  },
  {
   "cell_type": "code",
   "execution_count": null,
   "metadata": {},
   "outputs": [],
   "source": []
  },
  {
   "cell_type": "code",
   "execution_count": 214,
   "metadata": {},
   "outputs": [
    {
     "data": {
      "text/plain": [
       "[[],\n",
       " ['T1'],\n",
       " ['¬T1'],\n",
       " ['R1'],\n",
       " ['¬R1'],\n",
       " ['P3'],\n",
       " ['¬P3'],\n",
       " ['T1', 'R1'],\n",
       " ['T1', '¬R1'],\n",
       " ['T1', 'P3'],\n",
       " ['T1', '¬P3'],\n",
       " ['¬T1', 'R1'],\n",
       " ['¬T1', '¬R1'],\n",
       " ['¬T1', 'P3'],\n",
       " ['¬T1', '¬P3'],\n",
       " ['R1', 'P3'],\n",
       " ['R1', '¬P3'],\n",
       " ['¬R1', 'P3'],\n",
       " ['¬R1', '¬P3'],\n",
       " ['T1', 'R1', 'P3'],\n",
       " ['T1', 'R1', '¬P3'],\n",
       " ['T1', '¬R1', 'P3'],\n",
       " ['T1', '¬R1', '¬P3'],\n",
       " ['¬T1', 'R1', 'P3'],\n",
       " ['¬T1', 'R1', '¬P3'],\n",
       " ['¬T1', '¬R1', 'P3'],\n",
       " ['¬T1', '¬R1', '¬P3']]"
      ]
     },
     "execution_count": 214,
     "metadata": {},
     "output_type": "execute_result"
    }
   ],
   "source": [
    "reduced_set_string = []\n",
    "\n",
    "for v in full_set:\n",
    "    if len(v) == len(set([a.var for a in v])):\n",
    "        reduced_set_string.append([a.__str__() for a in v])\n",
    "\n",
    "reduced_set_string\n"
   ]
  },
  {
   "cell_type": "code",
   "execution_count": null,
   "metadata": {},
   "outputs": [],
   "source": []
  },
  {
   "cell_type": "code",
   "execution_count": 215,
   "metadata": {},
   "outputs": [
    {
     "data": {
      "text/plain": [
       "{frozenset({'T1'}): [['T1', 'R1'],\n",
       "  ['T1', '¬R1'],\n",
       "  ['T1', 'P3'],\n",
       "  ['T1', '¬P3'],\n",
       "  ['T1', 'R1', 'P3'],\n",
       "  ['T1', 'R1', '¬P3'],\n",
       "  ['T1', '¬R1', 'P3'],\n",
       "  ['T1', '¬R1', '¬P3']],\n",
       " frozenset({'¬T1'}): [['¬T1', 'R1'],\n",
       "  ['¬T1', '¬R1'],\n",
       "  ['¬T1', 'P3'],\n",
       "  ['¬T1', '¬P3'],\n",
       "  ['¬T1', 'R1', 'P3'],\n",
       "  ['¬T1', 'R1', '¬P3'],\n",
       "  ['¬T1', '¬R1', 'P3'],\n",
       "  ['¬T1', '¬R1', '¬P3']],\n",
       " frozenset({'R1'}): [['T1', 'R1'],\n",
       "  ['¬T1', 'R1'],\n",
       "  ['R1', 'P3'],\n",
       "  ['R1', '¬P3'],\n",
       "  ['T1', 'R1', 'P3'],\n",
       "  ['T1', 'R1', '¬P3'],\n",
       "  ['¬T1', 'R1', 'P3'],\n",
       "  ['¬T1', 'R1', '¬P3']],\n",
       " frozenset({'¬R1'}): [['T1', '¬R1'],\n",
       "  ['¬T1', '¬R1'],\n",
       "  ['¬R1', 'P3'],\n",
       "  ['¬R1', '¬P3'],\n",
       "  ['T1', '¬R1', 'P3'],\n",
       "  ['T1', '¬R1', '¬P3'],\n",
       "  ['¬T1', '¬R1', 'P3'],\n",
       "  ['¬T1', '¬R1', '¬P3']],\n",
       " frozenset({'P3'}): [['T1', 'P3'],\n",
       "  ['¬T1', 'P3'],\n",
       "  ['R1', 'P3'],\n",
       "  ['¬R1', 'P3'],\n",
       "  ['T1', 'R1', 'P3'],\n",
       "  ['T1', '¬R1', 'P3'],\n",
       "  ['¬T1', 'R1', 'P3'],\n",
       "  ['¬T1', '¬R1', 'P3']],\n",
       " frozenset({'¬P3'}): [['T1', '¬P3'],\n",
       "  ['¬T1', '¬P3'],\n",
       "  ['R1', '¬P3'],\n",
       "  ['¬R1', '¬P3'],\n",
       "  ['T1', 'R1', '¬P3'],\n",
       "  ['T1', '¬R1', '¬P3'],\n",
       "  ['¬T1', 'R1', '¬P3'],\n",
       "  ['¬T1', '¬R1', '¬P3']],\n",
       " frozenset({'R1', 'T1'}): [['T1', 'R1', 'P3'], ['T1', 'R1', '¬P3']],\n",
       " frozenset({'T1', '¬R1'}): [['T1', '¬R1', 'P3'], ['T1', '¬R1', '¬P3']],\n",
       " frozenset({'P3', 'T1'}): [['T1', 'R1', 'P3'], ['T1', '¬R1', 'P3']],\n",
       " frozenset({'T1', '¬P3'}): [['T1', 'R1', '¬P3'], ['T1', '¬R1', '¬P3']],\n",
       " frozenset({'R1', '¬T1'}): [['¬T1', 'R1', 'P3'], ['¬T1', 'R1', '¬P3']],\n",
       " frozenset({'¬R1', '¬T1'}): [['¬T1', '¬R1', 'P3'], ['¬T1', '¬R1', '¬P3']],\n",
       " frozenset({'P3', '¬T1'}): [['¬T1', 'R1', 'P3'], ['¬T1', '¬R1', 'P3']],\n",
       " frozenset({'¬P3', '¬T1'}): [['¬T1', 'R1', '¬P3'], ['¬T1', '¬R1', '¬P3']],\n",
       " frozenset({'P3', 'R1'}): [['T1', 'R1', 'P3'], ['¬T1', 'R1', 'P3']],\n",
       " frozenset({'R1', '¬P3'}): [['T1', 'R1', '¬P3'], ['¬T1', 'R1', '¬P3']],\n",
       " frozenset({'P3', '¬R1'}): [['T1', '¬R1', 'P3'], ['¬T1', '¬R1', 'P3']],\n",
       " frozenset({'¬P3', '¬R1'}): [['T1', '¬R1', '¬P3'], ['¬T1', '¬R1', '¬P3']]}"
      ]
     },
     "execution_count": 215,
     "metadata": {},
     "output_type": "execute_result"
    }
   ],
   "source": [
    "children = {}\n",
    "\n",
    "for x in reduced_set_string:\n",
    "    for y in reduced_set_string:\n",
    "        if x != [] and x != y and all(a in y for a in x):\n",
    "            if frozenset(x) not in children:\n",
    "                children[frozenset(x)] = []\n",
    "                \n",
    "            children[frozenset(x)].append(y)\n",
    "\n",
    "children"
   ]
  },
  {
   "cell_type": "code",
   "execution_count": 216,
   "metadata": {},
   "outputs": [
    {
     "data": {
      "text/plain": [
       "[[],\n",
       " [T1],\n",
       " [¬T1],\n",
       " [R1],\n",
       " [¬R1],\n",
       " [P3],\n",
       " [¬P3],\n",
       " [T1, R1],\n",
       " [T1, ¬R1],\n",
       " [T1, P3],\n",
       " [T1, ¬P3],\n",
       " [¬T1, R1],\n",
       " [¬T1, ¬R1],\n",
       " [¬T1, P3],\n",
       " [¬T1, ¬P3],\n",
       " [R1, P3],\n",
       " [R1, ¬P3],\n",
       " [¬R1, P3],\n",
       " [¬R1, ¬P3],\n",
       " [T1, R1, P3],\n",
       " [T1, R1, ¬P3],\n",
       " [T1, ¬R1, P3],\n",
       " [T1, ¬R1, ¬P3],\n",
       " [¬T1, R1, P3],\n",
       " [¬T1, R1, ¬P3],\n",
       " [¬T1, ¬R1, P3],\n",
       " [¬T1, ¬R1, ¬P3]]"
      ]
     },
     "execution_count": 216,
     "metadata": {},
     "output_type": "execute_result"
    }
   ],
   "source": [
    "reduced_set"
   ]
  },
  {
   "cell_type": "code",
   "execution_count": 217,
   "metadata": {},
   "outputs": [
    {
     "data": {
      "text/plain": [
       "{frozenset({T1}): [frozenset({R1, T1}),\n",
       "  frozenset({T1, ¬R1}),\n",
       "  frozenset({P3, T1}),\n",
       "  frozenset({T1, ¬P3}),\n",
       "  frozenset({P3, R1, T1}),\n",
       "  frozenset({R1, T1, ¬P3}),\n",
       "  frozenset({P3, T1, ¬R1}),\n",
       "  frozenset({T1, ¬P3, ¬R1})],\n",
       " frozenset({¬T1}): [frozenset({R1, ¬T1}),\n",
       "  frozenset({¬R1, ¬T1}),\n",
       "  frozenset({P3, ¬T1}),\n",
       "  frozenset({¬P3, ¬T1}),\n",
       "  frozenset({P3, R1, ¬T1}),\n",
       "  frozenset({R1, ¬P3, ¬T1}),\n",
       "  frozenset({P3, ¬R1, ¬T1}),\n",
       "  frozenset({¬P3, ¬R1, ¬T1})],\n",
       " frozenset({R1}): [frozenset({R1, T1}),\n",
       "  frozenset({R1, ¬T1}),\n",
       "  frozenset({P3, R1}),\n",
       "  frozenset({R1, ¬P3}),\n",
       "  frozenset({P3, R1, T1}),\n",
       "  frozenset({R1, T1, ¬P3}),\n",
       "  frozenset({P3, R1, ¬T1}),\n",
       "  frozenset({R1, ¬P3, ¬T1})],\n",
       " frozenset({¬R1}): [frozenset({T1, ¬R1}),\n",
       "  frozenset({¬R1, ¬T1}),\n",
       "  frozenset({P3, ¬R1}),\n",
       "  frozenset({¬P3, ¬R1}),\n",
       "  frozenset({P3, T1, ¬R1}),\n",
       "  frozenset({T1, ¬P3, ¬R1}),\n",
       "  frozenset({P3, ¬R1, ¬T1}),\n",
       "  frozenset({¬P3, ¬R1, ¬T1})],\n",
       " frozenset({P3}): [frozenset({P3, T1}),\n",
       "  frozenset({P3, ¬T1}),\n",
       "  frozenset({P3, R1}),\n",
       "  frozenset({P3, ¬R1}),\n",
       "  frozenset({P3, R1, T1}),\n",
       "  frozenset({P3, T1, ¬R1}),\n",
       "  frozenset({P3, R1, ¬T1}),\n",
       "  frozenset({P3, ¬R1, ¬T1})],\n",
       " frozenset({¬P3}): [frozenset({T1, ¬P3}),\n",
       "  frozenset({¬P3, ¬T1}),\n",
       "  frozenset({R1, ¬P3}),\n",
       "  frozenset({¬P3, ¬R1}),\n",
       "  frozenset({R1, T1, ¬P3}),\n",
       "  frozenset({T1, ¬P3, ¬R1}),\n",
       "  frozenset({R1, ¬P3, ¬T1}),\n",
       "  frozenset({¬P3, ¬R1, ¬T1})],\n",
       " frozenset({R1, T1}): [frozenset({P3, R1, T1}), frozenset({R1, T1, ¬P3})],\n",
       " frozenset({T1, ¬R1}): [frozenset({P3, T1, ¬R1}), frozenset({T1, ¬P3, ¬R1})],\n",
       " frozenset({P3, T1}): [frozenset({P3, R1, T1}), frozenset({P3, T1, ¬R1})],\n",
       " frozenset({T1, ¬P3}): [frozenset({R1, T1, ¬P3}), frozenset({T1, ¬P3, ¬R1})],\n",
       " frozenset({R1, ¬T1}): [frozenset({P3, R1, ¬T1}), frozenset({R1, ¬P3, ¬T1})],\n",
       " frozenset({¬R1, ¬T1}): [frozenset({P3, ¬R1, ¬T1}),\n",
       "  frozenset({¬P3, ¬R1, ¬T1})],\n",
       " frozenset({P3, ¬T1}): [frozenset({P3, R1, ¬T1}), frozenset({P3, ¬R1, ¬T1})],\n",
       " frozenset({¬P3, ¬T1}): [frozenset({R1, ¬P3, ¬T1}),\n",
       "  frozenset({¬P3, ¬R1, ¬T1})],\n",
       " frozenset({P3, R1}): [frozenset({P3, R1, T1}), frozenset({P3, R1, ¬T1})],\n",
       " frozenset({R1, ¬P3}): [frozenset({R1, T1, ¬P3}), frozenset({R1, ¬P3, ¬T1})],\n",
       " frozenset({P3, ¬R1}): [frozenset({P3, T1, ¬R1}), frozenset({P3, ¬R1, ¬T1})],\n",
       " frozenset({¬P3, ¬R1}): [frozenset({T1, ¬P3, ¬R1}),\n",
       "  frozenset({¬P3, ¬R1, ¬T1})]}"
      ]
     },
     "execution_count": 217,
     "metadata": {},
     "output_type": "execute_result"
    }
   ],
   "source": [
    "children = {}\n",
    "\n",
    "for x in reduced_set:\n",
    "    for y in reduced_set:\n",
    "        if x != [] and [v.__str__() for v in x] != [v.__str__() for v in y] and all(a in [v.__str__() for v in y] for a in [v.__str__() for v in x]):\n",
    "            if frozenset(x) not in children:\n",
    "                children[frozenset(x)] = []\n",
    "                \n",
    "            children[frozenset(x)].append(frozenset(y))\n",
    "\n",
    "children"
   ]
  },
  {
   "cell_type": "code",
   "execution_count": 218,
   "metadata": {},
   "outputs": [],
   "source": [
    "def is_conflict(sat, candidate):\n",
    "    return not sat.check_consistency(candidate)[0]"
   ]
  },
  {
   "cell_type": "code",
   "execution_count": 219,
   "metadata": {},
   "outputs": [],
   "source": [
    "def is_valid_benchmark(candidate, sat):\n",
    "    childCandidateList = children[(candidate)]\n",
    "    for child in childCandidateList:\n",
    "        if is_conflict(sat, child):\n",
    "            return False\n",
    "    return True\n"
   ]
  },
  {
   "cell_type": "code",
   "execution_count": 220,
   "metadata": {},
   "outputs": [
    {
     "data": {
      "text/plain": [
       "[[],\n",
       " [T1],\n",
       " [¬T1],\n",
       " [R1],\n",
       " [¬R1],\n",
       " [P3],\n",
       " [¬P3],\n",
       " [T1, R1],\n",
       " [T1, ¬R1],\n",
       " [T1, P3],\n",
       " [T1, ¬P3],\n",
       " [¬T1, R1],\n",
       " [¬T1, ¬R1],\n",
       " [¬T1, P3],\n",
       " [¬T1, ¬P3],\n",
       " [R1, P3],\n",
       " [R1, ¬P3],\n",
       " [¬R1, P3],\n",
       " [¬R1, ¬P3],\n",
       " [T1, R1, P3],\n",
       " [T1, R1, ¬P3],\n",
       " [T1, ¬R1, P3],\n",
       " [T1, ¬R1, ¬P3],\n",
       " [¬T1, R1, P3],\n",
       " [¬T1, R1, ¬P3],\n",
       " [¬T1, ¬R1, P3],\n",
       " [¬T1, ¬R1, ¬P3]]"
      ]
     },
     "execution_count": 220,
     "metadata": {},
     "output_type": "execute_result"
    }
   ],
   "source": [
    "reduced_set"
   ]
  },
  {
   "cell_type": "code",
   "execution_count": 221,
   "metadata": {},
   "outputs": [
    {
     "name": "stdout",
     "output_type": "stream",
     "text": [
      "minimal_conflicts [frozenset({¬R1, T1}), frozenset({T1, ¬P3}), frozenset({P3, R1, ¬T1})]\n",
      "conflicts [frozenset({R1, T1, ¬P3}), frozenset({P3, ¬R1, T1}), frozenset({¬R1, T1, ¬P3})]\n",
      "satisfiable [frozenset(), frozenset({T1}), frozenset({¬T1}), frozenset({R1}), frozenset({¬R1}), frozenset({P3}), frozenset({¬P3}), frozenset({R1, T1}), frozenset({P3, T1}), frozenset({R1, ¬T1}), frozenset({P3, ¬T1}), frozenset({P3, R1}), frozenset({R1, ¬P3}), frozenset({P3, ¬R1}), frozenset({¬R1, ¬P3})]\n",
      "prime_implicants [frozenset({¬T1, ¬R1}), frozenset({¬T1, ¬P3}), frozenset({P3, R1, T1})]\n",
      "implicants [frozenset({R1, ¬T1, ¬P3}), frozenset({P3, ¬T1, ¬R1}), frozenset({¬T1, ¬R1, ¬P3})]\n"
     ]
    }
   ],
   "source": [
    "minimal_conflicts = []\n",
    "conflicts = []\n",
    "satisfiable = []\n",
    "prime_implicants = []\n",
    "implicants = []\n",
    "\n",
    "\n",
    "for assignment in reduced_set:\n",
    "    candidate = frozenset([p.get_variable(a.var.__str__()).get_assignment(a.val) for a in assignment])\n",
    "\n",
    "    prune = False\n",
    "\n",
    "    \n",
    "    if candidate in children and is_valid_benchmark(candidate, sat) and not any(S.issubset(candidate) for S in prime_implicants):\n",
    "        #print('children',children[frozenset([p.get_variable(a.var.__str__()).get_assignment(a.val) for a in assignment])])\n",
    "        prime_implicants.append(candidate)\n",
    "\n",
    "\n",
    "    elif len(candidate) == len(Vs) and \\\n",
    "        sat.check_consistency(candidate)[0] and \\\n",
    "        not any(S.issubset(candidate) for S in prime_implicants):\n",
    "            prime_implicants.append(candidate)\n",
    "\n",
    "\n",
    "    elif not sat.check_consistency(candidate)[0] and \\\n",
    "        not any(S.issubset(candidate) for S in minimal_conflicts):\n",
    "            minimal_conflicts.append(candidate)\n",
    "\n",
    "\n",
    "    elif any(S.issubset(candidate) for S in prime_implicants):\n",
    "        implicants.append(candidate)\n",
    "\n",
    "\n",
    "    elif any(S.issubset(candidate) for S in minimal_conflicts):\n",
    "        conflicts.append(candidate)\n",
    "\n",
    "\n",
    "    elif sat.check_consistency(candidate)[0]:\n",
    "         satisfiable.append(candidate)\n",
    "\n",
    "\n",
    "print('minimal_conflicts',minimal_conflicts)\n",
    "print('conflicts',conflicts)\n",
    "print('satisfiable',satisfiable)\n",
    "print('prime_implicants',prime_implicants)\n",
    "print('implicants',implicants)\n"
   ]
  },
  {
   "cell_type": "code",
   "execution_count": null,
   "metadata": {},
   "outputs": [],
   "source": []
  }
 ],
 "metadata": {
  "kernelspec": {
   "display_name": "cogrob",
   "language": "python",
   "name": "python3"
  },
  "language_info": {
   "codemirror_mode": {
    "name": "ipython",
    "version": 3
   },
   "file_extension": ".py",
   "mimetype": "text/x-python",
   "name": "python",
   "nbconvert_exporter": "python",
   "pygments_lexer": "ipython3",
   "version": "3.10.8"
  },
  "orig_nbformat": 4
 },
 "nbformat": 4,
 "nbformat_minor": 2
}
