{
 "cells": [
  {
   "cell_type": "code",
   "execution_count": 1,
   "metadata": {},
   "outputs": [],
   "source": [
    "import sys\n",
    "sys.path.append('/Users/reginaceballos/Documents/MIT/2023 - Spring/6.8110 - Cognitive Robotics/Final project/cogrob-grand-challenge/Benchmark/')\n",
    "sys.path.append('/Users/reginaceballos/Documents/MIT/2023 - Spring/6.8110 - Cognitive Robotics/Final project/cogrob-grand-challenge/Benchmark/quine_mccluskey_algo')"
   ]
  },
  {
   "cell_type": "code",
   "execution_count": 2,
   "metadata": {},
   "outputs": [],
   "source": [
    "import time\n",
    "from quine_mccluskey_algo.quine_mccluskey import *\n",
    "from src.propositional_state_logic import *\n",
    "from src.sat_solver import *"
   ]
  },
  {
   "cell_type": "code",
   "execution_count": 3,
   "metadata": {},
   "outputs": [],
   "source": [
    "def quine_mccluskey(fileName: str) -> tuple:\n",
    "    start_time = time.time()\n",
    "    find_prime_implicants(fileName)\n",
    "    print(f\"quine_mccluskey {time.time() - start_time}, to run\")"
   ]
  },
  {
   "cell_type": "code",
   "execution_count": 6,
   "metadata": {},
   "outputs": [
    {
     "data": {
      "text/plain": [
       "(\"P3R1T1 + P3R1'T1' + P3'R1T1' + P3'R1'T1'\",\n",
       "   Term  P3  R1  T1  output\n",
       " 0    1   1   1   1       1\n",
       " 3    4   1   0   0       1\n",
       " 5    6   0   1   0       1\n",
       " 7    8   0   0   0       1,\n",
       " {'1': [1, 1, 1], '4,8': ['-', 0, 0], '6,8': [0, '-', 0]})"
      ]
     },
     "execution_count": 6,
     "metadata": {},
     "output_type": "execute_result"
    }
   ],
   "source": [
    "find_prime_implicants('/Users/reginaceballos/Documents/MIT/2023 - Spring/6.8110 - Cognitive Robotics/Final project/cogrob-grand-challenge/Benchmark/quine_mccluskey_algo/Thruster_Truth_Table_c.xlsx')"
   ]
  },
  {
   "cell_type": "code",
   "execution_count": 18,
   "metadata": {},
   "outputs": [],
   "source": []
  }
 ],
 "metadata": {
  "kernelspec": {
   "display_name": "cogrob",
   "language": "python",
   "name": "python3"
  },
  "language_info": {
   "codemirror_mode": {
    "name": "ipython",
    "version": 3
   },
   "file_extension": ".py",
   "mimetype": "text/x-python",
   "name": "python",
   "nbconvert_exporter": "python",
   "pygments_lexer": "ipython3",
   "version": "3.10.8"
  },
  "orig_nbformat": 4
 },
 "nbformat": 4,
 "nbformat_minor": 2
}
