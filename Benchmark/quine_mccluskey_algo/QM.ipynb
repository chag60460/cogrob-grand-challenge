{
 "cells": [
  {
   "cell_type": "code",
   "execution_count": 1,
   "metadata": {},
   "outputs": [],
   "source": [
    "from quine_mccluskey_algo.quine_mccluskey import *"
   ]
  },
  {
   "cell_type": "code",
   "execution_count": 2,
   "metadata": {},
   "outputs": [
    {
     "name": "stdout",
     "output_type": "stream",
     "text": [
      "Original Equation:  F1V1R1 \n",
      "\n",
      "New Equation:  F1V1R1\n"
     ]
    }
   ],
   "source": [
    "############### MAIN ##########################\n",
    "(originalEquation,newEquation) = find_min_expression('Test theories/Thruster_Theory_v4.xlsx')\n",
    "print(\"Original Equation: \", originalEquation,'\\n')\n",
    "print(\"New Equation: \", newEquation)\n",
    "#\n",
    "# find_conflicts(newEquation, \"System_Assignments.xlsx\")\n",
    "\n"
   ]
  },
  {
   "cell_type": "code",
   "execution_count": null,
   "metadata": {},
   "outputs": [],
   "source": []
  }
 ],
 "metadata": {
  "kernelspec": {
   "display_name": "cogrob",
   "language": "python",
   "name": "python3"
  },
  "language_info": {
   "codemirror_mode": {
    "name": "ipython",
    "version": 3
   },
   "file_extension": ".py",
   "mimetype": "text/x-python",
   "name": "python",
   "nbconvert_exporter": "python",
   "pygments_lexer": "ipython3",
   "version": "3.10.8"
  },
  "orig_nbformat": 4
 },
 "nbformat": 4,
 "nbformat_minor": 2
}
